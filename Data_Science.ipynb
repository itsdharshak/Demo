{
  "nbformat": 4,
  "nbformat_minor": 0,
  "metadata": {
    "colab": {
      "provenance": []
    },
    "kernelspec": {
      "name": "python3",
      "display_name": "Python 3"
    },
    "language_info": {
      "name": "python"
    }
  },
  "cells": [
    {
      "cell_type": "markdown",
      "source": [
        "# **30/08/2024**"
      ],
      "metadata": {
        "id": "q7GK-UIbzNP9"
      }
    },
    {
      "cell_type": "markdown",
      "source": [
        "# **Python Basics**"
      ],
      "metadata": {
        "id": "0L3OlhbQ3gHj"
      }
    },
    {
      "cell_type": "markdown",
      "source": [
        "# **Variables**"
      ],
      "metadata": {
        "id": "Ysy7skBA3moC"
      }
    },
    {
      "cell_type": "code",
      "source": [
        "a = 5\n",
        "print(a)"
      ],
      "metadata": {
        "colab": {
          "base_uri": "https://localhost:8080/"
        },
        "id": "JvcMe3bfxuLS",
        "outputId": "0856af15-7392-4661-b3b6-4318d2261666"
      },
      "execution_count": null,
      "outputs": [
        {
          "output_type": "stream",
          "name": "stdout",
          "text": [
            "5\n"
          ]
        }
      ]
    },
    {
      "cell_type": "markdown",
      "source": [
        "# **Keywords**"
      ],
      "metadata": {
        "id": "H9vyaSpv3SCl"
      }
    },
    {
      "cell_type": "code",
      "source": [
        "import keyword\n",
        "print(keyword.kwlist)"
      ],
      "metadata": {
        "colab": {
          "base_uri": "https://localhost:8080/"
        },
        "id": "EALY9Vacyp7m",
        "outputId": "bfffe4e8-176d-4b03-aeb5-7bb09606e9d4"
      },
      "execution_count": null,
      "outputs": [
        {
          "output_type": "stream",
          "name": "stdout",
          "text": [
            "['False', 'None', 'True', 'and', 'as', 'assert', 'async', 'await', 'break', 'class', 'continue', 'def', 'del', 'elif', 'else', 'except', 'finally', 'for', 'from', 'global', 'if', 'import', 'in', 'is', 'lambda', 'nonlocal', 'not', 'or', 'pass', 'raise', 'return', 'try', 'while', 'with', 'yield']\n"
          ]
        }
      ]
    },
    {
      "cell_type": "markdown",
      "source": [
        "# **Errors Occurs During Variable Assigning**"
      ],
      "metadata": {
        "id": "sXCA-5oC3s_0"
      }
    },
    {
      "cell_type": "code",
      "source": [
        "None = 1\n",
        "print(None)"
      ],
      "metadata": {
        "colab": {
          "base_uri": "https://localhost:8080/",
          "height": 106
        },
        "id": "VXPHczHqzQ6F",
        "outputId": "596e0b50-269c-42da-8e5a-d2132a186ea0"
      },
      "execution_count": null,
      "outputs": [
        {
          "output_type": "error",
          "ename": "SyntaxError",
          "evalue": "cannot assign to None (<ipython-input-3-b59d9c26ee36>, line 1)",
          "traceback": [
            "\u001b[0;36m  File \u001b[0;32m\"<ipython-input-3-b59d9c26ee36>\"\u001b[0;36m, line \u001b[0;32m1\u001b[0m\n\u001b[0;31m    None = 1\u001b[0m\n\u001b[0m    ^\u001b[0m\n\u001b[0;31mSyntaxError\u001b[0m\u001b[0;31m:\u001b[0m cannot assign to None\n"
          ]
        }
      ]
    },
    {
      "cell_type": "code",
      "source": [
        "2a = 90\n",
        "print(2a)"
      ],
      "metadata": {
        "colab": {
          "base_uri": "https://localhost:8080/",
          "height": 106
        },
        "id": "4E8dhCV8zgpp",
        "outputId": "5fbdd3b1-28a7-4934-9f16-eae810f9741d"
      },
      "execution_count": null,
      "outputs": [
        {
          "output_type": "error",
          "ename": "SyntaxError",
          "evalue": "invalid decimal literal (<ipython-input-4-d3f517c21185>, line 1)",
          "traceback": [
            "\u001b[0;36m  File \u001b[0;32m\"<ipython-input-4-d3f517c21185>\"\u001b[0;36m, line \u001b[0;32m1\u001b[0m\n\u001b[0;31m    2a = 90\u001b[0m\n\u001b[0m    ^\u001b[0m\n\u001b[0;31mSyntaxError\u001b[0m\u001b[0;31m:\u001b[0m invalid decimal literal\n"
          ]
        }
      ]
    },
    {
      "cell_type": "code",
      "source": [
        "a b = 5\n",
        "print(a b)"
      ],
      "metadata": {
        "colab": {
          "base_uri": "https://localhost:8080/",
          "height": 106
        },
        "id": "L55ynqt5zqZm",
        "outputId": "dfd5fd37-8024-484c-ed1d-d6ad8087b9c1"
      },
      "execution_count": null,
      "outputs": [
        {
          "output_type": "error",
          "ename": "SyntaxError",
          "evalue": "invalid syntax (<ipython-input-5-df707e6d8a8e>, line 1)",
          "traceback": [
            "\u001b[0;36m  File \u001b[0;32m\"<ipython-input-5-df707e6d8a8e>\"\u001b[0;36m, line \u001b[0;32m1\u001b[0m\n\u001b[0;31m    a b = 5\u001b[0m\n\u001b[0m      ^\u001b[0m\n\u001b[0;31mSyntaxError\u001b[0m\u001b[0;31m:\u001b[0m invalid syntax\n"
          ]
        }
      ]
    },
    {
      "cell_type": "code",
      "source": [
        "a_b = 10\n",
        "print(a_b)"
      ],
      "metadata": {
        "colab": {
          "base_uri": "https://localhost:8080/"
        },
        "id": "_rCZUOfQz4Kt",
        "outputId": "7317ee69-1eae-4b80-8eae-60f8f6f951b5"
      },
      "execution_count": null,
      "outputs": [
        {
          "output_type": "stream",
          "name": "stdout",
          "text": [
            "10\n"
          ]
        }
      ]
    },
    {
      "cell_type": "markdown",
      "source": [
        "# **Data Types in Python**"
      ],
      "metadata": {
        "id": "KRPmFCQt3Hf6"
      }
    },
    {
      "cell_type": "markdown",
      "source": [
        "# **Integer**"
      ],
      "metadata": {
        "id": "d8Dj9Iri27hY"
      }
    },
    {
      "cell_type": "code",
      "source": [
        "a = 5\n",
        "print(a)\n",
        "print(type(a))"
      ],
      "metadata": {
        "colab": {
          "base_uri": "https://localhost:8080/"
        },
        "id": "2BSypD_10KsM",
        "outputId": "cff2acee-da71-49b7-bc8f-bbe54dc115b1"
      },
      "execution_count": null,
      "outputs": [
        {
          "output_type": "stream",
          "name": "stdout",
          "text": [
            "5\n",
            "<class 'int'>\n"
          ]
        }
      ]
    },
    {
      "cell_type": "markdown",
      "source": [
        "# **String**"
      ],
      "metadata": {
        "id": "OLTqjuUg22nx"
      }
    },
    {
      "cell_type": "code",
      "source": [
        " gg = \"4\"\n",
        " print(gg)\n",
        " print(type(gg))"
      ],
      "metadata": {
        "colab": {
          "base_uri": "https://localhost:8080/"
        },
        "id": "JRKe1PHw1G4M",
        "outputId": "f8b5b40b-81e9-4da5-c406-8956d38ca1c4"
      },
      "execution_count": null,
      "outputs": [
        {
          "output_type": "stream",
          "name": "stdout",
          "text": [
            "4\n",
            "<class 'str'>\n"
          ]
        }
      ]
    },
    {
      "cell_type": "code",
      "source": [
        "hh = \"Dharshak Kumar\"\n",
        "print(hh)\n",
        "print(type(hh))\n"
      ],
      "metadata": {
        "colab": {
          "base_uri": "https://localhost:8080/"
        },
        "id": "iYjxCf3o1fzX",
        "outputId": "9eca6bcf-68a8-4e00-d559-d0dfeef7b21e"
      },
      "execution_count": null,
      "outputs": [
        {
          "output_type": "stream",
          "name": "stdout",
          "text": [
            "Dharshak Kumar\n",
            "<class 'str'>\n"
          ]
        }
      ]
    },
    {
      "cell_type": "code",
      "source": [
        "dum = \"   \"\n",
        "print(dum)\n",
        "print(type(dum))"
      ],
      "metadata": {
        "colab": {
          "base_uri": "https://localhost:8080/"
        },
        "id": "_2RL7CI31wPQ",
        "outputId": "8808c342-0067-43bf-c11c-44e3eecb6ee6"
      },
      "execution_count": null,
      "outputs": [
        {
          "output_type": "stream",
          "name": "stdout",
          "text": [
            "   \n",
            "<class 'str'>\n"
          ]
        }
      ]
    },
    {
      "cell_type": "markdown",
      "source": [
        "# **Float**"
      ],
      "metadata": {
        "id": "o0yWuAxL2NXr"
      }
    },
    {
      "cell_type": "code",
      "source": [
        "var1 = 3.14\n",
        "print(var1)\n",
        "print(type(var1))"
      ],
      "metadata": {
        "colab": {
          "base_uri": "https://localhost:8080/"
        },
        "id": "aciIxYrX1zAd",
        "outputId": "a96b2aa3-8aa2-4cdd-fa84-cd45eced695a"
      },
      "execution_count": null,
      "outputs": [
        {
          "output_type": "stream",
          "name": "stdout",
          "text": [
            "3.14\n",
            "<class 'float'>\n"
          ]
        }
      ]
    },
    {
      "cell_type": "code",
      "source": [
        "var1 = \"3.14\"\n",
        "print(var1)\n",
        "print(type(var1))"
      ],
      "metadata": {
        "colab": {
          "base_uri": "https://localhost:8080/"
        },
        "id": "NaLR9mNv2cxQ",
        "outputId": "608054f5-1e66-4951-bcb2-80c023bfac9b"
      },
      "execution_count": null,
      "outputs": [
        {
          "output_type": "stream",
          "name": "stdout",
          "text": [
            "3.14\n",
            "<class 'str'>\n"
          ]
        }
      ]
    },
    {
      "cell_type": "markdown",
      "source": [
        "# **Boolean**"
      ],
      "metadata": {
        "id": "6Evj1nE82hLf"
      }
    },
    {
      "cell_type": "code",
      "source": [
        "var_1 = True\n",
        "print(var_1)\n",
        "print(type(var_1))"
      ],
      "metadata": {
        "colab": {
          "base_uri": "https://localhost:8080/"
        },
        "id": "IjqMBmSg2jyr",
        "outputId": "988fd342-9e3d-4f7b-9c9c-ea2b231794df"
      },
      "execution_count": null,
      "outputs": [
        {
          "output_type": "stream",
          "name": "stdout",
          "text": [
            "True\n",
            "<class 'bool'>\n"
          ]
        }
      ]
    },
    {
      "cell_type": "markdown",
      "source": [
        "# **Operators**"
      ],
      "metadata": {
        "id": "gQdGQOg44QXl"
      }
    },
    {
      "cell_type": "markdown",
      "source": [
        "# **Arithmetic Operators**"
      ],
      "metadata": {
        "id": "pqRrvy9E9ML4"
      }
    },
    {
      "cell_type": "code",
      "source": [
        "#Arithmetic Operators\n",
        "# -> + Addition\n",
        "# -> - Subtraction\n",
        "# -> * Multiplication\n",
        "# -> / Division\n",
        "# -> // Floor Division\n",
        "# -> % Modulus\n",
        "# -> ** Exponentiation\n"
      ],
      "metadata": {
        "id": "_cYSL8a14TXX"
      },
      "execution_count": null,
      "outputs": []
    },
    {
      "cell_type": "code",
      "source": [
        "# Addition\n",
        "\n",
        "a = 5\n",
        "b = 3\n",
        "c = a + b\n",
        "print(c)"
      ],
      "metadata": {
        "colab": {
          "base_uri": "https://localhost:8080/"
        },
        "id": "_o7Er9Sh4zhD",
        "outputId": "f86af7a3-fd2f-49da-cd02-a54e6c393e03"
      },
      "execution_count": null,
      "outputs": [
        {
          "output_type": "stream",
          "name": "stdout",
          "text": [
            "8\n"
          ]
        }
      ]
    },
    {
      "cell_type": "code",
      "source": [
        "# Subtraction\n",
        "\n",
        "a = 5\n",
        "b = 3\n",
        "c = a - b\n",
        "print(c)"
      ],
      "metadata": {
        "colab": {
          "base_uri": "https://localhost:8080/"
        },
        "id": "BcKzRjqx5ETk",
        "outputId": "aec5a14c-c9ed-43ac-ed55-aa9d7b8834d7"
      },
      "execution_count": null,
      "outputs": [
        {
          "output_type": "stream",
          "name": "stdout",
          "text": [
            "2\n"
          ]
        }
      ]
    },
    {
      "cell_type": "code",
      "source": [
        "# Multiplication\n",
        "\n",
        "a = 5\n",
        "b = 3\n",
        "c = a * b\n",
        "print(c)"
      ],
      "metadata": {
        "colab": {
          "base_uri": "https://localhost:8080/"
        },
        "id": "TvdQrqJy5MR3",
        "outputId": "b396b265-ae6b-4060-9189-3f7c7ff60416"
      },
      "execution_count": null,
      "outputs": [
        {
          "output_type": "stream",
          "name": "stdout",
          "text": [
            "15\n"
          ]
        }
      ]
    },
    {
      "cell_type": "code",
      "source": [
        "# Division\n",
        "\n",
        "a = 5\n",
        "b = 3\n",
        "c = a / b\n",
        "print(c)"
      ],
      "metadata": {
        "colab": {
          "base_uri": "https://localhost:8080/"
        },
        "id": "Az3ec_9s5Y7u",
        "outputId": "86e4aa87-bb15-43c6-c566-1c54e1a158df"
      },
      "execution_count": null,
      "outputs": [
        {
          "output_type": "stream",
          "name": "stdout",
          "text": [
            "1.6666666666666667\n"
          ]
        }
      ]
    },
    {
      "cell_type": "code",
      "source": [
        "# Floor Division\n",
        "\n",
        "a = 5\n",
        "b = 3\n",
        "c = a // b\n",
        "print(c)"
      ],
      "metadata": {
        "colab": {
          "base_uri": "https://localhost:8080/"
        },
        "id": "H6JNIN_V5oc6",
        "outputId": "dd0456ac-2cb1-4d02-9f5e-ae7030c7d088"
      },
      "execution_count": null,
      "outputs": [
        {
          "output_type": "stream",
          "name": "stdout",
          "text": [
            "1\n"
          ]
        }
      ]
    },
    {
      "cell_type": "code",
      "source": [
        "# Modulus\n",
        "\n",
        "a = 5\n",
        "b = 3\n",
        "c = a // b\n",
        "print(c)"
      ],
      "metadata": {
        "colab": {
          "base_uri": "https://localhost:8080/"
        },
        "id": "6sc6HX_96Ku5",
        "outputId": "ed830c0a-9277-4c17-d3f8-10d00ec2981d"
      },
      "execution_count": null,
      "outputs": [
        {
          "output_type": "stream",
          "name": "stdout",
          "text": [
            "1\n"
          ]
        }
      ]
    },
    {
      "cell_type": "code",
      "source": [
        "# Exponentiation\n",
        "\n",
        "a = 5\n",
        "b = 3\n",
        "c = a ** b\n",
        "print(c)"
      ],
      "metadata": {
        "colab": {
          "base_uri": "https://localhost:8080/"
        },
        "id": "dfyiXWke6PVL",
        "outputId": "8870450b-2117-4b45-bc4c-d573691b38ff"
      },
      "execution_count": null,
      "outputs": [
        {
          "output_type": "stream",
          "name": "stdout",
          "text": [
            "125\n"
          ]
        }
      ]
    },
    {
      "cell_type": "code",
      "source": [
        "a = 5 * 5 * 5\n",
        "print(a)"
      ],
      "metadata": {
        "colab": {
          "base_uri": "https://localhost:8080/"
        },
        "id": "FLwK-hOs6pUU",
        "outputId": "3c2a4b64-4db1-41e5-ff9d-f4a44123d508"
      },
      "execution_count": null,
      "outputs": [
        {
          "output_type": "stream",
          "name": "stdout",
          "text": [
            "125\n"
          ]
        }
      ]
    },
    {
      "cell_type": "markdown",
      "source": [
        "# **Assignment Operators**"
      ],
      "metadata": {
        "id": "dAk5RerE9QvQ"
      }
    },
    {
      "cell_type": "code",
      "source": [
        "#Assignment Operators\n",
        "# = -> Equal To\n",
        "# += -> Plus Equal To\n",
        "# -= -> Minus Equal To\n",
        "# *= -> Multiply Equal To\n",
        "# /= -> Division Equal To\n",
        "# //= -> Floor Division Equal To\n",
        "# %= -> Modulus Equal To\n",
        "# **= -> Exponentition Equal To"
      ],
      "metadata": {
        "id": "pzE3EEsy7AkP"
      },
      "execution_count": null,
      "outputs": []
    },
    {
      "cell_type": "code",
      "source": [
        "# Equal To\n",
        "a = 5"
      ],
      "metadata": {
        "id": "T8m_mUHT8E_r"
      },
      "execution_count": null,
      "outputs": []
    },
    {
      "cell_type": "code",
      "source": [
        "# Plus Equal To\n",
        "\n",
        "a = 56\n",
        "b = 45\n",
        "\n",
        "a += b # a = a + b\n",
        "print(a)"
      ],
      "metadata": {
        "colab": {
          "base_uri": "https://localhost:8080/"
        },
        "id": "qctNssLn73Rz",
        "outputId": "dd7eefce-fc26-498d-c384-f3a9e0484653"
      },
      "execution_count": null,
      "outputs": [
        {
          "output_type": "stream",
          "name": "stdout",
          "text": [
            "101\n"
          ]
        }
      ]
    },
    {
      "cell_type": "code",
      "source": [
        "# Minus Equal To\n",
        "a = 56\n",
        "b = 45\n",
        "\n",
        "a -= b # a = a - b\n",
        "print(a)"
      ],
      "metadata": {
        "colab": {
          "base_uri": "https://localhost:8080/"
        },
        "id": "QHUUdQTo8Vku",
        "outputId": "02b3f94d-c4c8-49c0-fc75-a740f421ce02"
      },
      "execution_count": null,
      "outputs": [
        {
          "output_type": "stream",
          "name": "stdout",
          "text": [
            "11\n"
          ]
        }
      ]
    },
    {
      "cell_type": "code",
      "source": [
        "# Multiply Equal To\n",
        "a = 56\n",
        "b = 45\n",
        "\n",
        "a *= b # a = a * b\n",
        "print(a)"
      ],
      "metadata": {
        "colab": {
          "base_uri": "https://localhost:8080/"
        },
        "id": "4U21Ji_o8ayV",
        "outputId": "ee601eaa-8e23-4f12-9067-932f59e3eeed"
      },
      "execution_count": null,
      "outputs": [
        {
          "output_type": "stream",
          "name": "stdout",
          "text": [
            "2520\n"
          ]
        }
      ]
    },
    {
      "cell_type": "code",
      "source": [
        "# Division Equal To\n",
        "a = 56\n",
        "b = 45\n",
        "\n",
        "a /= b # a = a / b\n",
        "print(a)"
      ],
      "metadata": {
        "colab": {
          "base_uri": "https://localhost:8080/"
        },
        "id": "GwiVa9L88bWy",
        "outputId": "76010b52-c0ba-42ad-ad17-2c2a3381d22e"
      },
      "execution_count": null,
      "outputs": [
        {
          "output_type": "stream",
          "name": "stdout",
          "text": [
            "1.2444444444444445\n"
          ]
        }
      ]
    },
    {
      "cell_type": "code",
      "source": [
        "# Floor Division Equal To\n",
        "a = 56\n",
        "b = 45\n",
        "\n",
        "a //= b # a = a // b\n",
        "print(a)"
      ],
      "metadata": {
        "colab": {
          "base_uri": "https://localhost:8080/"
        },
        "id": "mlr-T_K98b0a",
        "outputId": "e41f835b-83ec-4c95-9b21-2080e443959c"
      },
      "execution_count": null,
      "outputs": [
        {
          "output_type": "stream",
          "name": "stdout",
          "text": [
            "1\n"
          ]
        }
      ]
    },
    {
      "cell_type": "code",
      "source": [
        "# Modulus Equal To\n",
        "a = 56\n",
        "b = 45\n",
        "\n",
        "a %= b # a = a % b\n",
        "print(a)"
      ],
      "metadata": {
        "colab": {
          "base_uri": "https://localhost:8080/"
        },
        "id": "-ALe_k4d8cz3",
        "outputId": "619567d5-0cf7-4207-c2cb-5f613bc29ed6"
      },
      "execution_count": null,
      "outputs": [
        {
          "output_type": "stream",
          "name": "stdout",
          "text": [
            "11\n"
          ]
        }
      ]
    },
    {
      "cell_type": "code",
      "source": [
        "# Exponentition Equal To\n",
        "a = 5\n",
        "b = 4\n",
        "\n",
        "a **= b # a = a ** b\n",
        "print(a)"
      ],
      "metadata": {
        "colab": {
          "base_uri": "https://localhost:8080/"
        },
        "id": "2D-rGurJ8_9w",
        "outputId": "9bd2ac1b-482b-4ba6-b5b4-7e8b475106cb"
      },
      "execution_count": null,
      "outputs": [
        {
          "output_type": "stream",
          "name": "stdout",
          "text": [
            "625\n"
          ]
        }
      ]
    },
    {
      "cell_type": "markdown",
      "source": [
        "# **Input Function**"
      ],
      "metadata": {
        "id": "Pu2efnNF9Yby"
      }
    },
    {
      "cell_type": "code",
      "source": [
        "a = input()\n",
        "b = input()\n",
        "c = a + b\n",
        "print(type(a))\n",
        "print(type(b))\n",
        "print(c)"
      ],
      "metadata": {
        "colab": {
          "base_uri": "https://localhost:8080/"
        },
        "id": "N-b-nCrv9YO7",
        "outputId": "5ac4e994-af70-498a-ab1e-44998814628c"
      },
      "execution_count": null,
      "outputs": [
        {
          "output_type": "stream",
          "name": "stdout",
          "text": [
            "5\n",
            "5\n",
            "55\n",
            "<class 'str'>\n",
            "<class 'str'>\n"
          ]
        }
      ]
    },
    {
      "cell_type": "markdown",
      "source": [
        "# **Type Conversion**"
      ],
      "metadata": {
        "id": "hJptr84y-wTg"
      }
    },
    {
      "cell_type": "code",
      "source": [
        "a = int(input(\"Enter Value of A \")) #Type Conversion\n",
        "b = int(input(\"Enter Value of B \"))\n",
        "c = a + b\n",
        "print(type(a))\n",
        "print(type(b))\n",
        "print(f\"Sum is\",c)"
      ],
      "metadata": {
        "colab": {
          "base_uri": "https://localhost:8080/"
        },
        "id": "q0NpH7DL-KXu",
        "outputId": "764b61ce-a399-4eb5-8fdd-5174df5edba3"
      },
      "execution_count": null,
      "outputs": [
        {
          "output_type": "stream",
          "name": "stdout",
          "text": [
            "Enter Value of A 5\n",
            "Enter Value of B 5\n",
            "<class 'int'>\n",
            "<class 'int'>\n",
            "Sum is 10\n"
          ]
        }
      ]
    },
    {
      "cell_type": "markdown",
      "source": [
        "# **Comparison Operators**"
      ],
      "metadata": {
        "id": "ON6LdjuU_LbQ"
      }
    },
    {
      "cell_type": "code",
      "source": [
        "#Comparison Operators\n",
        "# == -> Equal To Equal To\n",
        "# > -> Greater Than\n",
        "# < -> Less Than\n",
        "# <= -> Less Than Equal To\n",
        "# >= -> Greater Than Equal To\n",
        "# != -> Not Equal To"
      ],
      "metadata": {
        "id": "oChBuur__K0Q"
      },
      "execution_count": null,
      "outputs": []
    },
    {
      "cell_type": "code",
      "source": [
        "# Equal To Equal To\n",
        "a = 132\n",
        "a == 132"
      ],
      "metadata": {
        "colab": {
          "base_uri": "https://localhost:8080/"
        },
        "id": "bWaJlPZ4_sLj",
        "outputId": "64b8af6c-190f-4eef-b425-8c79e0d5e676"
      },
      "execution_count": null,
      "outputs": [
        {
          "output_type": "execute_result",
          "data": {
            "text/plain": [
              "True"
            ]
          },
          "metadata": {},
          "execution_count": 44
        }
      ]
    },
    {
      "cell_type": "code",
      "source": [
        "# Less Than Equal To\n",
        "a = 142\n",
        "a <= 141"
      ],
      "metadata": {
        "colab": {
          "base_uri": "https://localhost:8080/"
        },
        "id": "QbVfBqCnAEXG",
        "outputId": "142148e6-735b-4c13-beff-2f4a55e484b0"
      },
      "execution_count": null,
      "outputs": [
        {
          "output_type": "execute_result",
          "data": {
            "text/plain": [
              "False"
            ]
          },
          "metadata": {},
          "execution_count": 45
        }
      ]
    },
    {
      "cell_type": "code",
      "source": [
        "# Greater Than Equal To\n",
        "a = 153\n",
        "a >= 178"
      ],
      "metadata": {
        "colab": {
          "base_uri": "https://localhost:8080/"
        },
        "id": "VP9usnSFAR5v",
        "outputId": "ed20858d-a2d6-4ca8-d2a5-689a5bc81c19"
      },
      "execution_count": null,
      "outputs": [
        {
          "output_type": "execute_result",
          "data": {
            "text/plain": [
              "False"
            ]
          },
          "metadata": {},
          "execution_count": 46
        }
      ]
    },
    {
      "cell_type": "code",
      "source": [
        "# Greater Than\n",
        "a = 132\n",
        "a > 122"
      ],
      "metadata": {
        "colab": {
          "base_uri": "https://localhost:8080/"
        },
        "id": "DmbrVS9rA4Go",
        "outputId": "e273a9a4-8ba4-4174-b4d7-6f63dacfd4d8"
      },
      "execution_count": null,
      "outputs": [
        {
          "output_type": "execute_result",
          "data": {
            "text/plain": [
              "True"
            ]
          },
          "metadata": {},
          "execution_count": 47
        }
      ]
    },
    {
      "cell_type": "code",
      "source": [
        "# Less Than\n",
        "a = 1322\n",
        "a < 1555"
      ],
      "metadata": {
        "colab": {
          "base_uri": "https://localhost:8080/"
        },
        "id": "4ZC5Adc-A-M-",
        "outputId": "4e6f9af2-b849-46b9-c16f-bdd7b45d7b6e"
      },
      "execution_count": null,
      "outputs": [
        {
          "output_type": "execute_result",
          "data": {
            "text/plain": [
              "True"
            ]
          },
          "metadata": {},
          "execution_count": 48
        }
      ]
    },
    {
      "cell_type": "code",
      "source": [
        "# Not Equal To\n",
        "a = 90\n",
        "a != 100"
      ],
      "metadata": {
        "colab": {
          "base_uri": "https://localhost:8080/"
        },
        "id": "u694tExBBLDm",
        "outputId": "c6b23ae4-ae03-46c5-fccd-2518a2047d87"
      },
      "execution_count": null,
      "outputs": [
        {
          "output_type": "execute_result",
          "data": {
            "text/plain": [
              "True"
            ]
          },
          "metadata": {},
          "execution_count": 49
        }
      ]
    },
    {
      "cell_type": "markdown",
      "source": [
        "# **Logical Operators**"
      ],
      "metadata": {
        "id": "oB-gbhu4DCip"
      }
    },
    {
      "cell_type": "code",
      "source": [
        "#Logical Operators\n",
        "# and\n",
        "# or\n",
        "# not"
      ],
      "metadata": {
        "id": "mJ0RiT_IC-sj"
      },
      "execution_count": null,
      "outputs": []
    },
    {
      "cell_type": "code",
      "source": [
        "# and\n",
        "a = 10\n",
        "a < 20 and a == 10 # Satisfies All Conditions"
      ],
      "metadata": {
        "colab": {
          "base_uri": "https://localhost:8080/"
        },
        "id": "VdlSGrhQDNXn",
        "outputId": "918415cc-05c4-49aa-8f7e-8599a808344a"
      },
      "execution_count": null,
      "outputs": [
        {
          "output_type": "execute_result",
          "data": {
            "text/plain": [
              "True"
            ]
          },
          "metadata": {},
          "execution_count": 50
        }
      ]
    },
    {
      "cell_type": "code",
      "source": [
        "# or\n",
        "a = 10\n",
        "a < 20 and a == 11 # Satisfies Either One of the Conditions"
      ],
      "metadata": {
        "colab": {
          "base_uri": "https://localhost:8080/"
        },
        "id": "d6x2n-8iEBv4",
        "outputId": "30ed25de-affe-4bf0-bf99-6231a1270119"
      },
      "execution_count": null,
      "outputs": [
        {
          "output_type": "execute_result",
          "data": {
            "text/plain": [
              "False"
            ]
          },
          "metadata": {},
          "execution_count": 51
        }
      ]
    },
    {
      "cell_type": "code",
      "source": [
        "# not\n",
        "a = 10\n",
        "not a < 20"
      ],
      "metadata": {
        "colab": {
          "base_uri": "https://localhost:8080/"
        },
        "id": "DqEbYsM6EQDN",
        "outputId": "d3ce26c2-ca7d-40da-e2e1-8b5e820c06e9"
      },
      "execution_count": null,
      "outputs": [
        {
          "output_type": "execute_result",
          "data": {
            "text/plain": [
              "False"
            ]
          },
          "metadata": {},
          "execution_count": 53
        }
      ]
    },
    {
      "cell_type": "markdown",
      "source": [
        "# **02/09/2024**"
      ],
      "metadata": {
        "id": "rOb8Qu-JMJWX"
      }
    },
    {
      "cell_type": "markdown",
      "source": [
        "# **If Conditions**"
      ],
      "metadata": {
        "id": "xS20nxvuMQue"
      }
    },
    {
      "cell_type": "code",
      "source": [
        "age = int(input(\"Enter the Age: \"))\n",
        "\n",
        "if age >= 18:\n",
        "  print(\"You're eligible for Vote\")"
      ],
      "metadata": {
        "colab": {
          "base_uri": "https://localhost:8080/"
        },
        "id": "UfaCGFH0MNm1",
        "outputId": "afc8063c-656d-4701-e5a2-d126870c59d0"
      },
      "execution_count": null,
      "outputs": [
        {
          "output_type": "stream",
          "name": "stdout",
          "text": [
            "Enter the Age: 18\n",
            "You're eligible for Vote\n"
          ]
        }
      ]
    },
    {
      "cell_type": "markdown",
      "source": [
        "# **Else Conditions & Elif Conditions**"
      ],
      "metadata": {
        "id": "tXGd-BPrNG3k"
      }
    },
    {
      "cell_type": "code",
      "source": [
        "age = int(input(\"Enter the Age: \"))\n",
        "\n",
        "if age < 0 or age >= 130:\n",
        "  print(\"Enter the Correct Age\")\n",
        "elif age >= 18:\n",
        "  print(\"You're eligible for Vote\")\n",
        "else:\n",
        "  print(\"You're not eligible for Vote\")\n"
      ],
      "metadata": {
        "colab": {
          "base_uri": "https://localhost:8080/"
        },
        "id": "uCkWB2O-NF80",
        "outputId": "19716d77-989b-449c-aad2-ad8d8d7d7789"
      },
      "execution_count": null,
      "outputs": [
        {
          "output_type": "stream",
          "name": "stdout",
          "text": [
            "Enter the Age: 9\n",
            "You're not eligible for Vote\n"
          ]
        }
      ]
    },
    {
      "cell_type": "markdown",
      "source": [
        "# **Loops**"
      ],
      "metadata": {
        "id": "bfDiu7zqO8Ni"
      }
    },
    {
      "cell_type": "code",
      "source": [
        "# For Loop\n",
        "# While Loop\n",
        "# Range"
      ],
      "metadata": {
        "id": "V2lwJRNoPAKq"
      },
      "execution_count": null,
      "outputs": []
    },
    {
      "cell_type": "code",
      "source": [
        "range(10)"
      ],
      "metadata": {
        "colab": {
          "base_uri": "https://localhost:8080/"
        },
        "id": "4Od5qCGIPJOa",
        "outputId": "5e42f82a-0cad-4078-8074-2a27d51ef417"
      },
      "execution_count": null,
      "outputs": [
        {
          "output_type": "execute_result",
          "data": {
            "text/plain": [
              "range(0, 10)"
            ]
          },
          "metadata": {},
          "execution_count": 13
        }
      ]
    },
    {
      "cell_type": "code",
      "source": [
        "range(0,10)"
      ],
      "metadata": {
        "colab": {
          "base_uri": "https://localhost:8080/"
        },
        "id": "CIACMgd8PdL_",
        "outputId": "c5c84e1c-8b0c-4e50-ca7d-22fe2e28489f"
      },
      "execution_count": null,
      "outputs": [
        {
          "output_type": "execute_result",
          "data": {
            "text/plain": [
              "range(0, 10)"
            ]
          },
          "metadata": {},
          "execution_count": 14
        }
      ]
    },
    {
      "cell_type": "code",
      "source": [
        "for i in range(10): # i is variable (we can use any variable)\n",
        "  print(i) # it will iterate and take the values one by one"
      ],
      "metadata": {
        "colab": {
          "base_uri": "https://localhost:8080/"
        },
        "id": "LeQmPwJSPrCG",
        "outputId": "233de115-58af-40ad-d335-dd8e8f2cebe8"
      },
      "execution_count": null,
      "outputs": [
        {
          "output_type": "stream",
          "name": "stdout",
          "text": [
            "0\n",
            "1\n",
            "2\n",
            "3\n",
            "4\n",
            "5\n",
            "6\n",
            "7\n",
            "8\n",
            "9\n"
          ]
        }
      ]
    },
    {
      "cell_type": "code",
      "source": [
        "for i in range(5,10):\n",
        "  print(i)"
      ],
      "metadata": {
        "colab": {
          "base_uri": "https://localhost:8080/"
        },
        "id": "WXEzKuZSQQQz",
        "outputId": "2c2b3de9-346c-44d4-b7d6-d5268c212f07"
      },
      "execution_count": null,
      "outputs": [
        {
          "output_type": "stream",
          "name": "stdout",
          "text": [
            "5\n",
            "6\n",
            "7\n",
            "8\n",
            "9\n"
          ]
        }
      ]
    },
    {
      "cell_type": "code",
      "source": [
        "for i in range(5,26,5):\n",
        "  print(i)"
      ],
      "metadata": {
        "colab": {
          "base_uri": "https://localhost:8080/"
        },
        "id": "Vg88okGqQdNa",
        "outputId": "0ad3de6e-10a0-436b-a5fe-b739996688d1"
      },
      "execution_count": null,
      "outputs": [
        {
          "output_type": "stream",
          "name": "stdout",
          "text": [
            "5\n",
            "10\n",
            "15\n",
            "20\n",
            "25\n"
          ]
        }
      ]
    },
    {
      "cell_type": "code",
      "source": [
        "for i in range(0,10,2):\n",
        "  print(i)"
      ],
      "metadata": {
        "colab": {
          "base_uri": "https://localhost:8080/"
        },
        "id": "gnzX3RDUQ42v",
        "outputId": "64611629-1512-4527-d383-9aeca7904ba2"
      },
      "execution_count": null,
      "outputs": [
        {
          "output_type": "stream",
          "name": "stdout",
          "text": [
            "0\n",
            "2\n",
            "4\n",
            "6\n",
            "8\n"
          ]
        }
      ]
    },
    {
      "cell_type": "code",
      "source": [
        "for i in range(-10,2,2):\n",
        "  print(i)"
      ],
      "metadata": {
        "colab": {
          "base_uri": "https://localhost:8080/"
        },
        "id": "tTvjjbTBRCh1",
        "outputId": "a6ac436f-3c49-452a-e1c0-37f81b038372"
      },
      "execution_count": null,
      "outputs": [
        {
          "output_type": "stream",
          "name": "stdout",
          "text": [
            "-10\n",
            "-8\n",
            "-6\n",
            "-4\n",
            "-2\n",
            "0\n"
          ]
        }
      ]
    },
    {
      "cell_type": "markdown",
      "source": [
        "# **Nested For Loop**"
      ],
      "metadata": {
        "id": "5F5c4WMNUT1t"
      }
    },
    {
      "cell_type": "code",
      "source": [
        "for i in [\"Dharshak\", \"Prabakaran\", \"Vignesh\"]:\n",
        "  print(i)\n",
        "  for var in [1, 2, 3]:\n",
        "    print(var)\n"
      ],
      "metadata": {
        "colab": {
          "base_uri": "https://localhost:8080/"
        },
        "id": "l00hDfdITd4R",
        "outputId": "8417f104-11e3-419b-ca1d-9db86a2e2972"
      },
      "execution_count": null,
      "outputs": [
        {
          "output_type": "stream",
          "name": "stdout",
          "text": [
            "Dharshak\n",
            "1\n",
            "2\n",
            "3\n",
            "Prabakaran\n",
            "1\n",
            "2\n",
            "3\n",
            "Vignesh\n",
            "1\n",
            "2\n",
            "3\n"
          ]
        }
      ]
    },
    {
      "cell_type": "code",
      "source": [
        "for i in [\"Dharshak\", \"Prabakaran\", \"Vignesh\"]:\n",
        "  print(i)\n",
        "  for var in [1, 2, 3]:\n",
        "    print(var)\n",
        "    for j in [\"aaa\", \"bbb\", \"ccc\"]:\n",
        "      print(j)"
      ],
      "metadata": {
        "colab": {
          "base_uri": "https://localhost:8080/"
        },
        "id": "uJPOS1cAUnHL",
        "outputId": "8690dc77-65e7-4dc7-d9fe-924af92d7b89"
      },
      "execution_count": null,
      "outputs": [
        {
          "output_type": "stream",
          "name": "stdout",
          "text": [
            "Dharshak\n",
            "1\n",
            "aaa\n",
            "bbb\n",
            "ccc\n",
            "2\n",
            "aaa\n",
            "bbb\n",
            "ccc\n",
            "3\n",
            "aaa\n",
            "bbb\n",
            "ccc\n",
            "Prabakaran\n",
            "1\n",
            "aaa\n",
            "bbb\n",
            "ccc\n",
            "2\n",
            "aaa\n",
            "bbb\n",
            "ccc\n",
            "3\n",
            "aaa\n",
            "bbb\n",
            "ccc\n",
            "Vignesh\n",
            "1\n",
            "aaa\n",
            "bbb\n",
            "ccc\n",
            "2\n",
            "aaa\n",
            "bbb\n",
            "ccc\n",
            "3\n",
            "aaa\n",
            "bbb\n",
            "ccc\n"
          ]
        }
      ]
    },
    {
      "cell_type": "code",
      "source": [
        "# While Loop\n",
        "\n",
        "while True:\n",
        "  print(\"Vignesh\")"
      ],
      "metadata": {
        "colab": {
          "base_uri": "https://localhost:8080/",
          "height": 1000
        },
        "id": "vSbHkwN9VDmL",
        "outputId": "95aa0290-bd78-4250-acba-e19a72fdb19a"
      },
      "execution_count": null,
      "outputs": [
        {
          "output_type": "stream",
          "name": "stdout",
          "text": [
            "\u001b[1;30;43mStreaming output truncated to the last 5000 lines.\u001b[0m\n",
            "Vignesh\n",
            "Vignesh\n",
            "Vignesh\n",
            "Vignesh\n",
            "Vignesh\n",
            "Vignesh\n",
            "Vignesh\n",
            "Vignesh\n",
            "Vignesh\n",
            "Vignesh\n",
            "Vignesh\n",
            "Vignesh\n",
            "Vignesh\n",
            "Vignesh\n",
            "Vignesh\n",
            "Vignesh\n",
            "Vignesh\n",
            "Vignesh\n",
            "Vignesh\n",
            "Vignesh\n",
            "Vignesh\n",
            "Vignesh\n",
            "Vignesh\n",
            "Vignesh\n",
            "Vignesh\n",
            "Vignesh\n",
            "Vignesh\n",
            "Vignesh\n",
            "Vignesh\n",
            "Vignesh\n",
            "Vignesh\n",
            "Vignesh\n",
            "Vignesh\n",
            "Vignesh\n",
            "Vignesh\n",
            "Vignesh\n",
            "Vignesh\n",
            "Vignesh\n",
            "Vignesh\n",
            "Vignesh\n",
            "Vignesh\n",
            "Vignesh\n",
            "Vignesh\n",
            "Vignesh\n",
            "Vignesh\n",
            "Vignesh\n",
            "Vignesh\n",
            "Vignesh\n",
            "Vignesh\n",
            "Vignesh\n",
            "Vignesh\n",
            "Vignesh\n",
            "Vignesh\n",
            "Vignesh\n",
            "Vignesh\n",
            "Vignesh\n",
            "Vignesh\n",
            "Vignesh\n",
            "Vignesh\n",
            "Vignesh\n",
            "Vignesh\n",
            "Vignesh\n",
            "Vignesh\n",
            "Vignesh\n",
            "Vignesh\n",
            "Vignesh\n",
            "Vignesh\n",
            "Vignesh\n",
            "Vignesh\n",
            "Vignesh\n",
            "Vignesh\n",
            "Vignesh\n",
            "Vignesh\n",
            "Vignesh\n",
            "Vignesh\n",
            "Vignesh\n",
            "Vignesh\n",
            "Vignesh\n",
            "Vignesh\n",
            "Vignesh\n",
            "Vignesh\n",
            "Vignesh\n",
            "Vignesh\n",
            "Vignesh\n",
            "Vignesh\n",
            "Vignesh\n",
            "Vignesh\n",
            "Vignesh\n",
            "Vignesh\n",
            "Vignesh\n",
            "Vignesh\n",
            "Vignesh\n",
            "Vignesh\n",
            "Vignesh\n",
            "Vignesh\n",
            "Vignesh\n",
            "Vignesh\n",
            "Vignesh\n",
            "Vignesh\n",
            "Vignesh\n",
            "Vignesh\n",
            "Vignesh\n",
            "Vignesh\n",
            "Vignesh\n",
            "Vignesh\n",
            "Vignesh\n",
            "Vignesh\n",
            "Vignesh\n",
            "Vignesh\n",
            "Vignesh\n",
            "Vignesh\n",
            "Vignesh\n",
            "Vignesh\n",
            "Vignesh\n",
            "Vignesh\n",
            "Vignesh\n",
            "Vignesh\n",
            "Vignesh\n",
            "Vignesh\n",
            "Vignesh\n",
            "Vignesh\n",
            "Vignesh\n",
            "Vignesh\n",
            "Vignesh\n",
            "Vignesh\n",
            "Vignesh\n",
            "Vignesh\n",
            "Vignesh\n",
            "Vignesh\n",
            "Vignesh\n",
            "Vignesh\n",
            "Vignesh\n",
            "Vignesh\n",
            "Vignesh\n",
            "Vignesh\n",
            "Vignesh\n",
            "Vignesh\n",
            "Vignesh\n",
            "Vignesh\n",
            "Vignesh\n",
            "Vignesh\n",
            "Vignesh\n",
            "Vignesh\n",
            "Vignesh\n",
            "Vignesh\n",
            "Vignesh\n",
            "Vignesh\n",
            "Vignesh\n",
            "Vignesh\n",
            "Vignesh\n",
            "Vignesh\n",
            "Vignesh\n",
            "Vignesh\n",
            "Vignesh\n",
            "Vignesh\n",
            "Vignesh\n",
            "Vignesh\n",
            "Vignesh\n",
            "Vignesh\n",
            "Vignesh\n",
            "Vignesh\n",
            "Vignesh\n",
            "Vignesh\n",
            "Vignesh\n",
            "Vignesh\n",
            "Vignesh\n",
            "Vignesh\n",
            "Vignesh\n",
            "Vignesh\n",
            "Vignesh\n",
            "Vignesh\n",
            "Vignesh\n",
            "Vignesh\n",
            "Vignesh\n",
            "Vignesh\n",
            "Vignesh\n",
            "Vignesh\n",
            "Vignesh\n",
            "Vignesh\n",
            "Vignesh\n",
            "Vignesh\n",
            "Vignesh\n",
            "Vignesh\n",
            "Vignesh\n",
            "Vignesh\n",
            "Vignesh\n",
            "Vignesh\n",
            "Vignesh\n",
            "Vignesh\n",
            "Vignesh\n",
            "Vignesh\n",
            "Vignesh\n",
            "Vignesh\n",
            "Vignesh\n",
            "Vignesh\n",
            "Vignesh\n",
            "Vignesh\n",
            "Vignesh\n",
            "Vignesh\n",
            "Vignesh\n",
            "Vignesh\n",
            "Vignesh\n",
            "Vignesh\n",
            "Vignesh\n",
            "Vignesh\n",
            "Vignesh\n",
            "Vignesh\n",
            "Vignesh\n",
            "Vignesh\n",
            "Vignesh\n",
            "Vignesh\n",
            "Vignesh\n",
            "Vignesh\n",
            "Vignesh\n",
            "Vignesh\n",
            "Vignesh\n",
            "Vignesh\n",
            "Vignesh\n",
            "Vignesh\n",
            "Vignesh\n",
            "Vignesh\n",
            "Vignesh\n",
            "Vignesh\n",
            "Vignesh\n",
            "Vignesh\n",
            "Vignesh\n",
            "Vignesh\n",
            "Vignesh\n",
            "Vignesh\n",
            "Vignesh\n",
            "Vignesh\n",
            "Vignesh\n",
            "Vignesh\n",
            "Vignesh\n",
            "Vignesh\n",
            "Vignesh\n",
            "Vignesh\n",
            "Vignesh\n",
            "Vignesh\n",
            "Vignesh\n",
            "Vignesh\n",
            "Vignesh\n",
            "Vignesh\n",
            "Vignesh\n",
            "Vignesh\n",
            "Vignesh\n",
            "Vignesh\n",
            "Vignesh\n",
            "Vignesh\n",
            "Vignesh\n",
            "Vignesh\n",
            "Vignesh\n",
            "Vignesh\n",
            "Vignesh\n",
            "Vignesh\n",
            "Vignesh\n",
            "Vignesh\n",
            "Vignesh\n",
            "Vignesh\n",
            "Vignesh\n",
            "Vignesh\n",
            "Vignesh\n",
            "Vignesh\n",
            "Vignesh\n",
            "Vignesh\n",
            "Vignesh\n",
            "Vignesh\n",
            "Vignesh\n",
            "Vignesh\n",
            "Vignesh\n",
            "Vignesh\n",
            "Vignesh\n",
            "Vignesh\n",
            "Vignesh\n",
            "Vignesh\n",
            "Vignesh\n",
            "Vignesh\n",
            "Vignesh\n",
            "Vignesh\n",
            "Vignesh\n",
            "Vignesh\n",
            "Vignesh\n",
            "Vignesh\n",
            "Vignesh\n",
            "Vignesh\n",
            "Vignesh\n",
            "Vignesh\n",
            "Vignesh\n",
            "Vignesh\n",
            "Vignesh\n",
            "Vignesh\n",
            "Vignesh\n",
            "Vignesh\n",
            "Vignesh\n",
            "Vignesh\n",
            "Vignesh\n",
            "Vignesh\n",
            "Vignesh\n",
            "Vignesh\n",
            "Vignesh\n",
            "Vignesh\n",
            "Vignesh\n",
            "Vignesh\n",
            "Vignesh\n",
            "Vignesh\n",
            "Vignesh\n",
            "Vignesh\n",
            "Vignesh\n",
            "Vignesh\n",
            "Vignesh\n",
            "Vignesh\n",
            "Vignesh\n",
            "Vignesh\n",
            "Vignesh\n",
            "Vignesh\n",
            "Vignesh\n",
            "Vignesh\n",
            "Vignesh\n",
            "Vignesh\n",
            "Vignesh\n",
            "Vignesh\n",
            "Vignesh\n",
            "Vignesh\n",
            "Vignesh\n",
            "Vignesh\n",
            "Vignesh\n",
            "Vignesh\n",
            "Vignesh\n",
            "Vignesh\n",
            "Vignesh\n",
            "Vignesh\n",
            "Vignesh\n",
            "Vignesh\n",
            "Vignesh\n",
            "Vignesh\n",
            "Vignesh\n",
            "Vignesh\n",
            "Vignesh\n",
            "Vignesh\n",
            "Vignesh\n",
            "Vignesh\n",
            "Vignesh\n",
            "Vignesh\n",
            "Vignesh\n",
            "Vignesh\n",
            "Vignesh\n",
            "Vignesh\n",
            "Vignesh\n",
            "Vignesh\n",
            "Vignesh\n",
            "Vignesh\n",
            "Vignesh\n",
            "Vignesh\n",
            "Vignesh\n",
            "Vignesh\n",
            "Vignesh\n",
            "Vignesh\n",
            "Vignesh\n",
            "Vignesh\n",
            "Vignesh\n",
            "Vignesh\n",
            "Vignesh\n",
            "Vignesh\n",
            "Vignesh\n",
            "Vignesh\n",
            "Vignesh\n",
            "Vignesh\n",
            "Vignesh\n",
            "Vignesh\n",
            "Vignesh\n",
            "Vignesh\n",
            "Vignesh\n",
            "Vignesh\n",
            "Vignesh\n",
            "Vignesh\n",
            "Vignesh\n",
            "Vignesh\n",
            "Vignesh\n",
            "Vignesh\n",
            "Vignesh\n",
            "Vignesh\n",
            "Vignesh\n",
            "Vignesh\n",
            "Vignesh\n",
            "Vignesh\n",
            "Vignesh\n",
            "Vignesh\n",
            "Vignesh\n",
            "Vignesh\n",
            "Vignesh\n",
            "Vignesh\n",
            "Vignesh\n",
            "Vignesh\n",
            "Vignesh\n",
            "Vignesh\n",
            "Vignesh\n",
            "Vignesh\n",
            "Vignesh\n",
            "Vignesh\n",
            "Vignesh\n",
            "Vignesh\n",
            "Vignesh\n",
            "Vignesh\n",
            "Vignesh\n",
            "Vignesh\n",
            "Vignesh\n",
            "Vignesh\n",
            "Vignesh\n",
            "Vignesh\n",
            "Vignesh\n",
            "Vignesh\n",
            "Vignesh\n",
            "Vignesh\n",
            "Vignesh\n",
            "Vignesh\n",
            "Vignesh\n",
            "Vignesh\n",
            "Vignesh\n",
            "Vignesh\n",
            "Vignesh\n",
            "Vignesh\n",
            "Vignesh\n",
            "Vignesh\n",
            "Vignesh\n",
            "Vignesh\n",
            "Vignesh\n",
            "Vignesh\n",
            "Vignesh\n",
            "Vignesh\n",
            "Vignesh\n",
            "Vignesh\n",
            "Vignesh\n",
            "Vignesh\n",
            "Vignesh\n",
            "Vignesh\n",
            "Vignesh\n",
            "Vignesh\n",
            "Vignesh\n",
            "Vignesh\n",
            "Vignesh\n",
            "Vignesh\n",
            "Vignesh\n",
            "Vignesh\n",
            "Vignesh\n",
            "Vignesh\n",
            "Vignesh\n",
            "Vignesh\n",
            "Vignesh\n",
            "Vignesh\n",
            "Vignesh\n",
            "Vignesh\n",
            "Vignesh\n",
            "Vignesh\n",
            "Vignesh\n",
            "Vignesh\n",
            "Vignesh\n",
            "Vignesh\n",
            "Vignesh\n",
            "Vignesh\n",
            "Vignesh\n",
            "Vignesh\n",
            "Vignesh\n",
            "Vignesh\n",
            "Vignesh\n",
            "Vignesh\n",
            "Vignesh\n",
            "Vignesh\n",
            "Vignesh\n",
            "Vignesh\n",
            "Vignesh\n",
            "Vignesh\n",
            "Vignesh\n",
            "Vignesh\n",
            "Vignesh\n",
            "Vignesh\n",
            "Vignesh\n",
            "Vignesh\n",
            "Vignesh\n",
            "Vignesh\n",
            "Vignesh\n",
            "Vignesh\n",
            "Vignesh\n",
            "Vignesh\n",
            "Vignesh\n",
            "Vignesh\n",
            "Vignesh\n",
            "Vignesh\n",
            "Vignesh\n",
            "Vignesh\n",
            "Vignesh\n",
            "Vignesh\n",
            "Vignesh\n",
            "Vignesh\n",
            "Vignesh\n",
            "Vignesh\n",
            "Vignesh\n",
            "Vignesh\n",
            "Vignesh\n",
            "Vignesh\n",
            "Vignesh\n",
            "Vignesh\n",
            "Vignesh\n",
            "Vignesh\n",
            "Vignesh\n",
            "Vignesh\n",
            "Vignesh\n",
            "Vignesh\n",
            "Vignesh\n",
            "Vignesh\n",
            "Vignesh\n",
            "Vignesh\n",
            "Vignesh\n",
            "Vignesh\n",
            "Vignesh\n",
            "Vignesh\n",
            "Vignesh\n",
            "Vignesh\n",
            "Vignesh\n",
            "Vignesh\n",
            "Vignesh\n",
            "Vignesh\n",
            "Vignesh\n",
            "Vignesh\n",
            "Vignesh\n",
            "Vignesh\n",
            "Vignesh\n",
            "Vignesh\n",
            "Vignesh\n",
            "Vignesh\n",
            "Vignesh\n",
            "Vignesh\n",
            "Vignesh\n",
            "Vignesh\n",
            "Vignesh\n",
            "Vignesh\n",
            "Vignesh\n",
            "Vignesh\n",
            "Vignesh\n",
            "Vignesh\n",
            "Vignesh\n",
            "Vignesh\n",
            "Vignesh\n",
            "Vignesh\n",
            "Vignesh\n",
            "Vignesh\n",
            "Vignesh\n",
            "Vignesh\n",
            "Vignesh\n",
            "Vignesh\n",
            "Vignesh\n",
            "Vignesh\n",
            "Vignesh\n",
            "Vignesh\n",
            "Vignesh\n",
            "Vignesh\n",
            "Vignesh\n",
            "Vignesh\n",
            "Vignesh\n",
            "Vignesh\n",
            "Vignesh\n",
            "Vignesh\n",
            "Vignesh\n",
            "Vignesh\n",
            "Vignesh\n",
            "Vignesh\n",
            "Vignesh\n",
            "Vignesh\n",
            "Vignesh\n",
            "Vignesh\n",
            "Vignesh\n",
            "Vignesh\n",
            "Vignesh\n",
            "Vignesh\n",
            "Vignesh\n",
            "Vignesh\n",
            "Vignesh\n",
            "Vignesh\n",
            "Vignesh\n",
            "Vignesh\n",
            "Vignesh\n",
            "Vignesh\n",
            "Vignesh\n",
            "Vignesh\n",
            "Vignesh\n",
            "Vignesh\n",
            "Vignesh\n",
            "Vignesh\n",
            "Vignesh\n",
            "Vignesh\n",
            "Vignesh\n",
            "Vignesh\n",
            "Vignesh\n",
            "Vignesh\n",
            "Vignesh\n",
            "Vignesh\n",
            "Vignesh\n",
            "Vignesh\n",
            "Vignesh\n",
            "Vignesh\n",
            "Vignesh\n",
            "Vignesh\n",
            "Vignesh\n",
            "Vignesh\n",
            "Vignesh\n",
            "Vignesh\n",
            "Vignesh\n",
            "Vignesh\n",
            "Vignesh\n",
            "Vignesh\n",
            "Vignesh\n",
            "Vignesh\n",
            "Vignesh\n",
            "Vignesh\n",
            "Vignesh\n",
            "Vignesh\n",
            "Vignesh\n",
            "Vignesh\n",
            "Vignesh\n",
            "Vignesh\n",
            "Vignesh\n",
            "Vignesh\n",
            "Vignesh\n",
            "Vignesh\n",
            "Vignesh\n",
            "Vignesh\n",
            "Vignesh\n",
            "Vignesh\n",
            "Vignesh\n",
            "Vignesh\n",
            "Vignesh\n",
            "Vignesh\n",
            "Vignesh\n",
            "Vignesh\n",
            "Vignesh\n",
            "Vignesh\n",
            "Vignesh\n",
            "Vignesh\n",
            "Vignesh\n",
            "Vignesh\n",
            "Vignesh\n",
            "Vignesh\n",
            "Vignesh\n",
            "Vignesh\n",
            "Vignesh\n",
            "Vignesh\n",
            "Vignesh\n",
            "Vignesh\n",
            "Vignesh\n",
            "Vignesh\n",
            "Vignesh\n",
            "Vignesh\n",
            "Vignesh\n",
            "Vignesh\n",
            "Vignesh\n",
            "Vignesh\n",
            "Vignesh\n",
            "Vignesh\n",
            "Vignesh\n",
            "Vignesh\n",
            "Vignesh\n",
            "Vignesh\n",
            "Vignesh\n",
            "Vignesh\n",
            "Vignesh\n",
            "Vignesh\n",
            "Vignesh\n",
            "Vignesh\n",
            "Vignesh\n",
            "Vignesh\n",
            "Vignesh\n",
            "Vignesh\n",
            "Vignesh\n",
            "Vignesh\n",
            "Vignesh\n",
            "Vignesh\n",
            "Vignesh\n",
            "Vignesh\n",
            "Vignesh\n",
            "Vignesh\n",
            "Vignesh\n",
            "Vignesh\n",
            "Vignesh\n",
            "Vignesh\n",
            "Vignesh\n",
            "Vignesh\n",
            "Vignesh\n",
            "Vignesh\n",
            "Vignesh\n",
            "Vignesh\n",
            "Vignesh\n",
            "Vignesh\n",
            "Vignesh\n",
            "Vignesh\n",
            "Vignesh\n",
            "Vignesh\n",
            "Vignesh\n",
            "Vignesh\n",
            "Vignesh\n",
            "Vignesh\n",
            "Vignesh\n",
            "Vignesh\n",
            "Vignesh\n",
            "Vignesh\n",
            "Vignesh\n",
            "Vignesh\n",
            "Vignesh\n",
            "Vignesh\n",
            "Vignesh\n",
            "Vignesh\n",
            "Vignesh\n",
            "Vignesh\n",
            "Vignesh\n",
            "Vignesh\n",
            "Vignesh\n",
            "Vignesh\n",
            "Vignesh\n",
            "Vignesh\n",
            "Vignesh\n",
            "Vignesh\n",
            "Vignesh\n",
            "Vignesh\n",
            "Vignesh\n",
            "Vignesh\n",
            "Vignesh\n",
            "Vignesh\n",
            "Vignesh\n",
            "Vignesh\n",
            "Vignesh\n",
            "Vignesh\n",
            "Vignesh\n",
            "Vignesh\n",
            "Vignesh\n",
            "Vignesh\n",
            "Vignesh\n",
            "Vignesh\n",
            "Vignesh\n",
            "Vignesh\n",
            "Vignesh\n",
            "Vignesh\n",
            "Vignesh\n",
            "Vignesh\n",
            "Vignesh\n",
            "Vignesh\n",
            "Vignesh\n",
            "Vignesh\n",
            "Vignesh\n",
            "Vignesh\n",
            "Vignesh\n",
            "Vignesh\n",
            "Vignesh\n",
            "Vignesh\n",
            "Vignesh\n",
            "Vignesh\n",
            "Vignesh\n",
            "Vignesh\n",
            "Vignesh\n",
            "Vignesh\n",
            "Vignesh\n",
            "Vignesh\n",
            "Vignesh\n",
            "Vignesh\n",
            "Vignesh\n",
            "Vignesh\n",
            "Vignesh\n",
            "Vignesh\n",
            "Vignesh\n",
            "Vignesh\n",
            "Vignesh\n",
            "Vignesh\n",
            "Vignesh\n",
            "Vignesh\n",
            "Vignesh\n",
            "Vignesh\n",
            "Vignesh\n",
            "Vignesh\n",
            "Vignesh\n",
            "Vignesh\n",
            "Vignesh\n",
            "Vignesh\n",
            "Vignesh\n",
            "Vignesh\n",
            "Vignesh\n",
            "Vignesh\n",
            "Vignesh\n",
            "Vignesh\n",
            "Vignesh\n",
            "Vignesh\n",
            "Vignesh\n",
            "Vignesh\n",
            "Vignesh\n",
            "Vignesh\n",
            "Vignesh\n",
            "Vignesh\n",
            "Vignesh\n",
            "Vignesh\n",
            "Vignesh\n",
            "Vignesh\n",
            "Vignesh\n",
            "Vignesh\n",
            "Vignesh\n",
            "Vignesh\n",
            "Vignesh\n",
            "Vignesh\n",
            "Vignesh\n",
            "Vignesh\n",
            "Vignesh\n",
            "Vignesh\n",
            "Vignesh\n",
            "Vignesh\n",
            "Vignesh\n",
            "Vignesh\n",
            "Vignesh\n",
            "Vignesh\n",
            "Vignesh\n",
            "Vignesh\n",
            "Vignesh\n",
            "Vignesh\n",
            "Vignesh\n",
            "Vignesh\n",
            "Vignesh\n",
            "Vignesh\n",
            "Vignesh\n",
            "Vignesh\n",
            "Vignesh\n",
            "Vignesh\n",
            "Vignesh\n",
            "Vignesh\n",
            "Vignesh\n",
            "Vignesh\n",
            "Vignesh\n",
            "Vignesh\n",
            "Vignesh\n",
            "Vignesh\n",
            "Vignesh\n",
            "Vignesh\n",
            "Vignesh\n",
            "Vignesh\n",
            "Vignesh\n",
            "Vignesh\n",
            "Vignesh\n",
            "Vignesh\n",
            "Vignesh\n",
            "Vignesh\n",
            "Vignesh\n",
            "Vignesh\n",
            "Vignesh\n",
            "Vignesh\n",
            "Vignesh\n",
            "Vignesh\n",
            "Vignesh\n",
            "Vignesh\n",
            "Vignesh\n",
            "Vignesh\n",
            "Vignesh\n",
            "Vignesh\n",
            "Vignesh\n",
            "Vignesh\n",
            "Vignesh\n",
            "Vignesh\n",
            "Vignesh\n",
            "Vignesh\n",
            "Vignesh\n",
            "Vignesh\n",
            "Vignesh\n",
            "Vignesh\n",
            "Vignesh\n",
            "Vignesh\n",
            "Vignesh\n",
            "Vignesh\n",
            "Vignesh\n",
            "Vignesh\n",
            "Vignesh\n",
            "Vignesh\n",
            "Vignesh\n",
            "Vignesh\n",
            "Vignesh\n",
            "Vignesh\n",
            "Vignesh\n",
            "Vignesh\n",
            "Vignesh\n",
            "Vignesh\n",
            "Vignesh\n",
            "Vignesh\n",
            "Vignesh\n",
            "Vignesh\n",
            "Vignesh\n",
            "Vignesh\n",
            "Vignesh\n",
            "Vignesh\n",
            "Vignesh\n",
            "Vignesh\n",
            "Vignesh\n",
            "Vignesh\n",
            "Vignesh\n",
            "Vignesh\n",
            "Vignesh\n",
            "Vignesh\n",
            "Vignesh\n",
            "Vignesh\n",
            "Vignesh\n",
            "Vignesh\n",
            "Vignesh\n",
            "Vignesh\n",
            "Vignesh\n",
            "Vignesh\n",
            "Vignesh\n",
            "Vignesh\n",
            "Vignesh\n",
            "Vignesh\n",
            "Vignesh\n",
            "Vignesh\n",
            "Vignesh\n",
            "Vignesh\n",
            "Vignesh\n",
            "Vignesh\n",
            "Vignesh\n",
            "Vignesh\n",
            "Vignesh\n",
            "Vignesh\n",
            "Vignesh\n",
            "Vignesh\n",
            "Vignesh\n",
            "Vignesh\n",
            "Vignesh\n",
            "Vignesh\n",
            "Vignesh\n",
            "Vignesh\n",
            "Vignesh\n",
            "Vignesh\n",
            "Vignesh\n",
            "Vignesh\n",
            "Vignesh\n",
            "Vignesh\n",
            "Vignesh\n",
            "Vignesh\n",
            "Vignesh\n",
            "Vignesh\n",
            "Vignesh\n",
            "Vignesh\n",
            "Vignesh\n",
            "Vignesh\n",
            "Vignesh\n",
            "Vignesh\n",
            "Vignesh\n",
            "Vignesh\n",
            "Vignesh\n",
            "Vignesh\n",
            "Vignesh\n",
            "Vignesh\n",
            "Vignesh\n",
            "Vignesh\n",
            "Vignesh\n",
            "Vignesh\n",
            "Vignesh\n",
            "Vignesh\n",
            "Vignesh\n",
            "Vignesh\n",
            "Vignesh\n",
            "Vignesh\n",
            "Vignesh\n",
            "Vignesh\n",
            "Vignesh\n",
            "Vignesh\n",
            "Vignesh\n",
            "Vignesh\n",
            "Vignesh\n",
            "Vignesh\n",
            "Vignesh\n",
            "Vignesh\n",
            "Vignesh\n",
            "Vignesh\n",
            "Vignesh\n",
            "Vignesh\n",
            "Vignesh\n",
            "Vignesh\n",
            "Vignesh\n",
            "Vignesh\n",
            "Vignesh\n",
            "Vignesh\n",
            "Vignesh\n",
            "Vignesh\n",
            "Vignesh\n",
            "Vignesh\n",
            "Vignesh\n",
            "Vignesh\n",
            "Vignesh\n",
            "Vignesh\n",
            "Vignesh\n",
            "Vignesh\n",
            "Vignesh\n",
            "Vignesh\n",
            "Vignesh\n",
            "Vignesh\n",
            "Vignesh\n",
            "Vignesh\n",
            "Vignesh\n",
            "Vignesh\n",
            "Vignesh\n",
            "Vignesh\n",
            "Vignesh\n",
            "Vignesh\n",
            "Vignesh\n",
            "Vignesh\n",
            "Vignesh\n",
            "Vignesh\n",
            "Vignesh\n",
            "Vignesh\n",
            "Vignesh\n",
            "Vignesh\n",
            "Vignesh\n",
            "Vignesh\n",
            "Vignesh\n",
            "Vignesh\n",
            "Vignesh\n",
            "Vignesh\n",
            "Vignesh\n",
            "Vignesh\n",
            "Vignesh\n",
            "Vignesh\n",
            "Vignesh\n",
            "Vignesh\n",
            "Vignesh\n",
            "Vignesh\n",
            "Vignesh\n",
            "Vignesh\n",
            "Vignesh\n",
            "Vignesh\n",
            "Vignesh\n",
            "Vignesh\n",
            "Vignesh\n",
            "Vignesh\n",
            "Vignesh\n",
            "Vignesh\n",
            "Vignesh\n",
            "Vignesh\n",
            "Vignesh\n",
            "Vignesh\n",
            "Vignesh\n",
            "Vignesh\n",
            "Vignesh\n",
            "Vignesh\n",
            "Vignesh\n",
            "Vignesh\n",
            "Vignesh\n",
            "Vignesh\n",
            "Vignesh\n",
            "Vignesh\n",
            "Vignesh\n",
            "Vignesh\n",
            "Vignesh\n",
            "Vignesh\n",
            "Vignesh\n",
            "Vignesh\n",
            "Vignesh\n",
            "Vignesh\n",
            "Vignesh\n",
            "Vignesh\n",
            "Vignesh\n",
            "Vignesh\n",
            "Vignesh\n",
            "Vignesh\n",
            "Vignesh\n",
            "Vignesh\n",
            "Vignesh\n",
            "Vignesh\n",
            "Vignesh\n",
            "Vignesh\n",
            "Vignesh\n",
            "Vignesh\n",
            "Vignesh\n",
            "Vignesh\n",
            "Vignesh\n",
            "Vignesh\n",
            "Vignesh\n",
            "Vignesh\n",
            "Vignesh\n",
            "Vignesh\n",
            "Vignesh\n",
            "Vignesh\n",
            "Vignesh\n",
            "Vignesh\n",
            "Vignesh\n",
            "Vignesh\n",
            "Vignesh\n",
            "Vignesh\n",
            "Vignesh\n",
            "Vignesh\n",
            "Vignesh\n",
            "Vignesh\n",
            "Vignesh\n",
            "Vignesh\n",
            "Vignesh\n",
            "Vignesh\n",
            "Vignesh\n",
            "Vignesh\n",
            "Vignesh\n",
            "Vignesh\n",
            "Vignesh\n",
            "Vignesh\n",
            "Vignesh\n",
            "Vignesh\n",
            "Vignesh\n",
            "Vignesh\n",
            "Vignesh\n",
            "Vignesh\n",
            "Vignesh\n",
            "Vignesh\n",
            "Vignesh\n",
            "Vignesh\n",
            "Vignesh\n",
            "Vignesh\n",
            "Vignesh\n",
            "Vignesh\n",
            "Vignesh\n",
            "Vignesh\n",
            "Vignesh\n",
            "Vignesh\n",
            "Vignesh\n",
            "Vignesh\n",
            "Vignesh\n",
            "Vignesh\n",
            "Vignesh\n",
            "Vignesh\n",
            "Vignesh\n",
            "Vignesh\n",
            "Vignesh\n",
            "Vignesh\n",
            "Vignesh\n",
            "Vignesh\n",
            "Vignesh\n",
            "Vignesh\n",
            "Vignesh\n",
            "Vignesh\n",
            "Vignesh\n",
            "Vignesh\n",
            "Vignesh\n",
            "Vignesh\n",
            "Vignesh\n",
            "Vignesh\n",
            "Vignesh\n",
            "Vignesh\n",
            "Vignesh\n",
            "Vignesh\n",
            "Vignesh\n",
            "Vignesh\n",
            "Vignesh\n",
            "Vignesh\n",
            "Vignesh\n",
            "Vignesh\n",
            "Vignesh\n",
            "Vignesh\n",
            "Vignesh\n",
            "Vignesh\n",
            "Vignesh\n",
            "Vignesh\n",
            "Vignesh\n",
            "Vignesh\n",
            "Vignesh\n",
            "Vignesh\n",
            "Vignesh\n",
            "Vignesh\n",
            "Vignesh\n",
            "Vignesh\n",
            "Vignesh\n",
            "Vignesh\n",
            "Vignesh\n",
            "Vignesh\n",
            "Vignesh\n",
            "Vignesh\n",
            "Vignesh\n",
            "Vignesh\n",
            "Vignesh\n",
            "Vignesh\n",
            "Vignesh\n",
            "Vignesh\n",
            "Vignesh\n",
            "Vignesh\n",
            "Vignesh\n",
            "Vignesh\n",
            "Vignesh\n",
            "Vignesh\n",
            "Vignesh\n",
            "Vignesh\n",
            "Vignesh\n",
            "Vignesh\n",
            "Vignesh\n",
            "Vignesh\n",
            "Vignesh\n",
            "Vignesh\n",
            "Vignesh\n",
            "Vignesh\n",
            "Vignesh\n",
            "Vignesh\n",
            "Vignesh\n",
            "Vignesh\n",
            "Vignesh\n",
            "Vignesh\n",
            "Vignesh\n",
            "Vignesh\n",
            "Vignesh\n",
            "Vignesh\n",
            "Vignesh\n",
            "Vignesh\n",
            "Vignesh\n",
            "Vignesh\n",
            "Vignesh\n",
            "Vignesh\n",
            "Vignesh\n",
            "Vignesh\n",
            "Vignesh\n",
            "Vignesh\n",
            "Vignesh\n",
            "Vignesh\n",
            "Vignesh\n",
            "Vignesh\n",
            "Vignesh\n",
            "Vignesh\n",
            "Vignesh\n",
            "Vignesh\n",
            "Vignesh\n",
            "Vignesh\n",
            "Vignesh\n",
            "Vignesh\n",
            "Vignesh\n",
            "Vignesh\n",
            "Vignesh\n",
            "Vignesh\n",
            "Vignesh\n",
            "Vignesh\n",
            "Vignesh\n",
            "Vignesh\n",
            "Vignesh\n",
            "Vignesh\n",
            "Vignesh\n",
            "Vignesh\n",
            "Vignesh\n",
            "Vignesh\n",
            "Vignesh\n",
            "Vignesh\n",
            "Vignesh\n",
            "Vignesh\n",
            "Vignesh\n",
            "Vignesh\n",
            "Vignesh\n",
            "Vignesh\n",
            "Vignesh\n",
            "Vignesh\n",
            "Vignesh\n",
            "Vignesh\n",
            "Vignesh\n",
            "Vignesh\n",
            "Vignesh\n",
            "Vignesh\n",
            "Vignesh\n",
            "Vignesh\n",
            "Vignesh\n",
            "Vignesh\n",
            "Vignesh\n",
            "Vignesh\n",
            "Vignesh\n",
            "Vignesh\n",
            "Vignesh\n",
            "Vignesh\n",
            "Vignesh\n",
            "Vignesh\n",
            "Vignesh\n",
            "Vignesh\n",
            "Vignesh\n",
            "Vignesh\n",
            "Vignesh\n",
            "Vignesh\n",
            "Vignesh\n",
            "Vignesh\n",
            "Vignesh\n",
            "Vignesh\n",
            "Vignesh\n",
            "Vignesh\n",
            "Vignesh\n",
            "Vignesh\n",
            "Vignesh\n",
            "Vignesh\n",
            "Vignesh\n",
            "Vignesh\n",
            "Vignesh\n",
            "Vignesh\n",
            "Vignesh\n",
            "Vignesh\n",
            "Vignesh\n",
            "Vignesh\n",
            "Vignesh\n",
            "Vignesh\n",
            "Vignesh\n",
            "Vignesh\n",
            "Vignesh\n",
            "Vignesh\n",
            "Vignesh\n",
            "Vignesh\n",
            "Vignesh\n",
            "Vignesh\n",
            "Vignesh\n",
            "Vignesh\n",
            "Vignesh\n",
            "Vignesh\n",
            "Vignesh\n",
            "Vignesh\n",
            "Vignesh\n",
            "Vignesh\n",
            "Vignesh\n",
            "Vignesh\n",
            "Vignesh\n",
            "Vignesh\n",
            "Vignesh\n",
            "Vignesh\n",
            "Vignesh\n",
            "Vignesh\n",
            "Vignesh\n",
            "Vignesh\n",
            "Vignesh\n",
            "Vignesh\n",
            "Vignesh\n",
            "Vignesh\n",
            "Vignesh\n",
            "Vignesh\n",
            "Vignesh\n",
            "Vignesh\n",
            "Vignesh\n",
            "Vignesh\n",
            "Vignesh\n",
            "Vignesh\n",
            "Vignesh\n",
            "Vignesh\n",
            "Vignesh\n",
            "Vignesh\n",
            "Vignesh\n",
            "Vignesh\n",
            "Vignesh\n",
            "Vignesh\n",
            "Vignesh\n",
            "Vignesh\n",
            "Vignesh\n",
            "Vignesh\n",
            "Vignesh\n",
            "Vignesh\n",
            "Vignesh\n",
            "Vignesh\n",
            "Vignesh\n",
            "Vignesh\n",
            "Vignesh\n",
            "Vignesh\n",
            "Vignesh\n",
            "Vignesh\n",
            "Vignesh\n",
            "Vignesh\n",
            "Vignesh\n",
            "Vignesh\n",
            "Vignesh\n",
            "Vignesh\n",
            "Vignesh\n",
            "Vignesh\n",
            "Vignesh\n",
            "Vignesh\n",
            "Vignesh\n",
            "Vignesh\n",
            "Vignesh\n",
            "Vignesh\n",
            "Vignesh\n",
            "Vignesh\n",
            "Vignesh\n",
            "Vignesh\n",
            "Vignesh\n",
            "Vignesh\n",
            "Vignesh\n",
            "Vignesh\n",
            "Vignesh\n",
            "Vignesh\n",
            "Vignesh\n",
            "Vignesh\n",
            "Vignesh\n",
            "Vignesh\n",
            "Vignesh\n",
            "Vignesh\n",
            "Vignesh\n",
            "Vignesh\n",
            "Vignesh\n",
            "Vignesh\n",
            "Vignesh\n",
            "Vignesh\n",
            "Vignesh\n",
            "Vignesh\n",
            "Vignesh\n",
            "Vignesh\n",
            "Vignesh\n",
            "Vignesh\n",
            "Vignesh\n",
            "Vignesh\n",
            "Vignesh\n",
            "Vignesh\n",
            "Vignesh\n",
            "Vignesh\n",
            "Vignesh\n",
            "Vignesh\n",
            "Vignesh\n",
            "Vignesh\n",
            "Vignesh\n",
            "Vignesh\n",
            "Vignesh\n",
            "Vignesh\n",
            "Vignesh\n",
            "Vignesh\n",
            "Vignesh\n",
            "Vignesh\n",
            "Vignesh\n",
            "Vignesh\n",
            "Vignesh\n",
            "Vignesh\n",
            "Vignesh\n",
            "Vignesh\n",
            "Vignesh\n",
            "Vignesh\n",
            "Vignesh\n",
            "Vignesh\n",
            "Vignesh\n",
            "Vignesh\n",
            "Vignesh\n",
            "Vignesh\n",
            "Vignesh\n",
            "Vignesh\n",
            "Vignesh\n",
            "Vignesh\n",
            "Vignesh\n",
            "Vignesh\n",
            "Vignesh\n",
            "Vignesh\n",
            "Vignesh\n",
            "Vignesh\n",
            "Vignesh\n",
            "Vignesh\n",
            "Vignesh\n",
            "Vignesh\n",
            "Vignesh\n",
            "Vignesh\n",
            "Vignesh\n",
            "Vignesh\n",
            "Vignesh\n",
            "Vignesh\n",
            "Vignesh\n",
            "Vignesh\n",
            "Vignesh\n",
            "Vignesh\n",
            "Vignesh\n",
            "Vignesh\n",
            "Vignesh\n",
            "Vignesh\n",
            "Vignesh\n",
            "Vignesh\n",
            "Vignesh\n",
            "Vignesh\n",
            "Vignesh\n",
            "Vignesh\n",
            "Vignesh\n",
            "Vignesh\n",
            "Vignesh\n",
            "Vignesh\n",
            "Vignesh\n",
            "Vignesh\n",
            "Vignesh\n",
            "Vignesh\n",
            "Vignesh\n",
            "Vignesh\n",
            "Vignesh\n",
            "Vignesh\n",
            "Vignesh\n",
            "Vignesh\n",
            "Vignesh\n",
            "Vignesh\n",
            "Vignesh\n",
            "Vignesh\n",
            "Vignesh\n",
            "Vignesh\n",
            "Vignesh\n",
            "Vignesh\n",
            "Vignesh\n",
            "Vignesh\n",
            "Vignesh\n",
            "Vignesh\n",
            "Vignesh\n",
            "Vignesh\n",
            "Vignesh\n",
            "Vignesh\n",
            "Vignesh\n",
            "Vignesh\n",
            "Vignesh\n",
            "Vignesh\n",
            "Vignesh\n",
            "Vignesh\n",
            "Vignesh\n",
            "Vignesh\n",
            "Vignesh\n",
            "Vignesh\n",
            "Vignesh\n",
            "Vignesh\n",
            "Vignesh\n",
            "Vignesh\n",
            "Vignesh\n",
            "Vignesh\n",
            "Vignesh\n",
            "Vignesh\n",
            "Vignesh\n",
            "Vignesh\n",
            "Vignesh\n",
            "Vignesh\n",
            "Vignesh\n",
            "Vignesh\n",
            "Vignesh\n",
            "Vignesh\n",
            "Vignesh\n",
            "Vignesh\n",
            "Vignesh\n",
            "Vignesh\n",
            "Vignesh\n",
            "Vignesh\n",
            "Vignesh\n",
            "Vignesh\n",
            "Vignesh\n",
            "Vignesh\n",
            "Vignesh\n",
            "Vignesh\n",
            "Vignesh\n",
            "Vignesh\n",
            "Vignesh\n",
            "Vignesh\n",
            "Vignesh\n",
            "Vignesh\n",
            "Vignesh\n",
            "Vignesh\n",
            "Vignesh\n",
            "Vignesh\n",
            "Vignesh\n",
            "Vignesh\n",
            "Vignesh\n",
            "Vignesh\n",
            "Vignesh\n",
            "Vignesh\n",
            "Vignesh\n",
            "Vignesh\n",
            "Vignesh\n",
            "Vignesh\n",
            "Vignesh\n",
            "Vignesh\n",
            "Vignesh\n",
            "Vignesh\n",
            "Vignesh\n",
            "Vignesh\n",
            "Vignesh\n",
            "Vignesh\n",
            "Vignesh\n",
            "Vignesh\n",
            "Vignesh\n",
            "Vignesh\n",
            "Vignesh\n",
            "Vignesh\n",
            "Vignesh\n",
            "Vignesh\n",
            "Vignesh\n",
            "Vignesh\n",
            "Vignesh\n",
            "Vignesh\n",
            "Vignesh\n",
            "Vignesh\n",
            "Vignesh\n",
            "Vignesh\n",
            "Vignesh\n",
            "Vignesh\n",
            "Vignesh\n",
            "Vignesh\n",
            "Vignesh\n",
            "Vignesh\n",
            "Vignesh\n",
            "Vignesh\n",
            "Vignesh\n",
            "Vignesh\n",
            "Vignesh\n",
            "Vignesh\n",
            "Vignesh\n",
            "Vignesh\n",
            "Vignesh\n",
            "Vignesh\n",
            "Vignesh\n",
            "Vignesh\n",
            "Vignesh\n",
            "Vignesh\n",
            "Vignesh\n",
            "Vignesh\n",
            "Vignesh\n",
            "Vignesh\n",
            "Vignesh\n",
            "Vignesh\n",
            "Vignesh\n",
            "Vignesh\n",
            "Vignesh\n",
            "Vignesh\n",
            "Vignesh\n",
            "Vignesh\n",
            "Vignesh\n",
            "Vignesh\n",
            "Vignesh\n",
            "Vignesh\n",
            "Vignesh\n",
            "Vignesh\n",
            "Vignesh\n",
            "Vignesh\n",
            "Vignesh\n",
            "Vignesh\n",
            "Vignesh\n",
            "Vignesh\n",
            "Vignesh\n",
            "Vignesh\n",
            "Vignesh\n",
            "Vignesh\n",
            "Vignesh\n",
            "Vignesh\n",
            "Vignesh\n",
            "Vignesh\n",
            "Vignesh\n",
            "Vignesh\n",
            "Vignesh\n",
            "Vignesh\n",
            "Vignesh\n",
            "Vignesh\n",
            "Vignesh\n",
            "Vignesh\n",
            "Vignesh\n",
            "Vignesh\n",
            "Vignesh\n",
            "Vignesh\n",
            "Vignesh\n",
            "Vignesh\n",
            "Vignesh\n",
            "Vignesh\n",
            "Vignesh\n",
            "Vignesh\n",
            "Vignesh\n",
            "Vignesh\n",
            "Vignesh\n",
            "Vignesh\n",
            "Vignesh\n",
            "Vignesh\n",
            "Vignesh\n",
            "Vignesh\n",
            "Vignesh\n",
            "Vignesh\n",
            "Vignesh\n",
            "Vignesh\n",
            "Vignesh\n",
            "Vignesh\n",
            "Vignesh\n",
            "Vignesh\n",
            "Vignesh\n",
            "Vignesh\n",
            "Vignesh\n",
            "Vignesh\n",
            "Vignesh\n",
            "Vignesh\n",
            "Vignesh\n",
            "Vignesh\n",
            "Vignesh\n",
            "Vignesh\n",
            "Vignesh\n",
            "Vignesh\n",
            "Vignesh\n",
            "Vignesh\n",
            "Vignesh\n",
            "Vignesh\n",
            "Vignesh\n",
            "Vignesh\n",
            "Vignesh\n",
            "Vignesh\n",
            "Vignesh\n",
            "Vignesh\n",
            "Vignesh\n",
            "Vignesh\n",
            "Vignesh\n",
            "Vignesh\n",
            "Vignesh\n",
            "Vignesh\n",
            "Vignesh\n",
            "Vignesh\n",
            "Vignesh\n",
            "Vignesh\n",
            "Vignesh\n",
            "Vignesh\n",
            "Vignesh\n",
            "Vignesh\n",
            "Vignesh\n",
            "Vignesh\n",
            "Vignesh\n",
            "Vignesh\n",
            "Vignesh\n",
            "Vignesh\n",
            "Vignesh\n",
            "Vignesh\n",
            "Vignesh\n",
            "Vignesh\n",
            "Vignesh\n",
            "Vignesh\n",
            "Vignesh\n",
            "Vignesh\n",
            "Vignesh\n",
            "Vignesh\n",
            "Vignesh\n",
            "Vignesh\n",
            "Vignesh\n",
            "Vignesh\n",
            "Vignesh\n",
            "Vignesh\n",
            "Vignesh\n",
            "Vignesh\n",
            "Vignesh\n",
            "Vignesh\n",
            "Vignesh\n",
            "Vignesh\n",
            "Vignesh\n",
            "Vignesh\n",
            "Vignesh\n",
            "Vignesh\n",
            "Vignesh\n",
            "Vignesh\n",
            "Vignesh\n",
            "Vignesh\n",
            "Vignesh\n",
            "Vignesh\n",
            "Vignesh\n",
            "Vignesh\n",
            "Vignesh\n",
            "Vignesh\n",
            "Vignesh\n",
            "Vignesh\n",
            "Vignesh\n",
            "Vignesh\n",
            "Vignesh\n",
            "Vignesh\n",
            "Vignesh\n",
            "Vignesh\n",
            "Vignesh\n",
            "Vignesh\n",
            "Vignesh\n",
            "Vignesh\n",
            "Vignesh\n",
            "Vignesh\n",
            "Vignesh\n",
            "Vignesh\n",
            "Vignesh\n",
            "Vignesh\n",
            "Vignesh\n",
            "Vignesh\n",
            "Vignesh\n",
            "Vignesh\n",
            "Vignesh\n",
            "Vignesh\n",
            "Vignesh\n",
            "Vignesh\n",
            "Vignesh\n",
            "Vignesh\n",
            "Vignesh\n",
            "Vignesh\n",
            "Vignesh\n",
            "Vignesh\n",
            "Vignesh\n",
            "Vignesh\n",
            "Vignesh\n",
            "Vignesh\n",
            "Vignesh\n",
            "Vignesh\n",
            "Vignesh\n",
            "Vignesh\n",
            "Vignesh\n",
            "Vignesh\n",
            "Vignesh\n",
            "Vignesh\n",
            "Vignesh\n",
            "Vignesh\n",
            "Vignesh\n",
            "Vignesh\n",
            "Vignesh\n",
            "Vignesh\n",
            "Vignesh\n",
            "Vignesh\n",
            "Vignesh\n",
            "Vignesh\n",
            "Vignesh\n",
            "Vignesh\n",
            "Vignesh\n",
            "Vignesh\n",
            "Vignesh\n",
            "Vignesh\n",
            "Vignesh\n",
            "Vignesh\n",
            "Vignesh\n",
            "Vignesh\n",
            "Vignesh\n",
            "Vignesh\n",
            "Vignesh\n",
            "Vignesh\n",
            "Vignesh\n",
            "Vignesh\n",
            "Vignesh\n",
            "Vignesh\n",
            "Vignesh\n",
            "Vignesh\n",
            "Vignesh\n",
            "Vignesh\n",
            "Vignesh\n",
            "Vignesh\n",
            "Vignesh\n",
            "Vignesh\n",
            "Vignesh\n",
            "Vignesh\n",
            "Vignesh\n",
            "Vignesh\n",
            "Vignesh\n",
            "Vignesh\n",
            "Vignesh\n",
            "Vignesh\n",
            "Vignesh\n",
            "Vignesh\n",
            "Vignesh\n",
            "Vignesh\n",
            "Vignesh\n",
            "Vignesh\n",
            "Vignesh\n",
            "Vignesh\n",
            "Vignesh\n",
            "Vignesh\n",
            "Vignesh\n",
            "Vignesh\n",
            "Vignesh\n",
            "Vignesh\n",
            "Vignesh\n",
            "Vignesh\n",
            "Vignesh\n",
            "Vignesh\n",
            "Vignesh\n",
            "Vignesh\n",
            "Vignesh\n",
            "Vignesh\n",
            "Vignesh\n",
            "Vignesh\n",
            "Vignesh\n",
            "Vignesh\n",
            "Vignesh\n",
            "Vignesh\n",
            "Vignesh\n",
            "Vignesh\n",
            "Vignesh\n",
            "Vignesh\n",
            "Vignesh\n",
            "Vignesh\n",
            "Vignesh\n",
            "Vignesh\n",
            "Vignesh\n",
            "Vignesh\n",
            "Vignesh\n",
            "Vignesh\n",
            "Vignesh\n",
            "Vignesh\n",
            "Vignesh\n",
            "Vignesh\n",
            "Vignesh\n",
            "Vignesh\n",
            "Vignesh\n",
            "Vignesh\n",
            "Vignesh\n",
            "Vignesh\n",
            "Vignesh\n",
            "Vignesh\n",
            "Vignesh\n",
            "Vignesh\n",
            "Vignesh\n",
            "Vignesh\n",
            "Vignesh\n",
            "Vignesh\n",
            "Vignesh\n",
            "Vignesh\n",
            "Vignesh\n",
            "Vignesh\n",
            "Vignesh\n",
            "Vignesh\n",
            "Vignesh\n",
            "Vignesh\n",
            "Vignesh\n",
            "Vignesh\n",
            "Vignesh\n",
            "Vignesh\n",
            "Vignesh\n",
            "Vignesh\n",
            "Vignesh\n",
            "Vignesh\n",
            "Vignesh\n",
            "Vignesh\n",
            "Vignesh\n",
            "Vignesh\n",
            "Vignesh\n",
            "Vignesh\n",
            "Vignesh\n",
            "Vignesh\n",
            "Vignesh\n",
            "Vignesh\n",
            "Vignesh\n",
            "Vignesh\n",
            "Vignesh\n",
            "Vignesh\n",
            "Vignesh\n",
            "Vignesh\n",
            "Vignesh\n",
            "Vignesh\n",
            "Vignesh\n",
            "Vignesh\n",
            "Vignesh\n",
            "Vignesh\n",
            "Vignesh\n",
            "Vignesh\n",
            "Vignesh\n",
            "Vignesh\n",
            "Vignesh\n",
            "Vignesh\n",
            "Vignesh\n",
            "Vignesh\n",
            "Vignesh\n",
            "Vignesh\n",
            "Vignesh\n",
            "Vignesh\n",
            "Vignesh\n",
            "Vignesh\n",
            "Vignesh\n",
            "Vignesh\n",
            "Vignesh\n",
            "Vignesh\n",
            "Vignesh\n",
            "Vignesh\n",
            "Vignesh\n",
            "Vignesh\n",
            "Vignesh\n",
            "Vignesh\n",
            "Vignesh\n",
            "Vignesh\n",
            "Vignesh\n",
            "Vignesh\n",
            "Vignesh\n",
            "Vignesh\n",
            "Vignesh\n",
            "Vignesh\n",
            "Vignesh\n",
            "Vignesh\n",
            "Vignesh\n",
            "Vignesh\n",
            "Vignesh\n",
            "Vignesh\n",
            "Vignesh\n",
            "Vignesh\n",
            "Vignesh\n",
            "Vignesh\n",
            "Vignesh\n",
            "Vignesh\n",
            "Vignesh\n",
            "Vignesh\n",
            "Vignesh\n",
            "Vignesh\n",
            "Vignesh\n",
            "Vignesh\n",
            "Vignesh\n",
            "Vignesh\n",
            "Vignesh\n",
            "Vignesh\n",
            "Vignesh\n",
            "Vignesh\n",
            "Vignesh\n",
            "Vignesh\n",
            "Vignesh\n",
            "Vignesh\n",
            "Vignesh\n",
            "Vignesh\n",
            "Vignesh\n",
            "Vignesh\n",
            "Vignesh\n",
            "Vignesh\n",
            "Vignesh\n",
            "Vignesh\n",
            "Vignesh\n",
            "Vignesh\n",
            "Vignesh\n",
            "Vignesh\n",
            "Vignesh\n",
            "Vignesh\n",
            "Vignesh\n",
            "Vignesh\n",
            "Vignesh\n",
            "Vignesh\n",
            "Vignesh\n",
            "Vignesh\n",
            "Vignesh\n",
            "Vignesh\n",
            "Vignesh\n",
            "Vignesh\n",
            "Vignesh\n",
            "Vignesh\n",
            "Vignesh\n",
            "Vignesh\n",
            "Vignesh\n",
            "Vignesh\n",
            "Vignesh\n",
            "Vignesh\n",
            "Vignesh\n",
            "Vignesh\n",
            "Vignesh\n",
            "Vignesh\n",
            "Vignesh\n",
            "Vignesh\n",
            "Vignesh\n",
            "Vignesh\n",
            "Vignesh\n",
            "Vignesh\n",
            "Vignesh\n",
            "Vignesh\n",
            "Vignesh\n",
            "Vignesh\n",
            "Vignesh\n",
            "Vignesh\n",
            "Vignesh\n",
            "Vignesh\n",
            "Vignesh\n",
            "Vignesh\n",
            "Vignesh\n",
            "Vignesh\n",
            "Vignesh\n",
            "Vignesh\n",
            "Vignesh\n",
            "Vignesh\n",
            "Vignesh\n",
            "Vignesh\n",
            "Vignesh\n",
            "Vignesh\n",
            "Vignesh\n",
            "Vignesh\n",
            "Vignesh\n",
            "Vignesh\n",
            "Vignesh\n",
            "Vignesh\n",
            "Vignesh\n",
            "Vignesh\n",
            "Vignesh\n",
            "Vignesh\n",
            "Vignesh\n",
            "Vignesh\n",
            "Vignesh\n",
            "Vignesh\n",
            "Vignesh\n",
            "Vignesh\n",
            "Vignesh\n",
            "Vignesh\n",
            "Vignesh\n",
            "Vignesh\n",
            "Vignesh\n",
            "Vignesh\n",
            "Vignesh\n",
            "Vignesh\n",
            "Vignesh\n",
            "Vignesh\n",
            "Vignesh\n",
            "Vignesh\n",
            "Vignesh\n",
            "Vignesh\n",
            "Vignesh\n",
            "Vignesh\n",
            "Vignesh\n",
            "Vignesh\n",
            "Vignesh\n",
            "Vignesh\n",
            "Vignesh\n",
            "Vignesh\n",
            "Vignesh\n",
            "Vignesh\n",
            "Vignesh\n",
            "Vignesh\n",
            "Vignesh\n",
            "Vignesh\n",
            "Vignesh\n",
            "Vignesh\n",
            "Vignesh\n",
            "Vignesh\n",
            "Vignesh\n",
            "Vignesh\n",
            "Vignesh\n",
            "Vignesh\n",
            "Vignesh\n",
            "Vignesh\n",
            "Vignesh\n",
            "Vignesh\n",
            "Vignesh\n",
            "Vignesh\n",
            "Vignesh\n",
            "Vignesh\n",
            "Vignesh\n",
            "Vignesh\n",
            "Vignesh\n",
            "Vignesh\n",
            "Vignesh\n",
            "Vignesh\n",
            "Vignesh\n",
            "Vignesh\n",
            "Vignesh\n",
            "Vignesh\n",
            "Vignesh\n",
            "Vignesh\n",
            "Vignesh\n",
            "Vignesh\n",
            "Vignesh\n",
            "Vignesh\n",
            "Vignesh\n",
            "Vignesh\n",
            "Vignesh\n",
            "Vignesh\n",
            "Vignesh\n",
            "Vignesh\n",
            "Vignesh\n",
            "Vignesh\n",
            "Vignesh\n",
            "Vignesh\n",
            "Vignesh\n",
            "Vignesh\n",
            "Vignesh\n",
            "Vignesh\n",
            "Vignesh\n",
            "Vignesh\n",
            "Vignesh\n",
            "Vignesh\n",
            "Vignesh\n",
            "Vignesh\n",
            "Vignesh\n",
            "Vignesh\n",
            "Vignesh\n",
            "Vignesh\n",
            "Vignesh\n",
            "Vignesh\n",
            "Vignesh\n",
            "Vignesh\n",
            "Vignesh\n",
            "Vignesh\n",
            "Vignesh\n",
            "Vignesh\n",
            "Vignesh\n",
            "Vignesh\n",
            "Vignesh\n",
            "Vignesh\n",
            "Vignesh\n",
            "Vignesh\n",
            "Vignesh\n",
            "Vignesh\n",
            "Vignesh\n",
            "Vignesh\n",
            "Vignesh\n",
            "Vignesh\n",
            "Vignesh\n",
            "Vignesh\n",
            "Vignesh\n",
            "Vignesh\n",
            "Vignesh\n",
            "Vignesh\n",
            "Vignesh\n",
            "Vignesh\n",
            "Vignesh\n",
            "Vignesh\n",
            "Vignesh\n",
            "Vignesh\n",
            "Vignesh\n",
            "Vignesh\n",
            "Vignesh\n",
            "Vignesh\n",
            "Vignesh\n",
            "Vignesh\n",
            "Vignesh\n",
            "Vignesh\n",
            "Vignesh\n",
            "Vignesh\n",
            "Vignesh\n",
            "Vignesh\n",
            "Vignesh\n",
            "Vignesh\n",
            "Vignesh\n",
            "Vignesh\n",
            "Vignesh\n",
            "Vignesh\n",
            "Vignesh\n",
            "Vignesh\n",
            "Vignesh\n",
            "Vignesh\n",
            "Vignesh\n",
            "Vignesh\n",
            "Vignesh\n",
            "Vignesh\n",
            "Vignesh\n",
            "Vignesh\n",
            "Vignesh\n",
            "Vignesh\n",
            "Vignesh\n",
            "Vignesh\n",
            "Vignesh\n",
            "Vignesh\n",
            "Vignesh\n",
            "Vignesh\n",
            "Vignesh\n",
            "Vignesh\n",
            "Vignesh\n",
            "Vignesh\n",
            "Vignesh\n",
            "Vignesh\n",
            "Vignesh\n",
            "Vignesh\n",
            "Vignesh\n",
            "Vignesh\n",
            "Vignesh\n",
            "Vignesh\n",
            "Vignesh\n",
            "Vignesh\n",
            "Vignesh\n",
            "Vignesh\n",
            "Vignesh\n",
            "Vignesh\n",
            "Vignesh\n",
            "Vignesh\n",
            "Vignesh\n",
            "Vignesh\n",
            "Vignesh\n",
            "Vignesh\n",
            "Vignesh\n",
            "Vignesh\n",
            "Vignesh\n",
            "Vignesh\n",
            "Vignesh\n",
            "Vignesh\n",
            "Vignesh\n",
            "Vignesh\n",
            "Vignesh\n",
            "Vignesh\n",
            "Vignesh\n",
            "Vignesh\n",
            "Vignesh\n",
            "Vignesh\n",
            "Vignesh\n",
            "Vignesh\n",
            "Vignesh\n",
            "Vignesh\n",
            "Vignesh\n",
            "Vignesh\n",
            "Vignesh\n",
            "Vignesh\n",
            "Vignesh\n",
            "Vignesh\n",
            "Vignesh\n",
            "Vignesh\n",
            "Vignesh\n",
            "Vignesh\n",
            "Vignesh\n",
            "Vignesh\n",
            "Vignesh\n",
            "Vignesh\n",
            "Vignesh\n",
            "Vignesh\n",
            "Vignesh\n",
            "Vignesh\n",
            "Vignesh\n",
            "Vignesh\n",
            "Vignesh\n",
            "Vignesh\n",
            "Vignesh\n",
            "Vignesh\n",
            "Vignesh\n",
            "Vignesh\n",
            "Vignesh\n",
            "Vignesh\n",
            "Vignesh\n",
            "Vignesh\n",
            "Vignesh\n",
            "Vignesh\n",
            "Vignesh\n",
            "Vignesh\n",
            "Vignesh\n",
            "Vignesh\n",
            "Vignesh\n",
            "Vignesh\n",
            "Vignesh\n",
            "Vignesh\n",
            "Vignesh\n",
            "Vignesh\n",
            "Vignesh\n",
            "Vignesh\n",
            "Vignesh\n",
            "Vignesh\n",
            "Vignesh\n",
            "Vignesh\n",
            "Vignesh\n",
            "Vignesh\n",
            "Vignesh\n",
            "Vignesh\n",
            "Vignesh\n",
            "Vignesh\n",
            "Vignesh\n",
            "Vignesh\n",
            "Vignesh\n",
            "Vignesh\n",
            "Vignesh\n",
            "Vignesh\n",
            "Vignesh\n",
            "Vignesh\n",
            "Vignesh\n",
            "Vignesh\n",
            "Vignesh\n",
            "Vignesh\n",
            "Vignesh\n",
            "Vignesh\n",
            "Vignesh\n",
            "Vignesh\n",
            "Vignesh\n",
            "Vignesh\n",
            "Vignesh\n",
            "Vignesh\n",
            "Vignesh\n",
            "Vignesh\n",
            "Vignesh\n",
            "Vignesh\n",
            "Vignesh\n",
            "Vignesh\n",
            "Vignesh\n",
            "Vignesh\n",
            "Vignesh\n",
            "Vignesh\n",
            "Vignesh\n",
            "Vignesh\n",
            "Vignesh\n",
            "Vignesh\n",
            "Vignesh\n",
            "Vignesh\n",
            "Vignesh\n",
            "Vignesh\n",
            "Vignesh\n",
            "Vignesh\n",
            "Vignesh\n",
            "Vignesh\n",
            "Vignesh\n",
            "Vignesh\n",
            "Vignesh\n",
            "Vignesh\n",
            "Vignesh\n",
            "Vignesh\n",
            "Vignesh\n",
            "Vignesh\n",
            "Vignesh\n",
            "Vignesh\n",
            "Vignesh\n",
            "Vignesh\n",
            "Vignesh\n",
            "Vignesh\n",
            "Vignesh\n",
            "Vignesh\n",
            "Vignesh\n",
            "Vignesh\n",
            "Vignesh\n",
            "Vignesh\n",
            "Vignesh\n",
            "Vignesh\n",
            "Vignesh\n",
            "Vignesh\n",
            "Vignesh\n",
            "Vignesh\n",
            "Vignesh\n",
            "Vignesh\n",
            "Vignesh\n",
            "Vignesh\n",
            "Vignesh\n",
            "Vignesh\n",
            "Vignesh\n",
            "Vignesh\n",
            "Vignesh\n",
            "Vignesh\n",
            "Vignesh\n",
            "Vignesh\n",
            "Vignesh\n",
            "Vignesh\n",
            "Vignesh\n",
            "Vignesh\n",
            "Vignesh\n",
            "Vignesh\n",
            "Vignesh\n",
            "Vignesh\n",
            "Vignesh\n",
            "Vignesh\n",
            "Vignesh\n",
            "Vignesh\n",
            "Vignesh\n",
            "Vignesh\n",
            "Vignesh\n",
            "Vignesh\n",
            "Vignesh\n",
            "Vignesh\n",
            "Vignesh\n",
            "Vignesh\n",
            "Vignesh\n",
            "Vignesh\n",
            "Vignesh\n",
            "Vignesh\n",
            "Vignesh\n",
            "Vignesh\n",
            "Vignesh\n",
            "Vignesh\n",
            "Vignesh\n",
            "Vignesh\n",
            "Vignesh\n",
            "Vignesh\n",
            "Vignesh\n",
            "Vignesh\n",
            "Vignesh\n",
            "Vignesh\n",
            "Vignesh\n",
            "Vignesh\n",
            "Vignesh\n",
            "Vignesh\n",
            "Vignesh\n",
            "Vignesh\n",
            "Vignesh\n",
            "Vignesh\n",
            "Vignesh\n",
            "Vignesh\n",
            "Vignesh\n",
            "Vignesh\n",
            "Vignesh\n",
            "Vignesh\n",
            "Vignesh\n",
            "Vignesh\n",
            "Vignesh\n",
            "Vignesh\n",
            "Vignesh\n",
            "Vignesh\n",
            "Vignesh\n",
            "Vignesh\n",
            "Vignesh\n",
            "Vignesh\n",
            "Vignesh\n",
            "Vignesh\n",
            "Vignesh\n",
            "Vignesh\n",
            "Vignesh\n",
            "Vignesh\n",
            "Vignesh\n",
            "Vignesh\n",
            "Vignesh\n",
            "Vignesh\n",
            "Vignesh\n",
            "Vignesh\n",
            "Vignesh\n",
            "Vignesh\n",
            "Vignesh\n",
            "Vignesh\n",
            "Vignesh\n",
            "Vignesh\n",
            "Vignesh\n",
            "Vignesh\n",
            "Vignesh\n",
            "Vignesh\n",
            "Vignesh\n",
            "Vignesh\n",
            "Vignesh\n",
            "Vignesh\n",
            "Vignesh\n",
            "Vignesh\n",
            "Vignesh\n",
            "Vignesh\n",
            "Vignesh\n",
            "Vignesh\n",
            "Vignesh\n",
            "Vignesh\n",
            "Vignesh\n",
            "Vignesh\n",
            "Vignesh\n",
            "Vignesh\n",
            "Vignesh\n",
            "Vignesh\n",
            "Vignesh\n",
            "Vignesh\n",
            "Vignesh\n",
            "Vignesh\n",
            "Vignesh\n",
            "Vignesh\n",
            "Vignesh\n",
            "Vignesh\n",
            "Vignesh\n",
            "Vignesh\n",
            "Vignesh\n",
            "Vignesh\n",
            "Vignesh\n",
            "Vignesh\n",
            "Vignesh\n",
            "Vignesh\n",
            "Vignesh\n",
            "Vignesh\n",
            "Vignesh\n",
            "Vignesh\n",
            "Vignesh\n",
            "Vignesh\n",
            "Vignesh\n",
            "Vignesh\n",
            "Vignesh\n",
            "Vignesh\n",
            "Vignesh\n",
            "Vignesh\n",
            "Vignesh\n",
            "Vignesh\n",
            "Vignesh\n",
            "Vignesh\n",
            "Vignesh\n",
            "Vignesh\n",
            "Vignesh\n",
            "Vignesh\n",
            "Vignesh\n",
            "Vignesh\n",
            "Vignesh\n",
            "Vignesh\n",
            "Vignesh\n",
            "Vignesh\n",
            "Vignesh\n",
            "Vignesh\n",
            "Vignesh\n",
            "Vignesh\n",
            "Vignesh\n",
            "Vignesh\n",
            "Vignesh\n",
            "Vignesh\n",
            "Vignesh\n",
            "Vignesh\n",
            "Vignesh\n",
            "Vignesh\n",
            "Vignesh\n",
            "Vignesh\n",
            "Vignesh\n",
            "Vignesh\n",
            "Vignesh\n",
            "Vignesh\n",
            "Vignesh\n",
            "Vignesh\n",
            "Vignesh\n",
            "Vignesh\n",
            "Vignesh\n",
            "Vignesh\n",
            "Vignesh\n",
            "Vignesh\n",
            "Vignesh\n",
            "Vignesh\n",
            "Vignesh\n",
            "Vignesh\n",
            "Vignesh\n",
            "Vignesh\n",
            "Vignesh\n",
            "Vignesh\n",
            "Vignesh\n",
            "Vignesh\n",
            "Vignesh\n",
            "Vignesh\n",
            "Vignesh\n",
            "Vignesh\n",
            "Vignesh\n",
            "Vignesh\n",
            "Vignesh\n",
            "Vignesh\n",
            "Vignesh\n",
            "Vignesh\n",
            "Vignesh\n",
            "Vignesh\n",
            "Vignesh\n",
            "Vignesh\n",
            "Vignesh\n",
            "Vignesh\n",
            "Vignesh\n",
            "Vignesh\n",
            "Vignesh\n",
            "Vignesh\n",
            "Vignesh\n",
            "Vignesh\n",
            "Vignesh\n",
            "Vignesh\n",
            "Vignesh\n",
            "Vignesh\n",
            "Vignesh\n",
            "Vignesh\n",
            "Vignesh\n",
            "Vignesh\n",
            "Vignesh\n",
            "Vignesh\n",
            "Vignesh\n",
            "Vignesh\n",
            "Vignesh\n",
            "Vignesh\n",
            "Vignesh\n",
            "Vignesh\n",
            "Vignesh\n",
            "Vignesh\n",
            "Vignesh\n",
            "Vignesh\n",
            "Vignesh\n",
            "Vignesh\n",
            "Vignesh\n",
            "Vignesh\n",
            "Vignesh\n",
            "Vignesh\n",
            "Vignesh\n",
            "Vignesh\n",
            "Vignesh\n",
            "Vignesh\n",
            "Vignesh\n",
            "Vignesh\n",
            "Vignesh\n",
            "Vignesh\n",
            "Vignesh\n",
            "Vignesh\n",
            "Vignesh\n",
            "Vignesh\n",
            "Vignesh\n",
            "Vignesh\n",
            "Vignesh\n",
            "Vignesh\n",
            "Vignesh\n",
            "Vignesh\n",
            "Vignesh\n",
            "Vignesh\n",
            "Vignesh\n",
            "Vignesh\n",
            "Vignesh\n",
            "Vignesh\n",
            "Vignesh\n",
            "Vignesh\n",
            "Vignesh\n",
            "Vignesh\n",
            "Vignesh\n",
            "Vignesh\n",
            "Vignesh\n",
            "Vignesh\n",
            "Vignesh\n",
            "Vignesh\n",
            "Vignesh\n",
            "Vignesh\n",
            "Vignesh\n",
            "Vignesh\n",
            "Vignesh\n",
            "Vignesh\n",
            "Vignesh\n",
            "Vignesh\n",
            "Vignesh\n",
            "Vignesh\n",
            "Vignesh\n",
            "Vignesh\n",
            "Vignesh\n",
            "Vignesh\n",
            "Vignesh\n",
            "Vignesh\n",
            "Vignesh\n",
            "Vignesh\n",
            "Vignesh\n",
            "Vignesh\n",
            "Vignesh\n",
            "Vignesh\n",
            "Vignesh\n",
            "Vignesh\n",
            "Vignesh\n",
            "Vignesh\n",
            "Vignesh\n",
            "Vignesh\n",
            "Vignesh\n",
            "Vignesh\n",
            "Vignesh\n",
            "Vignesh\n",
            "Vignesh\n",
            "Vignesh\n",
            "Vignesh\n",
            "Vignesh\n",
            "Vignesh\n",
            "Vignesh\n",
            "Vignesh\n",
            "Vignesh\n",
            "Vignesh\n",
            "Vignesh\n",
            "Vignesh\n",
            "Vignesh\n",
            "Vignesh\n",
            "Vignesh\n",
            "Vignesh\n",
            "Vignesh\n",
            "Vignesh\n",
            "Vignesh\n",
            "Vignesh\n",
            "Vignesh\n",
            "Vignesh\n",
            "Vignesh\n",
            "Vignesh\n",
            "Vignesh\n",
            "Vignesh\n",
            "Vignesh\n",
            "Vignesh\n",
            "Vignesh\n",
            "Vignesh\n",
            "Vignesh\n",
            "Vignesh\n",
            "Vignesh\n",
            "Vignesh\n",
            "Vignesh\n",
            "Vignesh\n",
            "Vignesh\n",
            "Vignesh\n",
            "Vignesh\n",
            "Vignesh\n",
            "Vignesh\n",
            "Vignesh\n",
            "Vignesh\n",
            "Vignesh\n",
            "Vignesh\n",
            "Vignesh\n",
            "Vignesh\n",
            "Vignesh\n",
            "Vignesh\n",
            "Vignesh\n",
            "Vignesh\n",
            "Vignesh\n",
            "Vignesh\n",
            "Vignesh\n",
            "Vignesh\n",
            "Vignesh\n",
            "Vignesh\n",
            "Vignesh\n",
            "Vignesh\n",
            "Vignesh\n",
            "Vignesh\n",
            "Vignesh\n",
            "Vignesh\n",
            "Vignesh\n",
            "Vignesh\n",
            "Vignesh\n",
            "Vignesh\n",
            "Vignesh\n",
            "Vignesh\n",
            "Vignesh\n",
            "Vignesh\n",
            "Vignesh\n",
            "Vignesh\n",
            "Vignesh\n",
            "Vignesh\n",
            "Vignesh\n",
            "Vignesh\n",
            "Vignesh\n",
            "Vignesh\n",
            "Vignesh\n",
            "Vignesh\n",
            "Vignesh\n",
            "Vignesh\n",
            "Vignesh\n",
            "Vignesh\n",
            "Vignesh\n",
            "Vignesh\n",
            "Vignesh\n",
            "Vignesh\n",
            "Vignesh\n",
            "Vignesh\n",
            "Vignesh\n",
            "Vignesh\n",
            "Vignesh\n",
            "Vignesh\n",
            "Vignesh\n",
            "Vignesh\n",
            "Vignesh\n",
            "Vignesh\n",
            "Vignesh\n",
            "Vignesh\n",
            "Vignesh\n",
            "Vignesh\n",
            "Vignesh\n",
            "Vignesh\n",
            "Vignesh\n",
            "Vignesh\n",
            "Vignesh\n",
            "Vignesh\n",
            "Vignesh\n",
            "Vignesh\n",
            "Vignesh\n",
            "Vignesh\n",
            "Vignesh\n",
            "Vignesh\n",
            "Vignesh\n",
            "Vignesh\n",
            "Vignesh\n",
            "Vignesh\n",
            "Vignesh\n",
            "Vignesh\n",
            "Vignesh\n",
            "Vignesh\n",
            "Vignesh\n",
            "Vignesh\n",
            "Vignesh\n",
            "Vignesh\n",
            "Vignesh\n",
            "Vignesh\n",
            "Vignesh\n",
            "Vignesh\n",
            "Vignesh\n",
            "Vignesh\n",
            "Vignesh\n",
            "Vignesh\n",
            "Vignesh\n",
            "Vignesh\n",
            "Vignesh\n",
            "Vignesh\n",
            "Vignesh\n",
            "Vignesh\n",
            "Vignesh\n",
            "Vignesh\n",
            "Vignesh\n",
            "Vignesh\n",
            "Vignesh\n",
            "Vignesh\n",
            "Vignesh\n",
            "Vignesh\n",
            "Vignesh\n",
            "Vignesh\n",
            "Vignesh\n",
            "Vignesh\n",
            "Vignesh\n",
            "Vignesh\n",
            "Vignesh\n",
            "Vignesh\n",
            "Vignesh\n",
            "Vignesh\n",
            "Vignesh\n",
            "Vignesh\n",
            "Vignesh\n",
            "Vignesh\n",
            "Vignesh\n",
            "Vignesh\n",
            "Vignesh\n",
            "Vignesh\n",
            "Vignesh\n",
            "Vignesh\n",
            "Vignesh\n",
            "Vignesh\n",
            "Vignesh\n",
            "Vignesh\n",
            "Vignesh\n",
            "Vignesh\n",
            "Vignesh\n",
            "Vignesh\n",
            "Vignesh\n",
            "Vignesh\n",
            "Vignesh\n",
            "Vignesh\n",
            "Vignesh\n",
            "Vignesh\n",
            "Vignesh\n",
            "Vignesh\n",
            "Vignesh\n",
            "Vignesh\n",
            "Vignesh\n",
            "Vignesh\n",
            "Vignesh\n",
            "Vignesh\n",
            "Vignesh\n",
            "Vignesh\n",
            "Vignesh\n",
            "Vignesh\n",
            "Vignesh\n",
            "Vignesh\n",
            "Vignesh\n",
            "Vignesh\n",
            "Vignesh\n",
            "Vignesh\n",
            "Vignesh\n",
            "Vignesh\n",
            "Vignesh\n",
            "Vignesh\n",
            "Vignesh\n",
            "Vignesh\n",
            "Vignesh\n",
            "Vignesh\n",
            "Vignesh\n",
            "Vignesh\n",
            "Vignesh\n",
            "Vignesh\n",
            "Vignesh\n",
            "Vignesh\n",
            "Vignesh\n",
            "Vignesh\n",
            "Vignesh\n",
            "Vignesh\n",
            "Vignesh\n",
            "Vignesh\n",
            "Vignesh\n",
            "Vignesh\n",
            "Vignesh\n",
            "Vignesh\n",
            "Vignesh\n",
            "Vignesh\n",
            "Vignesh\n",
            "Vignesh\n",
            "Vignesh\n",
            "Vignesh\n",
            "Vignesh\n",
            "Vignesh\n",
            "Vignesh\n",
            "Vignesh\n",
            "Vignesh\n",
            "Vignesh\n",
            "Vignesh\n",
            "Vignesh\n",
            "Vignesh\n",
            "Vignesh\n",
            "Vignesh\n",
            "Vignesh\n",
            "Vignesh\n",
            "Vignesh\n",
            "Vignesh\n",
            "Vignesh\n",
            "Vignesh\n",
            "Vignesh\n",
            "Vignesh\n",
            "Vignesh\n",
            "Vignesh\n",
            "Vignesh\n",
            "Vignesh\n",
            "Vignesh\n",
            "Vignesh\n",
            "Vignesh\n",
            "Vignesh\n",
            "Vignesh\n",
            "Vignesh\n",
            "Vignesh\n",
            "Vignesh\n",
            "Vignesh\n",
            "Vignesh\n",
            "Vignesh\n",
            "Vignesh\n",
            "Vignesh\n",
            "Vignesh\n",
            "Vignesh\n",
            "Vignesh\n",
            "Vignesh\n",
            "Vignesh\n",
            "Vignesh\n",
            "Vignesh\n",
            "Vignesh\n",
            "Vignesh\n",
            "Vignesh\n",
            "Vignesh\n",
            "Vignesh\n",
            "Vignesh\n",
            "Vignesh\n",
            "Vignesh\n",
            "Vignesh\n",
            "Vignesh\n",
            "Vignesh\n",
            "Vignesh\n",
            "Vignesh\n",
            "Vignesh\n",
            "Vignesh\n",
            "Vignesh\n",
            "Vignesh\n",
            "Vignesh\n",
            "Vignesh\n",
            "Vignesh\n",
            "Vignesh\n",
            "Vignesh\n",
            "Vignesh\n",
            "Vignesh\n",
            "Vignesh\n",
            "Vignesh\n",
            "Vignesh\n",
            "Vignesh\n",
            "Vignesh\n",
            "Vignesh\n",
            "Vignesh\n",
            "Vignesh\n",
            "Vignesh\n",
            "Vignesh\n",
            "Vignesh\n",
            "Vignesh\n",
            "Vignesh\n",
            "Vignesh\n",
            "Vignesh\n",
            "Vignesh\n",
            "Vignesh\n",
            "Vignesh\n",
            "Vignesh\n",
            "Vignesh\n",
            "Vignesh\n",
            "Vignesh\n",
            "Vignesh\n",
            "Vignesh\n",
            "Vignesh\n",
            "Vignesh\n",
            "Vignesh\n",
            "Vignesh\n",
            "Vignesh\n",
            "Vignesh\n",
            "Vignesh\n",
            "Vignesh\n",
            "Vignesh\n",
            "Vignesh\n",
            "Vignesh\n",
            "Vignesh\n",
            "Vignesh\n",
            "Vignesh\n",
            "Vignesh\n",
            "Vignesh\n",
            "Vignesh\n",
            "Vignesh\n",
            "Vignesh\n",
            "Vignesh\n",
            "Vignesh\n",
            "Vignesh\n",
            "Vignesh\n",
            "Vignesh\n",
            "Vignesh\n",
            "Vignesh\n",
            "Vignesh\n",
            "Vignesh\n",
            "Vignesh\n",
            "Vignesh\n",
            "Vignesh\n",
            "Vignesh\n",
            "Vignesh\n",
            "Vignesh\n",
            "Vignesh\n",
            "Vignesh\n",
            "Vignesh\n",
            "Vignesh\n",
            "Vignesh\n",
            "Vignesh\n",
            "Vignesh\n",
            "Vignesh\n",
            "Vignesh\n",
            "Vignesh\n",
            "Vignesh\n",
            "Vignesh\n",
            "Vignesh\n",
            "Vignesh\n",
            "Vignesh\n",
            "Vignesh\n",
            "Vignesh\n",
            "Vignesh\n",
            "Vignesh\n",
            "Vignesh\n",
            "Vignesh\n",
            "Vignesh\n",
            "Vignesh\n",
            "Vignesh\n",
            "Vignesh\n",
            "Vignesh\n",
            "Vignesh\n",
            "Vignesh\n",
            "Vignesh\n",
            "Vignesh\n",
            "Vignesh\n",
            "Vignesh\n",
            "Vignesh\n",
            "Vignesh\n",
            "Vignesh\n",
            "Vignesh\n",
            "Vignesh\n",
            "Vignesh\n",
            "Vignesh\n",
            "Vignesh\n",
            "Vignesh\n",
            "Vignesh\n",
            "Vignesh\n",
            "Vignesh\n",
            "Vignesh\n",
            "Vignesh\n",
            "Vignesh\n",
            "Vignesh\n",
            "Vignesh\n",
            "Vignesh\n",
            "Vignesh\n",
            "Vignesh\n",
            "Vignesh\n",
            "Vignesh\n",
            "Vignesh\n",
            "Vignesh\n",
            "Vignesh\n",
            "Vignesh\n",
            "Vignesh\n",
            "Vignesh\n",
            "Vignesh\n",
            "Vignesh\n",
            "Vignesh\n",
            "Vignesh\n",
            "Vignesh\n",
            "Vignesh\n",
            "Vignesh\n",
            "Vignesh\n",
            "Vignesh\n",
            "Vignesh\n",
            "Vignesh\n",
            "Vignesh\n",
            "Vignesh\n",
            "Vignesh\n",
            "Vignesh\n",
            "Vignesh\n",
            "Vignesh\n",
            "Vignesh\n",
            "Vignesh\n",
            "Vignesh\n",
            "Vignesh\n",
            "Vignesh\n",
            "Vignesh\n",
            "Vignesh\n",
            "Vignesh\n",
            "Vignesh\n",
            "Vignesh\n",
            "Vignesh\n",
            "Vignesh\n",
            "Vignesh\n",
            "Vignesh\n",
            "Vignesh\n",
            "Vignesh\n",
            "Vignesh\n",
            "Vignesh\n",
            "Vignesh\n",
            "Vignesh\n",
            "Vignesh\n",
            "Vignesh\n",
            "Vignesh\n",
            "Vignesh\n",
            "Vignesh\n",
            "Vignesh\n",
            "Vignesh\n",
            "Vignesh\n",
            "Vignesh\n",
            "Vignesh\n",
            "Vignesh\n",
            "Vignesh\n",
            "Vignesh\n",
            "Vignesh\n",
            "Vignesh\n",
            "Vignesh\n",
            "Vignesh\n",
            "Vignesh\n",
            "Vignesh\n",
            "Vignesh\n",
            "Vignesh\n",
            "Vignesh\n",
            "Vignesh\n",
            "Vignesh\n",
            "Vignesh\n",
            "Vignesh\n",
            "Vignesh\n",
            "Vignesh\n",
            "Vignesh\n",
            "Vignesh\n",
            "Vignesh\n",
            "Vignesh\n",
            "Vignesh\n",
            "Vignesh\n",
            "Vignesh\n",
            "Vignesh\n",
            "Vignesh\n",
            "Vignesh\n",
            "Vignesh\n",
            "Vignesh\n",
            "Vignesh\n",
            "Vignesh\n",
            "Vignesh\n",
            "Vignesh\n",
            "Vignesh\n",
            "Vignesh\n",
            "Vignesh\n",
            "Vignesh\n",
            "Vignesh\n",
            "Vignesh\n",
            "Vignesh\n",
            "Vignesh\n",
            "Vignesh\n",
            "Vignesh\n",
            "Vignesh\n",
            "Vignesh\n",
            "Vignesh\n",
            "Vignesh\n",
            "Vignesh\n",
            "Vignesh\n",
            "Vignesh\n",
            "Vignesh\n",
            "Vignesh\n",
            "Vignesh\n",
            "Vignesh\n",
            "Vignesh\n",
            "Vignesh\n",
            "Vignesh\n",
            "Vignesh\n",
            "Vignesh\n",
            "Vignesh\n",
            "Vignesh\n",
            "Vignesh\n",
            "Vignesh\n",
            "Vignesh\n",
            "Vignesh\n",
            "Vignesh\n",
            "Vignesh\n",
            "Vignesh\n",
            "Vignesh\n",
            "Vignesh\n",
            "Vignesh\n",
            "Vignesh\n",
            "Vignesh\n",
            "Vignesh\n",
            "Vignesh\n",
            "Vignesh\n",
            "Vignesh\n",
            "Vignesh\n",
            "Vignesh\n",
            "Vignesh\n",
            "Vignesh\n",
            "Vignesh\n",
            "Vignesh\n",
            "Vignesh\n",
            "Vignesh\n",
            "Vignesh\n",
            "Vignesh\n",
            "Vignesh\n",
            "Vignesh\n",
            "Vignesh\n",
            "Vignesh\n",
            "Vignesh\n",
            "Vignesh\n",
            "Vignesh\n",
            "Vignesh\n",
            "Vignesh\n",
            "Vignesh\n",
            "Vignesh\n",
            "Vignesh\n",
            "Vignesh\n",
            "Vignesh\n",
            "Vignesh\n",
            "Vignesh\n",
            "Vignesh\n",
            "Vignesh\n",
            "Vignesh\n",
            "Vignesh\n",
            "Vignesh\n",
            "Vignesh\n",
            "Vignesh\n",
            "Vignesh\n",
            "Vignesh\n",
            "Vignesh\n",
            "Vignesh\n",
            "Vignesh\n",
            "Vignesh\n",
            "Vignesh\n",
            "Vignesh\n",
            "Vignesh\n",
            "Vignesh\n",
            "Vignesh\n",
            "Vignesh\n",
            "Vignesh\n",
            "Vignesh\n",
            "Vignesh\n",
            "Vignesh\n",
            "Vignesh\n",
            "Vignesh\n",
            "Vignesh\n",
            "Vignesh\n",
            "Vignesh\n",
            "Vignesh\n",
            "Vignesh\n",
            "Vignesh\n",
            "Vignesh\n",
            "Vignesh\n",
            "Vignesh\n",
            "Vignesh\n",
            "Vignesh\n",
            "Vignesh\n",
            "Vignesh\n",
            "Vignesh\n",
            "Vignesh\n",
            "Vignesh\n",
            "Vignesh\n",
            "Vignesh\n",
            "Vignesh\n",
            "Vignesh\n",
            "Vignesh\n",
            "Vignesh\n",
            "Vignesh\n",
            "Vignesh\n",
            "Vignesh\n",
            "Vignesh\n",
            "Vignesh\n",
            "Vignesh\n",
            "Vignesh\n",
            "Vignesh\n",
            "Vignesh\n",
            "Vignesh\n",
            "Vignesh\n",
            "Vignesh\n",
            "Vignesh\n",
            "Vignesh\n",
            "Vignesh\n",
            "Vignesh\n",
            "Vignesh\n",
            "Vignesh\n",
            "Vignesh\n",
            "Vignesh\n",
            "Vignesh\n",
            "Vignesh\n",
            "Vignesh\n",
            "Vignesh\n",
            "Vignesh\n",
            "Vignesh\n",
            "Vignesh\n",
            "Vignesh\n",
            "Vignesh\n",
            "Vignesh\n",
            "Vignesh\n",
            "Vignesh\n",
            "Vignesh\n",
            "Vignesh\n",
            "Vignesh\n",
            "Vignesh\n",
            "Vignesh\n",
            "Vignesh\n",
            "Vignesh\n",
            "Vignesh\n",
            "Vignesh\n",
            "Vignesh\n",
            "Vignesh\n",
            "Vignesh\n",
            "Vignesh\n",
            "Vignesh\n",
            "Vignesh\n",
            "Vignesh\n",
            "Vignesh\n",
            "Vignesh\n",
            "Vignesh\n",
            "Vignesh\n",
            "Vignesh\n",
            "Vignesh\n",
            "Vignesh\n",
            "Vignesh\n",
            "Vignesh\n",
            "Vignesh\n",
            "Vignesh\n",
            "Vignesh\n",
            "Vignesh\n",
            "Vignesh\n",
            "Vignesh\n",
            "Vignesh\n",
            "Vignesh\n",
            "Vignesh\n",
            "Vignesh\n",
            "Vignesh\n",
            "Vignesh\n",
            "Vignesh\n",
            "Vignesh\n",
            "Vignesh\n",
            "Vignesh\n",
            "Vignesh\n",
            "Vignesh\n",
            "Vignesh\n",
            "Vignesh\n",
            "Vignesh\n",
            "Vignesh\n",
            "Vignesh\n",
            "Vignesh\n",
            "Vignesh\n",
            "Vignesh\n",
            "Vignesh\n",
            "Vignesh\n",
            "Vignesh\n",
            "Vignesh\n",
            "Vignesh\n",
            "Vignesh\n",
            "Vignesh\n",
            "Vignesh\n",
            "Vignesh\n",
            "Vignesh\n",
            "Vignesh\n",
            "Vignesh\n",
            "Vignesh\n",
            "Vignesh\n",
            "Vignesh\n",
            "Vignesh\n",
            "Vignesh\n",
            "Vignesh\n",
            "Vignesh\n",
            "Vignesh\n",
            "Vignesh\n",
            "Vignesh\n",
            "Vignesh\n",
            "Vignesh\n",
            "Vignesh\n",
            "Vignesh\n",
            "Vignesh\n",
            "Vignesh\n",
            "Vignesh\n",
            "Vignesh\n",
            "Vignesh\n",
            "Vignesh\n",
            "Vignesh\n",
            "Vignesh\n",
            "Vignesh\n",
            "Vignesh\n",
            "Vignesh\n",
            "Vignesh\n",
            "Vignesh\n",
            "Vignesh\n",
            "Vignesh\n",
            "Vignesh\n",
            "Vignesh\n",
            "Vignesh\n",
            "Vignesh\n",
            "Vignesh\n",
            "Vignesh\n",
            "Vignesh\n",
            "Vignesh\n",
            "Vignesh\n",
            "Vignesh\n",
            "Vignesh\n",
            "Vignesh\n",
            "Vignesh\n",
            "Vignesh\n",
            "Vignesh\n",
            "Vignesh\n",
            "Vignesh\n",
            "Vignesh\n",
            "Vignesh\n",
            "Vignesh\n",
            "Vignesh\n",
            "Vignesh\n",
            "Vignesh\n",
            "Vignesh\n",
            "Vignesh\n",
            "Vignesh\n",
            "Vignesh\n",
            "Vignesh\n",
            "Vignesh\n",
            "Vignesh\n",
            "Vignesh\n",
            "Vignesh\n",
            "Vignesh\n",
            "Vignesh\n",
            "Vignesh\n",
            "Vignesh\n",
            "Vignesh\n",
            "Vignesh\n",
            "Vignesh\n",
            "Vignesh\n",
            "Vignesh\n",
            "Vignesh\n",
            "Vignesh\n",
            "Vignesh\n",
            "Vignesh\n",
            "Vignesh\n",
            "Vignesh\n",
            "Vignesh\n",
            "Vignesh\n",
            "Vignesh\n",
            "Vignesh\n",
            "Vignesh\n",
            "Vignesh\n",
            "Vignesh\n",
            "Vignesh\n",
            "Vignesh\n",
            "Vignesh\n",
            "Vignesh\n",
            "Vignesh\n",
            "Vignesh\n",
            "Vignesh\n",
            "Vignesh\n",
            "Vignesh\n",
            "Vignesh\n",
            "Vignesh\n",
            "Vignesh\n",
            "Vignesh\n",
            "Vignesh\n",
            "Vignesh\n",
            "Vignesh\n",
            "Vignesh\n",
            "Vignesh\n",
            "Vignesh\n",
            "Vignesh\n",
            "Vignesh\n",
            "Vignesh\n",
            "Vignesh\n",
            "Vignesh\n",
            "Vignesh\n",
            "Vignesh\n",
            "Vignesh\n",
            "Vignesh\n",
            "Vignesh\n",
            "Vignesh\n",
            "Vignesh\n",
            "Vignesh\n",
            "Vignesh\n",
            "Vignesh\n",
            "Vignesh\n",
            "Vignesh\n",
            "Vignesh\n",
            "Vignesh\n",
            "Vignesh\n",
            "Vignesh\n",
            "Vignesh\n",
            "Vignesh\n",
            "Vignesh\n",
            "Vignesh\n",
            "Vignesh\n",
            "Vignesh\n",
            "Vignesh\n",
            "Vignesh\n",
            "Vignesh\n",
            "Vignesh\n",
            "Vignesh\n",
            "Vignesh\n",
            "Vignesh\n",
            "Vignesh\n",
            "Vignesh\n",
            "Vignesh\n",
            "Vignesh\n",
            "Vignesh\n",
            "Vignesh\n",
            "Vignesh\n",
            "Vignesh\n",
            "Vignesh\n",
            "Vignesh\n",
            "Vignesh\n",
            "Vignesh\n",
            "Vignesh\n",
            "Vignesh\n",
            "Vignesh\n",
            "Vignesh\n",
            "Vignesh\n",
            "Vignesh\n",
            "Vignesh\n",
            "Vignesh\n",
            "Vignesh\n",
            "Vignesh\n",
            "Vignesh\n",
            "Vignesh\n",
            "Vignesh\n",
            "Vignesh\n",
            "Vignesh\n",
            "Vignesh\n",
            "Vignesh\n",
            "Vignesh\n",
            "Vignesh\n",
            "Vignesh\n",
            "Vignesh\n",
            "Vignesh\n",
            "Vignesh\n",
            "Vignesh\n",
            "Vignesh\n",
            "Vignesh\n",
            "Vignesh\n",
            "Vignesh\n",
            "Vignesh\n",
            "Vignesh\n",
            "Vignesh\n",
            "Vignesh\n",
            "Vignesh\n",
            "Vignesh\n",
            "Vignesh\n",
            "Vignesh\n",
            "Vignesh\n",
            "Vignesh\n",
            "Vignesh\n",
            "Vignesh\n",
            "Vignesh\n",
            "Vignesh\n",
            "Vignesh\n",
            "Vignesh\n",
            "Vignesh\n",
            "Vignesh\n",
            "Vignesh\n",
            "Vignesh\n",
            "Vignesh\n",
            "Vignesh\n",
            "Vignesh\n",
            "Vignesh\n",
            "Vignesh\n",
            "Vignesh\n",
            "Vignesh\n",
            "Vignesh\n",
            "Vignesh\n",
            "Vignesh\n",
            "Vignesh\n",
            "Vignesh\n",
            "Vignesh\n",
            "Vignesh\n",
            "Vignesh\n",
            "Vignesh\n",
            "Vignesh\n",
            "Vignesh\n",
            "Vignesh\n",
            "Vignesh\n",
            "Vignesh\n",
            "Vignesh\n",
            "Vignesh\n",
            "Vignesh\n",
            "Vignesh\n",
            "Vignesh\n",
            "Vignesh\n",
            "Vignesh\n",
            "Vignesh\n",
            "Vignesh\n",
            "Vignesh\n",
            "Vignesh\n",
            "Vignesh\n",
            "Vignesh\n",
            "Vignesh\n",
            "Vignesh\n",
            "Vignesh\n",
            "Vignesh\n",
            "Vignesh\n",
            "Vignesh\n",
            "Vignesh\n",
            "Vignesh\n",
            "Vignesh\n",
            "Vignesh\n",
            "Vignesh\n",
            "Vignesh\n",
            "Vignesh\n",
            "Vignesh\n",
            "Vignesh\n",
            "Vignesh\n",
            "Vignesh\n",
            "Vignesh\n",
            "Vignesh\n",
            "Vignesh\n",
            "Vignesh\n",
            "Vignesh\n",
            "Vignesh\n",
            "Vignesh\n",
            "Vignesh\n",
            "Vignesh\n",
            "Vignesh\n",
            "Vignesh\n",
            "Vignesh\n",
            "Vignesh\n",
            "Vignesh\n",
            "Vignesh\n",
            "Vignesh\n",
            "Vignesh\n",
            "Vignesh\n",
            "Vignesh\n",
            "Vignesh\n",
            "Vignesh\n",
            "Vignesh\n",
            "Vignesh\n",
            "Vignesh\n",
            "Vignesh\n",
            "Vignesh\n",
            "Vignesh\n",
            "Vignesh\n",
            "Vignesh\n",
            "Vignesh\n",
            "Vignesh\n",
            "Vignesh\n",
            "Vignesh\n",
            "Vignesh\n",
            "Vignesh\n",
            "Vignesh\n",
            "Vignesh\n",
            "Vignesh\n",
            "Vignesh\n",
            "Vignesh\n",
            "Vignesh\n",
            "Vignesh\n",
            "Vignesh\n",
            "Vignesh\n",
            "Vignesh\n",
            "Vignesh\n",
            "Vignesh\n",
            "Vignesh\n",
            "Vignesh\n",
            "Vignesh\n",
            "Vignesh\n",
            "Vignesh\n",
            "Vignesh\n",
            "Vignesh\n",
            "Vignesh\n",
            "Vignesh\n",
            "Vignesh\n",
            "Vignesh\n",
            "Vignesh\n",
            "Vignesh\n",
            "Vignesh\n",
            "Vignesh\n",
            "Vignesh\n",
            "Vignesh\n",
            "Vignesh\n",
            "Vignesh\n",
            "Vignesh\n",
            "Vignesh\n",
            "Vignesh\n",
            "Vignesh\n",
            "Vignesh\n",
            "Vignesh\n",
            "Vignesh\n",
            "Vignesh\n",
            "Vignesh\n",
            "Vignesh\n",
            "Vignesh\n",
            "Vignesh\n",
            "Vignesh\n",
            "Vignesh\n",
            "Vignesh\n",
            "Vignesh\n",
            "Vignesh\n",
            "Vignesh\n",
            "Vignesh\n",
            "Vignesh\n",
            "Vignesh\n",
            "Vignesh\n",
            "Vignesh\n",
            "Vignesh\n",
            "Vignesh\n",
            "Vignesh\n",
            "Vignesh\n",
            "Vignesh\n",
            "Vignesh\n",
            "Vignesh\n",
            "Vignesh\n",
            "Vignesh\n",
            "Vignesh\n",
            "Vignesh\n",
            "Vignesh\n",
            "Vignesh\n",
            "Vignesh\n",
            "Vignesh\n",
            "Vignesh\n",
            "Vignesh\n",
            "Vignesh\n",
            "Vignesh\n",
            "Vignesh\n",
            "Vignesh\n",
            "Vignesh\n",
            "Vignesh\n",
            "Vignesh\n",
            "Vignesh\n",
            "Vignesh\n",
            "Vignesh\n",
            "Vignesh\n",
            "Vignesh\n",
            "Vignesh\n",
            "Vignesh\n",
            "Vignesh\n",
            "Vignesh\n",
            "Vignesh\n",
            "Vignesh\n",
            "Vignesh\n",
            "Vignesh\n",
            "Vignesh\n",
            "Vignesh\n",
            "Vignesh\n",
            "Vignesh\n",
            "Vignesh\n",
            "Vignesh\n",
            "Vignesh\n",
            "Vignesh\n",
            "Vignesh\n",
            "Vignesh\n",
            "Vignesh\n",
            "Vignesh\n",
            "Vignesh\n",
            "Vignesh\n",
            "Vignesh\n",
            "Vignesh\n",
            "Vignesh\n",
            "Vignesh\n",
            "Vignesh\n",
            "Vignesh\n",
            "Vignesh\n",
            "Vignesh\n",
            "Vignesh\n",
            "Vignesh\n",
            "Vignesh\n",
            "Vignesh\n",
            "Vignesh\n",
            "Vignesh\n",
            "Vignesh\n",
            "Vignesh\n",
            "Vignesh\n",
            "Vignesh\n",
            "Vignesh\n",
            "Vignesh\n",
            "Vignesh\n",
            "Vignesh\n",
            "Vignesh\n",
            "Vignesh\n",
            "Vignesh\n",
            "Vignesh\n",
            "Vignesh\n",
            "Vignesh\n",
            "Vignesh\n",
            "Vignesh\n",
            "Vignesh\n",
            "Vignesh\n",
            "Vignesh\n",
            "Vignesh\n",
            "Vignesh\n",
            "Vignesh\n",
            "Vignesh\n",
            "Vignesh\n",
            "Vignesh\n",
            "Vignesh\n",
            "Vignesh\n",
            "Vignesh\n",
            "Vignesh\n",
            "Vignesh\n",
            "Vignesh\n",
            "Vignesh\n",
            "Vignesh\n",
            "Vignesh\n",
            "Vignesh\n",
            "Vignesh\n",
            "Vignesh\n",
            "Vignesh\n",
            "Vignesh\n",
            "Vignesh\n",
            "Vignesh\n",
            "Vignesh\n",
            "Vignesh\n",
            "Vignesh\n",
            "Vignesh\n",
            "Vignesh\n",
            "Vignesh\n",
            "Vignesh\n",
            "Vignesh\n",
            "Vignesh\n",
            "Vignesh\n",
            "Vignesh\n",
            "Vignesh\n",
            "Vignesh\n",
            "Vignesh\n",
            "Vignesh\n",
            "Vignesh\n",
            "Vignesh\n",
            "Vignesh\n",
            "Vignesh\n",
            "Vignesh\n",
            "Vignesh\n",
            "Vignesh\n",
            "Vignesh\n",
            "Vignesh\n",
            "Vignesh\n",
            "Vignesh\n",
            "Vignesh\n",
            "Vignesh\n",
            "Vignesh\n",
            "Vignesh\n",
            "Vignesh\n",
            "Vignesh\n",
            "Vignesh\n",
            "Vignesh\n",
            "Vignesh\n",
            "Vignesh\n",
            "Vignesh\n",
            "Vignesh\n",
            "Vignesh\n",
            "Vignesh\n",
            "Vignesh\n",
            "Vignesh\n",
            "Vignesh\n",
            "Vignesh\n",
            "Vignesh\n",
            "Vignesh\n",
            "Vignesh\n",
            "Vignesh\n",
            "Vignesh\n",
            "Vignesh\n",
            "Vignesh\n",
            "Vignesh\n",
            "Vignesh\n",
            "Vignesh\n",
            "Vignesh\n",
            "Vignesh\n",
            "Vignesh\n",
            "Vignesh\n",
            "Vignesh\n",
            "Vignesh\n",
            "Vignesh\n",
            "Vignesh\n",
            "Vignesh\n",
            "Vignesh\n",
            "Vignesh\n",
            "Vignesh\n",
            "Vignesh\n",
            "Vignesh\n",
            "Vignesh\n",
            "Vignesh\n",
            "Vignesh\n",
            "Vignesh\n",
            "Vignesh\n",
            "Vignesh\n",
            "Vignesh\n",
            "Vignesh\n",
            "Vignesh\n",
            "Vignesh\n",
            "Vignesh\n",
            "Vignesh\n",
            "Vignesh\n",
            "Vignesh\n",
            "Vignesh\n",
            "Vignesh\n",
            "Vignesh\n",
            "Vignesh\n",
            "Vignesh\n",
            "Vignesh\n",
            "Vignesh\n",
            "Vignesh\n",
            "Vignesh\n",
            "Vignesh\n",
            "Vignesh\n",
            "Vignesh\n",
            "Vignesh\n",
            "Vignesh\n",
            "Vignesh\n",
            "Vignesh\n",
            "Vignesh\n",
            "Vignesh\n",
            "Vignesh\n",
            "Vignesh\n",
            "Vignesh\n",
            "Vignesh\n",
            "Vignesh\n",
            "Vignesh\n",
            "Vignesh\n",
            "Vignesh\n",
            "Vignesh\n",
            "Vignesh\n",
            "Vignesh\n",
            "Vignesh\n",
            "Vignesh\n",
            "Vignesh\n",
            "Vignesh\n",
            "Vignesh\n",
            "Vignesh\n",
            "Vignesh\n",
            "Vignesh\n",
            "Vignesh\n",
            "Vignesh\n",
            "Vignesh\n",
            "Vignesh\n",
            "Vignesh\n",
            "Vignesh\n",
            "Vignesh\n",
            "Vignesh\n",
            "Vignesh\n",
            "Vignesh\n",
            "Vignesh\n",
            "Vignesh\n",
            "Vignesh\n",
            "Vignesh\n",
            "Vignesh\n",
            "Vignesh\n",
            "Vignesh\n",
            "Vignesh\n",
            "Vignesh\n",
            "Vignesh\n",
            "Vignesh\n",
            "Vignesh\n",
            "Vignesh\n",
            "Vignesh\n",
            "Vignesh\n",
            "Vignesh\n",
            "Vignesh\n",
            "Vignesh\n",
            "Vignesh\n",
            "Vignesh\n",
            "Vignesh\n",
            "Vignesh\n",
            "Vignesh\n",
            "Vignesh\n",
            "Vignesh\n",
            "Vignesh\n",
            "Vignesh\n",
            "Vignesh\n",
            "Vignesh\n",
            "Vignesh\n",
            "Vignesh\n",
            "Vignesh\n",
            "Vignesh\n",
            "Vignesh\n",
            "Vignesh\n",
            "Vignesh\n",
            "Vignesh\n",
            "Vignesh\n",
            "Vignesh\n",
            "Vignesh\n",
            "Vignesh\n",
            "Vignesh\n",
            "Vignesh\n",
            "Vignesh\n",
            "Vignesh\n",
            "Vignesh\n",
            "Vignesh\n",
            "Vignesh\n",
            "Vignesh\n",
            "Vignesh\n",
            "Vignesh\n",
            "Vignesh\n",
            "Vignesh\n",
            "Vignesh\n",
            "Vignesh\n",
            "Vignesh\n",
            "Vignesh\n",
            "Vignesh\n",
            "Vignesh\n",
            "Vignesh\n",
            "Vignesh\n",
            "Vignesh\n",
            "Vignesh\n",
            "Vignesh\n",
            "Vignesh\n",
            "Vignesh\n",
            "Vignesh\n",
            "Vignesh\n",
            "Vignesh\n",
            "Vignesh\n",
            "Vignesh\n",
            "Vignesh\n",
            "Vignesh\n",
            "Vignesh\n",
            "Vignesh\n",
            "Vignesh\n",
            "Vignesh\n",
            "Vignesh\n",
            "Vignesh\n",
            "Vignesh\n",
            "Vignesh\n",
            "Vignesh\n",
            "Vignesh\n",
            "Vignesh\n",
            "Vignesh\n",
            "Vignesh\n",
            "Vignesh\n",
            "Vignesh\n",
            "Vignesh\n",
            "Vignesh\n",
            "Vignesh\n",
            "Vignesh\n",
            "Vignesh\n",
            "Vignesh\n",
            "Vignesh\n",
            "Vignesh\n",
            "Vignesh\n",
            "Vignesh\n",
            "Vignesh\n",
            "Vignesh\n",
            "Vignesh\n",
            "Vignesh\n",
            "Vignesh\n",
            "Vignesh\n",
            "Vignesh\n",
            "Vignesh\n",
            "Vignesh\n",
            "Vignesh\n",
            "Vignesh\n",
            "Vignesh\n",
            "Vignesh\n",
            "Vignesh\n",
            "Vignesh\n",
            "Vignesh\n",
            "Vignesh\n",
            "Vignesh\n",
            "Vignesh\n",
            "Vignesh\n",
            "Vignesh\n",
            "Vignesh\n",
            "Vignesh\n",
            "Vignesh\n",
            "Vignesh\n",
            "Vignesh\n",
            "Vignesh\n",
            "Vignesh\n",
            "Vignesh\n",
            "Vignesh\n",
            "Vignesh\n",
            "Vignesh\n",
            "Vignesh\n",
            "Vignesh\n",
            "Vignesh\n",
            "Vignesh\n",
            "Vignesh\n",
            "Vignesh\n",
            "Vignesh\n",
            "Vignesh\n",
            "Vignesh\n",
            "Vignesh\n",
            "Vignesh\n",
            "Vignesh\n",
            "Vignesh\n",
            "Vignesh\n",
            "Vignesh\n",
            "Vignesh\n",
            "Vignesh\n",
            "Vignesh\n",
            "Vignesh\n",
            "Vignesh\n",
            "Vignesh\n",
            "Vignesh\n",
            "Vignesh\n",
            "Vignesh\n",
            "Vignesh\n",
            "Vignesh\n",
            "Vignesh\n",
            "Vignesh\n",
            "Vignesh\n",
            "Vignesh\n",
            "Vignesh\n",
            "Vignesh\n",
            "Vignesh\n",
            "Vignesh\n",
            "Vignesh\n",
            "Vignesh\n",
            "Vignesh\n",
            "Vignesh\n",
            "Vignesh\n",
            "Vignesh\n",
            "Vignesh\n",
            "Vignesh\n",
            "Vignesh\n",
            "Vignesh\n",
            "Vignesh\n",
            "Vignesh\n",
            "Vignesh\n",
            "Vignesh\n",
            "Vignesh\n",
            "Vignesh\n",
            "Vignesh\n",
            "Vignesh\n",
            "Vignesh\n",
            "Vignesh\n",
            "Vignesh\n",
            "Vignesh\n",
            "Vignesh\n",
            "Vignesh\n",
            "Vignesh\n",
            "Vignesh\n",
            "Vignesh\n",
            "Vignesh\n",
            "Vignesh\n",
            "Vignesh\n",
            "Vignesh\n",
            "Vignesh\n",
            "Vignesh\n",
            "Vignesh\n",
            "Vignesh\n",
            "Vignesh\n",
            "Vignesh\n",
            "Vignesh\n",
            "Vignesh\n",
            "Vignesh\n",
            "Vignesh\n",
            "Vignesh\n",
            "Vignesh\n",
            "Vignesh\n",
            "Vignesh\n",
            "Vignesh\n",
            "Vignesh\n",
            "Vignesh\n",
            "Vignesh\n",
            "Vignesh\n",
            "Vignesh\n",
            "Vignesh\n",
            "Vignesh\n",
            "Vignesh\n",
            "Vignesh\n",
            "Vignesh\n",
            "Vignesh\n",
            "Vignesh\n",
            "Vignesh\n",
            "Vignesh\n",
            "Vignesh\n",
            "Vignesh\n",
            "Vignesh\n",
            "Vignesh\n",
            "Vignesh\n",
            "Vignesh\n",
            "Vignesh\n",
            "Vignesh\n",
            "Vignesh\n",
            "Vignesh\n",
            "Vignesh\n",
            "Vignesh\n",
            "Vignesh\n",
            "Vignesh\n",
            "Vignesh\n",
            "Vignesh\n",
            "Vignesh\n",
            "Vignesh\n",
            "Vignesh\n",
            "Vignesh\n",
            "Vignesh\n",
            "Vignesh\n",
            "Vignesh\n",
            "Vignesh\n",
            "Vignesh\n",
            "Vignesh\n",
            "Vignesh\n",
            "Vignesh\n",
            "Vignesh\n",
            "Vignesh\n",
            "Vignesh\n",
            "Vignesh\n",
            "Vignesh\n",
            "Vignesh\n",
            "Vignesh\n",
            "Vignesh\n",
            "Vignesh\n",
            "Vignesh\n",
            "Vignesh\n",
            "Vignesh\n",
            "Vignesh\n",
            "Vignesh\n",
            "Vignesh\n",
            "Vignesh\n",
            "Vignesh\n",
            "Vignesh\n",
            "Vignesh\n",
            "Vignesh\n",
            "Vignesh\n",
            "Vignesh\n",
            "Vignesh\n",
            "Vignesh\n",
            "Vignesh\n",
            "Vignesh\n",
            "Vignesh\n",
            "Vignesh\n",
            "Vignesh\n",
            "Vignesh\n",
            "Vignesh\n",
            "Vignesh\n",
            "Vignesh\n",
            "Vignesh\n",
            "Vignesh\n",
            "Vignesh\n",
            "Vignesh\n",
            "Vignesh\n",
            "Vignesh\n",
            "Vignesh\n",
            "Vignesh\n",
            "Vignesh\n",
            "Vignesh\n",
            "Vignesh\n",
            "Vignesh\n",
            "Vignesh\n",
            "Vignesh\n",
            "Vignesh\n",
            "Vignesh\n",
            "Vignesh\n",
            "Vignesh\n",
            "Vignesh\n",
            "Vignesh\n",
            "Vignesh\n",
            "Vignesh\n",
            "Vignesh\n",
            "Vignesh\n",
            "Vignesh\n",
            "Vignesh\n",
            "Vignesh\n",
            "Vignesh\n",
            "Vignesh\n",
            "Vignesh\n",
            "Vignesh\n",
            "Vignesh\n",
            "Vignesh\n",
            "Vignesh\n",
            "Vignesh\n",
            "Vignesh\n",
            "Vignesh\n",
            "Vignesh\n",
            "Vignesh\n",
            "Vignesh\n",
            "Vignesh\n",
            "Vignesh\n",
            "Vignesh\n",
            "Vignesh\n",
            "Vignesh\n",
            "Vignesh\n",
            "Vignesh\n",
            "Vignesh\n",
            "Vignesh\n",
            "Vignesh\n",
            "Vignesh\n",
            "Vignesh\n",
            "Vignesh\n",
            "Vignesh\n",
            "Vignesh\n",
            "Vignesh\n",
            "Vignesh\n",
            "Vignesh\n",
            "Vignesh\n",
            "Vignesh\n",
            "Vignesh\n",
            "Vignesh\n",
            "Vignesh\n",
            "Vignesh\n",
            "Vignesh\n",
            "Vignesh\n",
            "Vignesh\n",
            "Vignesh\n",
            "Vignesh\n",
            "Vignesh\n",
            "Vignesh\n",
            "Vignesh\n",
            "Vignesh\n",
            "Vignesh\n",
            "Vignesh\n",
            "Vignesh\n",
            "Vignesh\n",
            "Vignesh\n",
            "Vignesh\n",
            "Vignesh\n",
            "Vignesh\n",
            "Vignesh\n",
            "Vignesh\n",
            "Vignesh\n",
            "Vignesh\n",
            "Vignesh\n",
            "Vignesh\n",
            "Vignesh\n",
            "Vignesh\n",
            "Vignesh\n",
            "Vignesh\n",
            "Vignesh\n",
            "Vignesh\n",
            "Vignesh\n",
            "Vignesh\n",
            "Vignesh\n",
            "Vignesh\n",
            "Vignesh\n",
            "Vignesh\n",
            "Vignesh\n",
            "Vignesh\n",
            "Vignesh\n",
            "Vignesh\n",
            "Vignesh\n",
            "Vignesh\n",
            "Vignesh\n",
            "Vignesh\n",
            "Vignesh\n",
            "Vignesh\n",
            "Vignesh\n",
            "Vignesh\n",
            "Vignesh\n",
            "Vignesh\n",
            "Vignesh\n",
            "Vignesh\n",
            "Vignesh\n",
            "Vignesh\n",
            "Vignesh\n",
            "Vignesh\n",
            "Vignesh\n",
            "Vignesh\n",
            "Vignesh\n",
            "Vignesh\n",
            "Vignesh\n",
            "Vignesh\n",
            "Vignesh\n",
            "Vignesh\n",
            "Vignesh\n",
            "Vignesh\n",
            "Vignesh\n",
            "Vignesh\n",
            "Vignesh\n",
            "Vignesh\n",
            "Vignesh\n",
            "Vignesh\n",
            "Vignesh\n",
            "Vignesh\n",
            "Vignesh\n",
            "Vignesh\n",
            "Vignesh\n",
            "Vignesh\n",
            "Vignesh\n",
            "Vignesh\n",
            "Vignesh\n",
            "Vignesh\n",
            "Vignesh\n",
            "Vignesh\n",
            "Vignesh\n",
            "Vignesh\n",
            "Vignesh\n",
            "Vignesh\n",
            "Vignesh\n",
            "Vignesh\n",
            "Vignesh\n",
            "Vignesh\n",
            "Vignesh\n",
            "Vignesh\n",
            "Vignesh\n",
            "Vignesh\n",
            "Vignesh\n",
            "Vignesh\n",
            "Vignesh\n",
            "Vignesh\n",
            "Vignesh\n",
            "Vignesh\n",
            "Vignesh\n",
            "Vignesh\n",
            "Vignesh\n",
            "Vignesh\n",
            "Vignesh\n",
            "Vignesh\n",
            "Vignesh\n",
            "Vignesh\n",
            "Vignesh\n",
            "Vignesh\n",
            "Vignesh\n",
            "Vignesh\n",
            "Vignesh\n",
            "Vignesh\n",
            "Vignesh\n",
            "Vignesh\n",
            "Vignesh\n",
            "Vignesh\n",
            "Vignesh\n",
            "Vignesh\n",
            "Vignesh\n",
            "Vignesh\n",
            "Vignesh\n",
            "Vignesh\n",
            "Vignesh\n",
            "Vignesh\n",
            "Vignesh\n",
            "Vignesh\n",
            "Vignesh\n",
            "Vignesh\n",
            "Vignesh\n",
            "Vignesh\n",
            "Vignesh\n",
            "Vignesh\n",
            "Vignesh\n",
            "Vignesh\n",
            "Vignesh\n",
            "Vignesh\n",
            "Vignesh\n",
            "Vignesh\n",
            "Vignesh\n",
            "Vignesh\n",
            "Vignesh\n",
            "Vignesh\n",
            "Vignesh\n",
            "Vignesh\n",
            "Vignesh\n",
            "Vignesh\n",
            "Vignesh\n",
            "Vignesh\n",
            "Vignesh\n",
            "Vignesh\n",
            "Vignesh\n",
            "Vignesh\n",
            "Vignesh\n",
            "Vignesh\n",
            "Vignesh\n",
            "Vignesh\n",
            "Vignesh\n",
            "Vignesh\n",
            "Vignesh\n",
            "Vignesh\n",
            "Vignesh\n",
            "Vignesh\n",
            "Vignesh\n",
            "Vignesh\n",
            "Vignesh\n",
            "Vignesh\n",
            "Vignesh\n",
            "Vignesh\n",
            "Vignesh\n",
            "Vignesh\n",
            "Vignesh\n",
            "Vignesh\n",
            "Vignesh\n",
            "Vignesh\n",
            "Vignesh\n",
            "Vignesh\n",
            "Vignesh\n",
            "Vignesh\n",
            "Vignesh\n",
            "Vignesh\n",
            "Vignesh\n",
            "Vignesh\n",
            "Vignesh\n",
            "Vignesh\n",
            "Vignesh\n",
            "Vignesh\n",
            "Vignesh\n",
            "Vignesh\n",
            "Vignesh\n",
            "Vignesh\n",
            "Vignesh\n",
            "Vignesh\n",
            "Vignesh\n",
            "Vignesh\n",
            "Vignesh\n",
            "Vignesh\n",
            "Vignesh\n",
            "Vignesh\n",
            "Vignesh\n",
            "Vignesh\n",
            "Vignesh\n",
            "Vignesh\n",
            "Vignesh\n",
            "Vignesh\n",
            "Vignesh\n",
            "Vignesh\n",
            "Vignesh\n",
            "Vignesh\n",
            "Vignesh\n",
            "Vignesh\n",
            "Vignesh\n",
            "Vignesh\n",
            "Vignesh\n",
            "Vignesh\n",
            "Vignesh\n",
            "Vignesh\n",
            "Vignesh\n",
            "Vignesh\n",
            "Vignesh\n",
            "Vignesh\n",
            "Vignesh\n",
            "Vignesh\n",
            "Vignesh\n",
            "Vignesh\n",
            "Vignesh\n",
            "Vignesh\n",
            "Vignesh\n",
            "Vignesh\n",
            "Vignesh\n",
            "Vignesh\n",
            "Vignesh\n",
            "Vignesh\n",
            "Vignesh\n",
            "Vignesh\n",
            "Vignesh\n",
            "Vignesh\n",
            "Vignesh\n",
            "Vignesh\n",
            "Vignesh\n",
            "Vignesh\n",
            "Vignesh\n",
            "Vignesh\n",
            "Vignesh\n",
            "Vignesh\n",
            "Vignesh\n",
            "Vignesh\n",
            "Vignesh\n",
            "Vignesh\n",
            "Vignesh\n",
            "Vignesh\n",
            "Vignesh\n",
            "Vignesh\n",
            "Vignesh\n",
            "Vignesh\n",
            "Vignesh\n",
            "Vignesh\n",
            "Vignesh\n",
            "Vignesh\n",
            "Vignesh\n",
            "Vignesh\n",
            "Vignesh\n",
            "Vignesh\n",
            "Vignesh\n",
            "Vignesh\n",
            "Vignesh\n",
            "Vignesh\n",
            "Vignesh\n",
            "Vignesh\n",
            "Vignesh\n",
            "Vignesh\n",
            "Vignesh\n",
            "Vignesh\n",
            "Vignesh\n",
            "Vignesh\n",
            "Vignesh\n",
            "Vignesh\n",
            "Vignesh\n",
            "Vignesh\n",
            "Vignesh\n",
            "Vignesh\n",
            "Vignesh\n",
            "Vignesh\n",
            "Vignesh\n",
            "Vignesh\n",
            "Vignesh\n",
            "Vignesh\n",
            "Vignesh\n",
            "Vignesh\n",
            "Vignesh\n",
            "Vignesh\n",
            "Vignesh\n",
            "Vignesh\n",
            "Vignesh\n",
            "Vignesh\n",
            "Vignesh\n",
            "Vignesh\n",
            "Vignesh\n",
            "Vignesh\n",
            "Vignesh\n",
            "Vignesh\n",
            "Vignesh\n",
            "Vignesh\n",
            "Vignesh\n",
            "Vignesh\n",
            "Vignesh\n",
            "Vignesh\n",
            "Vignesh\n",
            "Vignesh\n",
            "Vignesh\n",
            "Vignesh\n",
            "Vignesh\n",
            "Vignesh\n",
            "Vignesh\n",
            "Vignesh\n",
            "Vignesh\n",
            "Vignesh\n",
            "Vignesh\n",
            "Vignesh\n",
            "Vignesh\n",
            "Vignesh\n",
            "Vignesh\n",
            "Vignesh\n",
            "Vignesh\n",
            "Vignesh\n",
            "Vignesh\n",
            "Vignesh\n",
            "Vignesh\n",
            "Vignesh\n",
            "Vignesh\n",
            "Vignesh\n",
            "Vignesh\n",
            "Vignesh\n",
            "Vignesh\n",
            "Vignesh\n",
            "Vignesh\n",
            "Vignesh\n",
            "Vignesh\n",
            "Vignesh\n",
            "Vignesh\n",
            "Vignesh\n",
            "Vignesh\n",
            "Vignesh\n",
            "Vignesh\n",
            "Vignesh\n",
            "Vignesh\n",
            "Vignesh\n",
            "Vignesh\n",
            "Vignesh\n",
            "Vignesh\n",
            "Vignesh\n",
            "Vignesh\n",
            "Vignesh\n",
            "Vignesh\n",
            "Vignesh\n",
            "Vignesh\n",
            "Vignesh\n",
            "Vignesh\n",
            "Vignesh\n",
            "Vignesh\n",
            "Vignesh\n",
            "Vignesh\n",
            "Vignesh\n",
            "Vignesh\n",
            "Vignesh\n",
            "Vignesh\n",
            "Vignesh\n",
            "Vignesh\n",
            "Vignesh\n",
            "Vignesh\n",
            "Vignesh\n",
            "Vignesh\n",
            "Vignesh\n",
            "Vignesh\n",
            "Vignesh\n",
            "Vignesh\n",
            "Vignesh\n",
            "Vignesh\n",
            "Vignesh\n",
            "Vignesh\n",
            "Vignesh\n",
            "Vignesh\n",
            "Vignesh\n",
            "Vignesh\n",
            "Vignesh\n",
            "Vignesh\n",
            "Vignesh\n",
            "Vignesh\n",
            "Vignesh\n",
            "Vignesh\n",
            "Vignesh\n",
            "Vignesh\n",
            "Vignesh\n",
            "Vignesh\n",
            "Vignesh\n",
            "Vignesh\n",
            "Vignesh\n",
            "Vignesh\n",
            "Vignesh\n",
            "Vignesh\n",
            "Vignesh\n",
            "Vignesh\n",
            "Vignesh\n",
            "Vignesh\n",
            "Vignesh\n",
            "Vignesh\n",
            "Vignesh\n",
            "Vignesh\n",
            "Vignesh\n",
            "Vignesh\n",
            "Vignesh\n",
            "Vignesh\n",
            "Vignesh\n",
            "Vignesh\n",
            "Vignesh\n",
            "Vignesh\n",
            "Vignesh\n",
            "Vignesh\n",
            "Vignesh\n",
            "Vignesh\n",
            "Vignesh\n",
            "Vignesh\n",
            "Vignesh\n",
            "Vignesh\n",
            "Vignesh\n",
            "Vignesh\n",
            "Vignesh\n",
            "Vignesh\n",
            "Vignesh\n",
            "Vignesh\n",
            "Vignesh\n",
            "Vignesh\n",
            "Vignesh\n",
            "Vignesh\n",
            "Vignesh\n",
            "Vignesh\n",
            "Vignesh\n",
            "Vignesh\n",
            "Vignesh\n",
            "Vignesh\n",
            "Vignesh\n",
            "Vignesh\n",
            "Vignesh\n",
            "Vignesh\n",
            "Vignesh\n",
            "Vignesh\n",
            "Vignesh\n",
            "Vignesh\n",
            "Vignesh\n",
            "Vignesh\n",
            "Vignesh\n",
            "Vignesh\n",
            "Vignesh\n",
            "Vignesh\n",
            "Vignesh\n",
            "Vignesh\n",
            "Vignesh\n",
            "Vignesh\n",
            "Vignesh\n",
            "Vignesh\n",
            "Vignesh\n",
            "Vignesh\n",
            "Vignesh\n",
            "Vignesh\n",
            "Vignesh\n",
            "Vignesh\n",
            "Vignesh\n",
            "Vignesh\n",
            "Vignesh\n",
            "Vignesh\n",
            "Vignesh\n",
            "Vignesh\n",
            "Vignesh\n",
            "Vignesh\n",
            "Vignesh\n",
            "Vignesh\n",
            "Vignesh\n",
            "Vignesh\n",
            "Vignesh\n",
            "Vignesh\n",
            "Vignesh\n",
            "Vignesh\n",
            "Vignesh\n",
            "Vignesh\n",
            "Vignesh\n",
            "Vignesh\n",
            "Vignesh\n",
            "Vignesh\n",
            "Vignesh\n",
            "Vignesh\n",
            "Vignesh\n",
            "Vignesh\n",
            "Vignesh\n",
            "Vignesh\n",
            "Vignesh\n",
            "Vignesh\n",
            "Vignesh\n",
            "Vignesh\n",
            "Vignesh\n",
            "Vignesh\n",
            "Vignesh\n",
            "Vignesh\n",
            "Vignesh\n",
            "Vignesh\n",
            "Vignesh\n",
            "Vignesh\n",
            "Vignesh\n",
            "Vignesh\n",
            "Vignesh\n",
            "Vignesh\n",
            "Vignesh\n",
            "Vignesh\n",
            "Vignesh\n",
            "Vignesh\n",
            "Vignesh\n",
            "Vignesh\n",
            "Vignesh\n",
            "Vignesh\n",
            "Vignesh\n",
            "Vignesh\n",
            "Vignesh\n",
            "Vignesh\n",
            "Vignesh\n",
            "Vignesh\n",
            "Vignesh\n",
            "Vignesh\n",
            "Vignesh\n",
            "Vignesh\n",
            "Vignesh\n",
            "Vignesh\n",
            "Vignesh\n",
            "Vignesh\n",
            "Vignesh\n",
            "Vignesh\n",
            "Vignesh\n",
            "Vignesh\n",
            "Vignesh\n",
            "Vignesh\n",
            "Vignesh\n",
            "Vignesh\n",
            "Vignesh\n",
            "Vignesh\n",
            "Vignesh\n",
            "Vignesh\n",
            "Vignesh\n",
            "Vignesh\n",
            "Vignesh\n",
            "Vignesh\n",
            "Vignesh\n",
            "Vignesh\n",
            "Vignesh\n",
            "Vignesh\n",
            "Vignesh\n",
            "Vignesh\n",
            "Vignesh\n",
            "Vignesh\n",
            "Vignesh\n",
            "Vignesh\n",
            "Vignesh\n",
            "Vignesh\n",
            "Vignesh\n",
            "Vignesh\n",
            "Vignesh\n",
            "Vignesh\n",
            "Vignesh\n",
            "Vignesh\n",
            "Vignesh\n",
            "Vignesh\n",
            "Vignesh\n",
            "Vignesh\n",
            "Vignesh\n",
            "Vignesh\n",
            "Vignesh\n",
            "Vignesh\n",
            "Vignesh\n",
            "Vignesh\n",
            "Vignesh\n",
            "Vignesh\n",
            "Vignesh\n",
            "Vignesh\n",
            "Vignesh\n",
            "Vignesh\n",
            "Vignesh\n",
            "Vignesh\n",
            "Vignesh\n",
            "Vignesh\n",
            "Vignesh\n",
            "Vignesh\n",
            "Vignesh\n",
            "Vignesh\n",
            "Vignesh\n",
            "Vignesh\n",
            "Vignesh\n",
            "Vignesh\n",
            "Vignesh\n",
            "Vignesh\n",
            "Vignesh\n",
            "Vignesh\n",
            "Vignesh\n",
            "Vignesh\n",
            "Vignesh\n",
            "Vignesh\n",
            "Vignesh\n",
            "Vignesh\n",
            "Vignesh\n",
            "Vignesh\n",
            "Vignesh\n",
            "Vignesh\n",
            "Vignesh\n",
            "Vignesh\n",
            "Vignesh\n",
            "Vignesh\n",
            "Vignesh\n",
            "Vignesh\n",
            "Vignesh\n",
            "Vignesh\n",
            "Vignesh\n",
            "Vignesh\n",
            "Vignesh\n",
            "Vignesh\n",
            "Vignesh\n",
            "Vignesh\n",
            "Vignesh\n",
            "Vignesh\n",
            "Vignesh\n",
            "Vignesh\n",
            "Vignesh\n",
            "Vignesh\n",
            "Vignesh\n",
            "Vignesh\n",
            "Vignesh\n",
            "Vignesh\n",
            "Vignesh\n",
            "Vignesh\n",
            "Vignesh\n",
            "Vignesh\n",
            "Vignesh\n",
            "Vignesh\n",
            "Vignesh\n",
            "Vignesh\n",
            "Vignesh\n",
            "Vignesh\n",
            "Vignesh\n",
            "Vignesh\n",
            "Vignesh\n",
            "Vignesh\n",
            "Vignesh\n",
            "Vignesh\n",
            "Vignesh\n",
            "Vignesh\n",
            "Vignesh\n",
            "Vignesh\n",
            "Vignesh\n",
            "Vignesh\n",
            "Vignesh\n",
            "Vignesh\n",
            "Vignesh\n",
            "Vignesh\n",
            "Vignesh\n",
            "Vignesh\n",
            "Vignesh\n",
            "Vignesh\n",
            "Vignesh\n",
            "Vignesh\n",
            "Vignesh\n",
            "Vignesh\n",
            "Vignesh\n",
            "Vignesh\n",
            "Vignesh\n",
            "Vignesh\n",
            "Vignesh\n",
            "Vignesh\n",
            "Vignesh\n",
            "Vignesh\n",
            "Vignesh\n",
            "Vignesh\n",
            "Vignesh\n",
            "Vignesh\n",
            "Vignesh\n",
            "Vignesh\n",
            "Vignesh\n",
            "Vignesh\n",
            "Vignesh\n",
            "Vignesh\n",
            "Vignesh\n",
            "Vignesh\n",
            "Vignesh\n",
            "Vignesh\n",
            "Vignesh\n",
            "Vignesh\n",
            "Vignesh\n",
            "Vignesh"
          ]
        },
        {
          "output_type": "error",
          "ename": "KeyboardInterrupt",
          "evalue": "",
          "traceback": [
            "\u001b[0;31m---------------------------------------------------------------------------\u001b[0m",
            "\u001b[0;31mKeyboardInterrupt\u001b[0m                         Traceback (most recent call last)",
            "\u001b[0;32m<ipython-input-29-6b9d77f8694d>\u001b[0m in \u001b[0;36m<cell line: 3>\u001b[0;34m()\u001b[0m\n\u001b[1;32m      2\u001b[0m \u001b[0;34m\u001b[0m\u001b[0m\n\u001b[1;32m      3\u001b[0m \u001b[0;32mwhile\u001b[0m \u001b[0;32mTrue\u001b[0m\u001b[0;34m:\u001b[0m\u001b[0;34m\u001b[0m\u001b[0;34m\u001b[0m\u001b[0m\n\u001b[0;32m----> 4\u001b[0;31m   \u001b[0mprint\u001b[0m\u001b[0;34m(\u001b[0m\u001b[0;34m\"Vignesh\"\u001b[0m\u001b[0;34m)\u001b[0m\u001b[0;34m\u001b[0m\u001b[0;34m\u001b[0m\u001b[0m\n\u001b[0m",
            "\u001b[0;32m/usr/local/lib/python3.10/dist-packages/ipykernel/iostream.py\u001b[0m in \u001b[0;36mwrite\u001b[0;34m(self, string)\u001b[0m\n\u001b[1;32m    400\u001b[0m             \u001b[0mis_child\u001b[0m \u001b[0;34m=\u001b[0m \u001b[0;34m(\u001b[0m\u001b[0;32mnot\u001b[0m \u001b[0mself\u001b[0m\u001b[0;34m.\u001b[0m\u001b[0m_is_master_process\u001b[0m\u001b[0;34m(\u001b[0m\u001b[0;34m)\u001b[0m\u001b[0;34m)\u001b[0m\u001b[0;34m\u001b[0m\u001b[0;34m\u001b[0m\u001b[0m\n\u001b[1;32m    401\u001b[0m             \u001b[0;31m# only touch the buffer in the IO thread to avoid races\u001b[0m\u001b[0;34m\u001b[0m\u001b[0;34m\u001b[0m\u001b[0m\n\u001b[0;32m--> 402\u001b[0;31m             \u001b[0mself\u001b[0m\u001b[0;34m.\u001b[0m\u001b[0mpub_thread\u001b[0m\u001b[0;34m.\u001b[0m\u001b[0mschedule\u001b[0m\u001b[0;34m(\u001b[0m\u001b[0;32mlambda\u001b[0m \u001b[0;34m:\u001b[0m \u001b[0mself\u001b[0m\u001b[0;34m.\u001b[0m\u001b[0m_buffer\u001b[0m\u001b[0;34m.\u001b[0m\u001b[0mwrite\u001b[0m\u001b[0;34m(\u001b[0m\u001b[0mstring\u001b[0m\u001b[0;34m)\u001b[0m\u001b[0;34m)\u001b[0m\u001b[0;34m\u001b[0m\u001b[0;34m\u001b[0m\u001b[0m\n\u001b[0m\u001b[1;32m    403\u001b[0m             \u001b[0;32mif\u001b[0m \u001b[0mis_child\u001b[0m\u001b[0;34m:\u001b[0m\u001b[0;34m\u001b[0m\u001b[0;34m\u001b[0m\u001b[0m\n\u001b[1;32m    404\u001b[0m                 \u001b[0;31m# mp.Pool cannot be trusted to flush promptly (or ever),\u001b[0m\u001b[0;34m\u001b[0m\u001b[0;34m\u001b[0m\u001b[0m\n",
            "\u001b[0;32m/usr/local/lib/python3.10/dist-packages/ipykernel/iostream.py\u001b[0m in \u001b[0;36mschedule\u001b[0;34m(self, f)\u001b[0m\n\u001b[1;32m    201\u001b[0m             \u001b[0mself\u001b[0m\u001b[0;34m.\u001b[0m\u001b[0m_events\u001b[0m\u001b[0;34m.\u001b[0m\u001b[0mappend\u001b[0m\u001b[0;34m(\u001b[0m\u001b[0mf\u001b[0m\u001b[0;34m)\u001b[0m\u001b[0;34m\u001b[0m\u001b[0;34m\u001b[0m\u001b[0m\n\u001b[1;32m    202\u001b[0m             \u001b[0;31m# wake event thread (message content is ignored)\u001b[0m\u001b[0;34m\u001b[0m\u001b[0;34m\u001b[0m\u001b[0m\n\u001b[0;32m--> 203\u001b[0;31m             \u001b[0mself\u001b[0m\u001b[0;34m.\u001b[0m\u001b[0m_event_pipe\u001b[0m\u001b[0;34m.\u001b[0m\u001b[0msend\u001b[0m\u001b[0;34m(\u001b[0m\u001b[0;34mb''\u001b[0m\u001b[0;34m)\u001b[0m\u001b[0;34m\u001b[0m\u001b[0;34m\u001b[0m\u001b[0m\n\u001b[0m\u001b[1;32m    204\u001b[0m         \u001b[0;32melse\u001b[0m\u001b[0;34m:\u001b[0m\u001b[0;34m\u001b[0m\u001b[0;34m\u001b[0m\u001b[0m\n\u001b[1;32m    205\u001b[0m             \u001b[0mf\u001b[0m\u001b[0;34m(\u001b[0m\u001b[0;34m)\u001b[0m\u001b[0;34m\u001b[0m\u001b[0;34m\u001b[0m\u001b[0m\n",
            "\u001b[0;32m/usr/local/lib/python3.10/dist-packages/zmq/sugar/socket.py\u001b[0m in \u001b[0;36msend\u001b[0;34m(self, data, flags, copy, track, routing_id, group)\u001b[0m\n\u001b[1;32m    543\u001b[0m         \u001b[0;34m...\u001b[0m\u001b[0;34m\u001b[0m\u001b[0;34m\u001b[0m\u001b[0m\n\u001b[1;32m    544\u001b[0m \u001b[0;34m\u001b[0m\u001b[0m\n\u001b[0;32m--> 545\u001b[0;31m     def send(\n\u001b[0m\u001b[1;32m    546\u001b[0m         \u001b[0mself\u001b[0m\u001b[0;34m,\u001b[0m\u001b[0;34m\u001b[0m\u001b[0;34m\u001b[0m\u001b[0m\n\u001b[1;32m    547\u001b[0m         \u001b[0mdata\u001b[0m\u001b[0;34m:\u001b[0m \u001b[0mAny\u001b[0m\u001b[0;34m,\u001b[0m\u001b[0;34m\u001b[0m\u001b[0;34m\u001b[0m\u001b[0m\n",
            "\u001b[0;31mKeyboardInterrupt\u001b[0m: "
          ]
        }
      ]
    },
    {
      "cell_type": "code",
      "source": [
        "i = 0\n",
        "while i <= 10:\n",
        "  print(i)\n",
        "  i += 1 # i = i + 1"
      ],
      "metadata": {
        "colab": {
          "base_uri": "https://localhost:8080/"
        },
        "id": "1WjTy1IvWVvP",
        "outputId": "e571f38a-270a-43bd-fcfd-1318e4ebb4a4"
      },
      "execution_count": null,
      "outputs": [
        {
          "output_type": "stream",
          "name": "stdout",
          "text": [
            "0\n",
            "1\n",
            "2\n",
            "3\n",
            "4\n",
            "5\n",
            "6\n",
            "7\n",
            "8\n",
            "9\n",
            "10\n"
          ]
        }
      ]
    },
    {
      "cell_type": "code",
      "source": [
        "i = 0\n",
        "while i <= 10:\n",
        "  print(i)\n",
        "  i += 1 # i = i + 1\n",
        "else:\n",
        "  print(\"Loop Completed\")"
      ],
      "metadata": {
        "colab": {
          "base_uri": "https://localhost:8080/"
        },
        "id": "lwhnP-USXdn9",
        "outputId": "5d06a36d-fb62-4c97-c352-002de41c20a7"
      },
      "execution_count": null,
      "outputs": [
        {
          "output_type": "stream",
          "name": "stdout",
          "text": [
            "0\n",
            "1\n",
            "2\n",
            "3\n",
            "4\n",
            "5\n",
            "6\n",
            "7\n",
            "8\n",
            "9\n",
            "10\n",
            "Loop Completed\n"
          ]
        }
      ]
    },
    {
      "cell_type": "markdown",
      "source": [
        "# **Data Types**"
      ],
      "metadata": {
        "id": "NFKRmmQJX7qE"
      }
    },
    {
      "cell_type": "code",
      "source": [
        "#List\n",
        "list_1 = [1, 2.3, \"Vignesh\", True] #mutable\n",
        "print(list_1)\n",
        "print(type(list_1))"
      ],
      "metadata": {
        "colab": {
          "base_uri": "https://localhost:8080/"
        },
        "id": "TBTmsbBNX_Bi",
        "outputId": "48ad5b4f-615c-42b9-aa15-a7264132dfef"
      },
      "execution_count": null,
      "outputs": [
        {
          "output_type": "stream",
          "name": "stdout",
          "text": [
            "[1, 2.3, 'Vignesh', True]\n",
            "<class 'list'>\n"
          ]
        }
      ]
    },
    {
      "cell_type": "code",
      "source": [
        "list_2 = [1, 2.3, \"Vignesh\", True] #mutable\n",
        "list_2"
      ],
      "metadata": {
        "colab": {
          "base_uri": "https://localhost:8080/"
        },
        "id": "pfQfBnluZ5c1",
        "outputId": "c63138e9-f16e-4a77-be35-2407e547bf47"
      },
      "execution_count": null,
      "outputs": [
        {
          "output_type": "execute_result",
          "data": {
            "text/plain": [
              "[1, 2.3, 'Vignesh', True]"
            ]
          },
          "metadata": {},
          "execution_count": 43
        }
      ]
    },
    {
      "cell_type": "code",
      "source": [
        "list_2.append(False)\n",
        "list_2"
      ],
      "metadata": {
        "colab": {
          "base_uri": "https://localhost:8080/"
        },
        "id": "H3NsbOnRaStn",
        "outputId": "f2733934-fc28-443b-d1b4-71a61983ceeb"
      },
      "execution_count": null,
      "outputs": [
        {
          "output_type": "execute_result",
          "data": {
            "text/plain": [
              "[1, 2.3, 'Vignesh', True, False, False, False]"
            ]
          },
          "metadata": {},
          "execution_count": 46
        }
      ]
    },
    {
      "cell_type": "code",
      "source": [
        "list_2.append(5)"
      ],
      "metadata": {
        "id": "_frnHSCba0Ub"
      },
      "execution_count": null,
      "outputs": []
    },
    {
      "cell_type": "code",
      "source": [
        "list_2"
      ],
      "metadata": {
        "colab": {
          "base_uri": "https://localhost:8080/"
        },
        "id": "faZS46-cbAOX",
        "outputId": "5637f571-6737-4b9b-c3d3-14d1eb924ead"
      },
      "execution_count": null,
      "outputs": [
        {
          "output_type": "execute_result",
          "data": {
            "text/plain": [
              "[1, 2.3, 'Vignesh', True, False, False, False, 5]"
            ]
          },
          "metadata": {},
          "execution_count": 48
        }
      ]
    },
    {
      "cell_type": "code",
      "source": [
        "list_em = []\n",
        "for i in range(5):\n",
        "  list_em.append(i)\n",
        "\n",
        "print(list_em)"
      ],
      "metadata": {
        "colab": {
          "base_uri": "https://localhost:8080/"
        },
        "id": "ggt5XW1Tbthq",
        "outputId": "881d291d-10f6-4218-ce2f-f26ef855ad02"
      },
      "execution_count": null,
      "outputs": [
        {
          "output_type": "stream",
          "name": "stdout",
          "text": [
            "[0, 1, 2, 3, 4]\n"
          ]
        }
      ]
    },
    {
      "cell_type": "code",
      "source": [
        "list_2[2] # indexing"
      ],
      "metadata": {
        "colab": {
          "base_uri": "https://localhost:8080/",
          "height": 36
        },
        "id": "fq8sE0KucraI",
        "outputId": "36a2c39d-9cf9-43b7-8061-784137f66e20"
      },
      "execution_count": null,
      "outputs": [
        {
          "output_type": "execute_result",
          "data": {
            "text/plain": [
              "'Vignesh'"
            ],
            "application/vnd.google.colaboratory.intrinsic+json": {
              "type": "string"
            }
          },
          "metadata": {},
          "execution_count": 65
        }
      ]
    },
    {
      "cell_type": "code",
      "source": [
        "list_2[3:]"
      ],
      "metadata": {
        "colab": {
          "base_uri": "https://localhost:8080/"
        },
        "id": "NvCi_4afddqy",
        "outputId": "84b97ec8-dc88-4d5f-a7cd-c5b6b2c20de9"
      },
      "execution_count": null,
      "outputs": [
        {
          "output_type": "execute_result",
          "data": {
            "text/plain": [
              "[True, False, False, False, 5]"
            ]
          },
          "metadata": {},
          "execution_count": 68
        }
      ]
    },
    {
      "cell_type": "code",
      "source": [
        "list_2[-1:-7:-1]"
      ],
      "metadata": {
        "colab": {
          "base_uri": "https://localhost:8080/"
        },
        "id": "phLhnFknd1S5",
        "outputId": "c4633863-0f28-4cc5-e823-ef99b18c4e44"
      },
      "execution_count": null,
      "outputs": [
        {
          "output_type": "execute_result",
          "data": {
            "text/plain": [
              "[5, False, False, False, True, 'Vignesh']"
            ]
          },
          "metadata": {},
          "execution_count": 82
        }
      ]
    },
    {
      "cell_type": "code",
      "source": [
        "res = list_2[-1::-1]\n",
        "print(res[0])\n",
        "print(res[1])\n",
        "print(res[4])"
      ],
      "metadata": {
        "colab": {
          "base_uri": "https://localhost:8080/"
        },
        "id": "lN_nr0D-ew1D",
        "outputId": "8359cb60-5720-4d39-e33d-8a8e832cfaa5"
      },
      "execution_count": null,
      "outputs": [
        {
          "output_type": "stream",
          "name": "stdout",
          "text": [
            "5\n",
            "False\n",
            "True\n"
          ]
        }
      ]
    },
    {
      "cell_type": "code",
      "source": [
        "list_2[-1:-7:-2]"
      ],
      "metadata": {
        "colab": {
          "base_uri": "https://localhost:8080/"
        },
        "id": "uPwUMLO8fLGq",
        "outputId": "05b0e7f9-4b41-4dea-9dba-a2c8a0a1d34c"
      },
      "execution_count": null,
      "outputs": [
        {
          "output_type": "execute_result",
          "data": {
            "text/plain": [
              "[5, False, True]"
            ]
          },
          "metadata": {},
          "execution_count": 88
        }
      ]
    },
    {
      "cell_type": "code",
      "source": [
        "list_2[-1:-7:-1]"
      ],
      "metadata": {
        "colab": {
          "base_uri": "https://localhost:8080/"
        },
        "id": "QzbwooBofgQa",
        "outputId": "76722025-9ba3-4fbc-9aaa-51821209cca6"
      },
      "execution_count": null,
      "outputs": [
        {
          "output_type": "execute_result",
          "data": {
            "text/plain": [
              "[5, False, False, False, True, 'Vignesh']"
            ]
          },
          "metadata": {},
          "execution_count": 89
        }
      ]
    },
    {
      "cell_type": "code",
      "source": [
        "list_2"
      ],
      "metadata": {
        "colab": {
          "base_uri": "https://localhost:8080/"
        },
        "id": "Mi52ueMMf5MY",
        "outputId": "049f77dc-1662-4d10-f00d-e70adc238f5f"
      },
      "execution_count": null,
      "outputs": [
        {
          "output_type": "execute_result",
          "data": {
            "text/plain": [
              "[1, 2.3, 'Vignesh', True, False, False, False, 5]"
            ]
          },
          "metadata": {},
          "execution_count": 90
        }
      ]
    },
    {
      "cell_type": "code",
      "source": [
        "list_2[-1] = 70\n",
        "print(list_2)"
      ],
      "metadata": {
        "colab": {
          "base_uri": "https://localhost:8080/"
        },
        "id": "3FbpXUKcf_jb",
        "outputId": "b595573e-3228-40e3-d7d5-dc3047aab69b"
      },
      "execution_count": null,
      "outputs": [
        {
          "output_type": "stream",
          "name": "stdout",
          "text": [
            "[1, 2.3, 'Vignesh', True, False, False, False, 70]\n"
          ]
        }
      ]
    },
    {
      "cell_type": "code",
      "source": [
        "# append\n",
        "list_2.append(\"Vignesh\")\n",
        "list_2.count(\"Vignesh\")"
      ],
      "metadata": {
        "colab": {
          "base_uri": "https://localhost:8080/"
        },
        "id": "7OPswlrjgMsJ",
        "outputId": "699a6b7e-4056-4a76-8e54-6eadd5c7f29b"
      },
      "execution_count": null,
      "outputs": [
        {
          "output_type": "execute_result",
          "data": {
            "text/plain": [
              "2"
            ]
          },
          "metadata": {},
          "execution_count": 93
        }
      ]
    },
    {
      "cell_type": "code",
      "source": [
        "list_2"
      ],
      "metadata": {
        "colab": {
          "base_uri": "https://localhost:8080/"
        },
        "id": "z4IVzM4dggqd",
        "outputId": "def0dcba-e922-4a30-a043-15cff75705bc"
      },
      "execution_count": null,
      "outputs": [
        {
          "output_type": "execute_result",
          "data": {
            "text/plain": [
              "[1, 2.3, 'Vignesh', True, False, False, False, 70, 'Vignesh']"
            ]
          },
          "metadata": {},
          "execution_count": 94
        }
      ]
    },
    {
      "cell_type": "code",
      "source": [
        "# count\n",
        "list_2.count(1) # it represents True Count"
      ],
      "metadata": {
        "colab": {
          "base_uri": "https://localhost:8080/"
        },
        "id": "ikhnwOw9gizc",
        "outputId": "6667ecbe-1e1b-48ce-c8ed-179bb2cf48a5"
      },
      "execution_count": null,
      "outputs": [
        {
          "output_type": "execute_result",
          "data": {
            "text/plain": [
              "2"
            ]
          },
          "metadata": {},
          "execution_count": 98
        }
      ]
    },
    {
      "cell_type": "code",
      "source": [
        "list_2.count(0) # it represents False Count"
      ],
      "metadata": {
        "colab": {
          "base_uri": "https://localhost:8080/"
        },
        "id": "FJcsP9zZgrsV",
        "outputId": "77217181-df78-40d7-caa4-dfc5665619b3"
      },
      "execution_count": null,
      "outputs": [
        {
          "output_type": "execute_result",
          "data": {
            "text/plain": [
              "3"
            ]
          },
          "metadata": {},
          "execution_count": 96
        }
      ]
    },
    {
      "cell_type": "code",
      "source": [
        "dir(list)"
      ],
      "metadata": {
        "colab": {
          "base_uri": "https://localhost:8080/"
        },
        "id": "TA-95QbMh-zx",
        "outputId": "afcac585-c27d-4572-b16e-2e4a18ff7a7b"
      },
      "execution_count": null,
      "outputs": [
        {
          "output_type": "execute_result",
          "data": {
            "text/plain": [
              "['__add__',\n",
              " '__class__',\n",
              " '__class_getitem__',\n",
              " '__contains__',\n",
              " '__delattr__',\n",
              " '__delitem__',\n",
              " '__dir__',\n",
              " '__doc__',\n",
              " '__eq__',\n",
              " '__format__',\n",
              " '__ge__',\n",
              " '__getattribute__',\n",
              " '__getitem__',\n",
              " '__gt__',\n",
              " '__hash__',\n",
              " '__iadd__',\n",
              " '__imul__',\n",
              " '__init__',\n",
              " '__init_subclass__',\n",
              " '__iter__',\n",
              " '__le__',\n",
              " '__len__',\n",
              " '__lt__',\n",
              " '__mul__',\n",
              " '__ne__',\n",
              " '__new__',\n",
              " '__reduce__',\n",
              " '__reduce_ex__',\n",
              " '__repr__',\n",
              " '__reversed__',\n",
              " '__rmul__',\n",
              " '__setattr__',\n",
              " '__setitem__',\n",
              " '__sizeof__',\n",
              " '__str__',\n",
              " '__subclasshook__',\n",
              " 'append',\n",
              " 'clear',\n",
              " 'copy',\n",
              " 'count',\n",
              " 'extend',\n",
              " 'index',\n",
              " 'insert',\n",
              " 'pop',\n",
              " 'remove',\n",
              " 'reverse',\n",
              " 'sort']"
            ]
          },
          "metadata": {},
          "execution_count": 105
        }
      ]
    },
    {
      "cell_type": "code",
      "source": [
        "list_2"
      ],
      "metadata": {
        "colab": {
          "base_uri": "https://localhost:8080/"
        },
        "id": "mT8Jnq4liQEz",
        "outputId": "0acc9b8c-d488-4bad-8773-90d6bc465716"
      },
      "execution_count": null,
      "outputs": [
        {
          "output_type": "execute_result",
          "data": {
            "text/plain": [
              "[1, 2.3, 'Vignesh', True, False, False, False, 70, 'Vignesh', 1, 1]"
            ]
          },
          "metadata": {},
          "execution_count": 106
        }
      ]
    },
    {
      "cell_type": "code",
      "source": [
        "# index\n",
        "print(list_2[3:].index(\"Vignesh\"))\n",
        "list_2.index(\"Vignesh\")"
      ],
      "metadata": {
        "colab": {
          "base_uri": "https://localhost:8080/"
        },
        "id": "yUHyGXluiV5m",
        "outputId": "e3fbaac6-9bb9-4f55-ff2a-e3ba95b89294"
      },
      "execution_count": null,
      "outputs": [
        {
          "output_type": "stream",
          "name": "stdout",
          "text": [
            "5\n"
          ]
        },
        {
          "output_type": "execute_result",
          "data": {
            "text/plain": [
              "2"
            ]
          },
          "metadata": {},
          "execution_count": 116
        }
      ]
    },
    {
      "cell_type": "code",
      "source": [
        "# copy\n",
        "list_3 = list_2.copy()\n",
        "list_3"
      ],
      "metadata": {
        "colab": {
          "base_uri": "https://localhost:8080/"
        },
        "id": "nphviWWIjIvy",
        "outputId": "bf375cad-2e54-4e5f-8d71-10814ed75abe"
      },
      "execution_count": null,
      "outputs": [
        {
          "output_type": "execute_result",
          "data": {
            "text/plain": [
              "[1, 2.3, 'Vignesh', True, False, False, False, 70, 'Vignesh', 1, 1]"
            ]
          },
          "metadata": {},
          "execution_count": 117
        }
      ]
    },
    {
      "cell_type": "markdown",
      "source": [
        "# **Question:** Difference Between Extend and Append and how it works"
      ],
      "metadata": {
        "id": "ERws_0ERjtHG"
      }
    },
    {
      "cell_type": "code",
      "source": [
        "# append\n",
        "a = [1, 2, 3, 4]\n",
        "a.append([5, 6, 7])\n",
        "a"
      ],
      "metadata": {
        "colab": {
          "base_uri": "https://localhost:8080/"
        },
        "id": "mSLOaESYWnNd",
        "outputId": "feb8cf2a-8fdc-4db7-84f1-e87b7721bea6"
      },
      "execution_count": null,
      "outputs": [
        {
          "output_type": "execute_result",
          "data": {
            "text/plain": [
              "[1, 2, 3, 4, [5, 6, 7]]"
            ]
          },
          "metadata": {},
          "execution_count": 3
        }
      ]
    },
    {
      "cell_type": "code",
      "source": [
        "# extend\n",
        "b = [4, 5, 6, 7]\n",
        "b.extend([5,6,7])\n",
        "b"
      ],
      "metadata": {
        "colab": {
          "base_uri": "https://localhost:8080/"
        },
        "id": "pV09FoqAWqY3",
        "outputId": "2f1b940a-5ea9-4359-be5f-1fa3b1ea5086"
      },
      "execution_count": null,
      "outputs": [
        {
          "output_type": "execute_result",
          "data": {
            "text/plain": [
              "[4, 5, 6, 7, 5, 6, 7]"
            ]
          },
          "metadata": {},
          "execution_count": 7
        }
      ]
    },
    {
      "cell_type": "code",
      "source": [
        "# sort\n",
        "new_list = [1, 4, -1, 9.88, -37, 0]\n",
        "new_list.sort()"
      ],
      "metadata": {
        "id": "pCE7H0q7jn_4"
      },
      "execution_count": null,
      "outputs": []
    },
    {
      "cell_type": "code",
      "source": [
        "new_list"
      ],
      "metadata": {
        "colab": {
          "base_uri": "https://localhost:8080/"
        },
        "id": "-4ueaWtJkIid",
        "outputId": "1438e4fc-0650-4f8a-91cb-099036cc147b"
      },
      "execution_count": null,
      "outputs": [
        {
          "output_type": "execute_result",
          "data": {
            "text/plain": [
              "[]"
            ]
          },
          "metadata": {},
          "execution_count": 135
        }
      ]
    },
    {
      "cell_type": "code",
      "source": [
        "new_list.sort(reverse = True)\n",
        "print(new_list)"
      ],
      "metadata": {
        "colab": {
          "base_uri": "https://localhost:8080/"
        },
        "id": "bJWFxHyikcBK",
        "outputId": "69bf9e9e-0d6f-4ef7-f55e-48eed6029cb1"
      },
      "execution_count": null,
      "outputs": [
        {
          "output_type": "stream",
          "name": "stdout",
          "text": [
            "[9.88, 4, 1, 0, -1, -37]\n"
          ]
        }
      ]
    },
    {
      "cell_type": "code",
      "source": [
        "new_list.pop() # it is used to get the last data in a list"
      ],
      "metadata": {
        "colab": {
          "base_uri": "https://localhost:8080/"
        },
        "id": "dcCzi2eOlGZb",
        "outputId": "bc6c00cb-30f7-45c7-b034-df096496c90a"
      },
      "execution_count": null,
      "outputs": [
        {
          "output_type": "execute_result",
          "data": {
            "text/plain": [
              "9.88"
            ]
          },
          "metadata": {},
          "execution_count": 132
        }
      ]
    },
    {
      "cell_type": "code",
      "source": [
        "new_list.reverse() # existing data in reverse order\n",
        "new_list"
      ],
      "metadata": {
        "colab": {
          "base_uri": "https://localhost:8080/"
        },
        "id": "vuLtXsidlvjJ",
        "outputId": "daf4a5ea-dec1-4281-9dba-123deec16353"
      },
      "execution_count": null,
      "outputs": [
        {
          "output_type": "execute_result",
          "data": {
            "text/plain": [
              "[-37, -1, 0, 1, 4, 9.88]"
            ]
          },
          "metadata": {},
          "execution_count": 139
        }
      ]
    },
    {
      "cell_type": "markdown",
      "source": [
        "# **03/09/2024**"
      ],
      "metadata": {
        "id": "XsdywgvhaIfI"
      }
    },
    {
      "cell_type": "code",
      "source": [
        "# insert\n",
        "some_data = [1, 2, 3, 4, 5]"
      ],
      "metadata": {
        "id": "QZLia8dFaLMT"
      },
      "execution_count": null,
      "outputs": []
    },
    {
      "cell_type": "code",
      "source": [
        "some_data.insert(3, \"Vignesh\")"
      ],
      "metadata": {
        "id": "sMpwkvHDbul9"
      },
      "execution_count": null,
      "outputs": []
    },
    {
      "cell_type": "code",
      "source": [
        "print(some_data)"
      ],
      "metadata": {
        "colab": {
          "base_uri": "https://localhost:8080/"
        },
        "id": "QbUbjfYDcBJD",
        "outputId": "a201ecdc-3eb2-4fa5-f1d1-9a1fdc4a35d5"
      },
      "execution_count": null,
      "outputs": [
        {
          "output_type": "stream",
          "name": "stdout",
          "text": [
            "[1, 2, 3, 'Vignesh', 'Vignesh', 4, 5, 'Vignesh']\n"
          ]
        }
      ]
    },
    {
      "cell_type": "code",
      "source": [
        "# remove"
      ],
      "metadata": {
        "id": "okMya1J8cP8I"
      },
      "execution_count": null,
      "outputs": []
    },
    {
      "cell_type": "code",
      "source": [
        "some_data.remove(\"Vignesh\")\n",
        "print(some_data)"
      ],
      "metadata": {
        "colab": {
          "base_uri": "https://localhost:8080/"
        },
        "id": "7aA0ESricSbL",
        "outputId": "7b47888e-1ae8-48e3-8519-ed6aa7900000"
      },
      "execution_count": null,
      "outputs": [
        {
          "output_type": "stream",
          "name": "stdout",
          "text": [
            "[1, 2, 3, 4, 5, 'Vignesh']\n"
          ]
        }
      ]
    },
    {
      "cell_type": "markdown",
      "source": [
        "# **Tuple**"
      ],
      "metadata": {
        "id": "nLlWFThVcgDh"
      }
    },
    {
      "cell_type": "code",
      "source": [
        "var = 1, 2, 3, 4, 5\n",
        "print(var)\n",
        "print(type(var))"
      ],
      "metadata": {
        "colab": {
          "base_uri": "https://localhost:8080/"
        },
        "id": "qKppIDu7cffS",
        "outputId": "ecc13b8a-eeac-4b41-f3ec-755ba79a1d37"
      },
      "execution_count": null,
      "outputs": [
        {
          "output_type": "stream",
          "name": "stdout",
          "text": [
            "(1, 2, 3, 4, 5)\n",
            "<class 'tuple'>\n"
          ]
        }
      ]
    },
    {
      "cell_type": "code",
      "source": [
        "var = (1)\n",
        "print(var)\n",
        "print(type(var))"
      ],
      "metadata": {
        "colab": {
          "base_uri": "https://localhost:8080/"
        },
        "id": "Yc5PttRGdFqE",
        "outputId": "e3690ec9-5ad2-46ac-bde3-c0168da99707"
      },
      "execution_count": null,
      "outputs": [
        {
          "output_type": "stream",
          "name": "stdout",
          "text": [
            "1\n",
            "<class 'int'>\n"
          ]
        }
      ]
    },
    {
      "cell_type": "code",
      "source": [
        "var = (1, \"data\")\n",
        "print(var)\n",
        "print(type(var)) # immutable"
      ],
      "metadata": {
        "colab": {
          "base_uri": "https://localhost:8080/"
        },
        "id": "uEw0Mv4gdc_i",
        "outputId": "002a4b08-b318-4ec1-8325-60131e0e1110"
      },
      "execution_count": null,
      "outputs": [
        {
          "output_type": "stream",
          "name": "stdout",
          "text": [
            "(1, 'data')\n",
            "<class 'tuple'>\n"
          ]
        }
      ]
    },
    {
      "cell_type": "code",
      "source": [
        "dir(tuple)"
      ],
      "metadata": {
        "colab": {
          "base_uri": "https://localhost:8080/"
        },
        "id": "vpWzWtdJeBBo",
        "outputId": "cb776e2e-787f-407c-e2b9-03562c405922"
      },
      "execution_count": null,
      "outputs": [
        {
          "output_type": "execute_result",
          "data": {
            "text/plain": [
              "['__add__',\n",
              " '__class__',\n",
              " '__class_getitem__',\n",
              " '__contains__',\n",
              " '__delattr__',\n",
              " '__dir__',\n",
              " '__doc__',\n",
              " '__eq__',\n",
              " '__format__',\n",
              " '__ge__',\n",
              " '__getattribute__',\n",
              " '__getitem__',\n",
              " '__getnewargs__',\n",
              " '__gt__',\n",
              " '__hash__',\n",
              " '__init__',\n",
              " '__init_subclass__',\n",
              " '__iter__',\n",
              " '__le__',\n",
              " '__len__',\n",
              " '__lt__',\n",
              " '__mul__',\n",
              " '__ne__',\n",
              " '__new__',\n",
              " '__reduce__',\n",
              " '__reduce_ex__',\n",
              " '__repr__',\n",
              " '__rmul__',\n",
              " '__setattr__',\n",
              " '__sizeof__',\n",
              " '__str__',\n",
              " '__subclasshook__',\n",
              " 'count',\n",
              " 'index']"
            ]
          },
          "metadata": {},
          "execution_count": 21
        }
      ]
    },
    {
      "cell_type": "code",
      "source": [
        "# count\n",
        "var = (1, 2, 1, 3, 0, 7,8)\n",
        "res = var.count(1)\n",
        "print(res)"
      ],
      "metadata": {
        "colab": {
          "base_uri": "https://localhost:8080/"
        },
        "id": "4detrzoWefZC",
        "outputId": "966473f6-9850-4505-9f82-5c6c5641a73f"
      },
      "execution_count": null,
      "outputs": [
        {
          "output_type": "stream",
          "name": "stdout",
          "text": [
            "2\n"
          ]
        }
      ]
    },
    {
      "cell_type": "code",
      "source": [
        "# index\n",
        "var = (1, 2, 1, 3, 0, 7,8)\n",
        "res = var.index(1)\n",
        "print(res)"
      ],
      "metadata": {
        "colab": {
          "base_uri": "https://localhost:8080/"
        },
        "id": "uOyb0t5EeuFV",
        "outputId": "069d22c6-4710-4a16-891a-7bc9ce2d3211"
      },
      "execution_count": null,
      "outputs": [
        {
          "output_type": "stream",
          "name": "stdout",
          "text": [
            "0\n"
          ]
        }
      ]
    },
    {
      "cell_type": "markdown",
      "source": [
        "# **Set**"
      ],
      "metadata": {
        "id": "d0M8P89ge6IP"
      }
    },
    {
      "cell_type": "code",
      "source": [
        "var1 = {1, 4, 2, 3, 4, 5.5, True, \"Rdj\", \"Albert\", False, -1000, \"Rdj\"}\n",
        "print(var1, type(var1)) # it will not allow dupicates"
      ],
      "metadata": {
        "colab": {
          "base_uri": "https://localhost:8080/"
        },
        "id": "mczG5HKPe5wR",
        "outputId": "b026a2b1-fde5-4cbc-e925-0006c7a3a143"
      },
      "execution_count": null,
      "outputs": [
        {
          "output_type": "stream",
          "name": "stdout",
          "text": [
            "{False, 1, 2, 3, 4, 5.5, 'Rdj', -1000, 'Albert'} <class 'set'>\n"
          ]
        }
      ]
    },
    {
      "cell_type": "code",
      "source": [
        "var1 # unordered and unindexed data type"
      ],
      "metadata": {
        "colab": {
          "base_uri": "https://localhost:8080/"
        },
        "id": "DQOSXp-KgR6e",
        "outputId": "3f31a23e-517a-4be3-8737-f47b1fe566f2"
      },
      "execution_count": null,
      "outputs": [
        {
          "output_type": "execute_result",
          "data": {
            "text/plain": [
              "{-1000, 1, 2, 3, 4, 5.5, 'Albert', False, 'Rdj'}"
            ]
          },
          "metadata": {},
          "execution_count": 28
        }
      ]
    },
    {
      "cell_type": "code",
      "source": [
        "var1[7]"
      ],
      "metadata": {
        "colab": {
          "base_uri": "https://localhost:8080/",
          "height": 141
        },
        "id": "2TBrOC6igp8K",
        "outputId": "e0986838-b54a-48c6-8e56-88376b35a215"
      },
      "execution_count": null,
      "outputs": [
        {
          "output_type": "error",
          "ename": "TypeError",
          "evalue": "'set' object is not subscriptable",
          "traceback": [
            "\u001b[0;31m---------------------------------------------------------------------------\u001b[0m",
            "\u001b[0;31mTypeError\u001b[0m                                 Traceback (most recent call last)",
            "\u001b[0;32m<ipython-input-30-bba1e1b3531d>\u001b[0m in \u001b[0;36m<cell line: 1>\u001b[0;34m()\u001b[0m\n\u001b[0;32m----> 1\u001b[0;31m \u001b[0mvar1\u001b[0m\u001b[0;34m[\u001b[0m\u001b[0;36m7\u001b[0m\u001b[0;34m]\u001b[0m\u001b[0;34m\u001b[0m\u001b[0;34m\u001b[0m\u001b[0m\n\u001b[0m",
            "\u001b[0;31mTypeError\u001b[0m: 'set' object is not subscriptable"
          ]
        }
      ]
    },
    {
      "cell_type": "code",
      "source": [
        "dir(set) # diff bwt discard and remove"
      ],
      "metadata": {
        "colab": {
          "base_uri": "https://localhost:8080/"
        },
        "id": "rWvgkoXahB_d",
        "outputId": "79b8fe62-7704-4b57-8ec4-ba6ae38e80af"
      },
      "execution_count": null,
      "outputs": [
        {
          "output_type": "execute_result",
          "data": {
            "text/plain": [
              "['__and__',\n",
              " '__class__',\n",
              " '__class_getitem__',\n",
              " '__contains__',\n",
              " '__delattr__',\n",
              " '__dir__',\n",
              " '__doc__',\n",
              " '__eq__',\n",
              " '__format__',\n",
              " '__ge__',\n",
              " '__getattribute__',\n",
              " '__gt__',\n",
              " '__hash__',\n",
              " '__iand__',\n",
              " '__init__',\n",
              " '__init_subclass__',\n",
              " '__ior__',\n",
              " '__isub__',\n",
              " '__iter__',\n",
              " '__ixor__',\n",
              " '__le__',\n",
              " '__len__',\n",
              " '__lt__',\n",
              " '__ne__',\n",
              " '__new__',\n",
              " '__or__',\n",
              " '__rand__',\n",
              " '__reduce__',\n",
              " '__reduce_ex__',\n",
              " '__repr__',\n",
              " '__ror__',\n",
              " '__rsub__',\n",
              " '__rxor__',\n",
              " '__setattr__',\n",
              " '__sizeof__',\n",
              " '__str__',\n",
              " '__sub__',\n",
              " '__subclasshook__',\n",
              " '__xor__',\n",
              " 'add',\n",
              " 'clear',\n",
              " 'copy',\n",
              " 'difference',\n",
              " 'difference_update',\n",
              " 'discard',\n",
              " 'intersection',\n",
              " 'intersection_update',\n",
              " 'isdisjoint',\n",
              " 'issubset',\n",
              " 'issuperset',\n",
              " 'pop',\n",
              " 'remove',\n",
              " 'symmetric_difference',\n",
              " 'symmetric_difference_update',\n",
              " 'union',\n",
              " 'update']"
            ]
          },
          "metadata": {},
          "execution_count": 31
        }
      ]
    },
    {
      "cell_type": "code",
      "source": [
        "var3 = {}\n",
        "print(type(var3))"
      ],
      "metadata": {
        "colab": {
          "base_uri": "https://localhost:8080/"
        },
        "id": "ezh9NNXei-tQ",
        "outputId": "3df1c87b-ff0a-4f3a-e363-eb5655f60be6"
      },
      "execution_count": null,
      "outputs": [
        {
          "output_type": "stream",
          "name": "stdout",
          "text": [
            "<class 'dict'>\n"
          ]
        }
      ]
    },
    {
      "cell_type": "markdown",
      "source": [
        "# **Dictionary**"
      ],
      "metadata": {
        "id": "Dv_IMkbhh9Aa"
      }
    },
    {
      "cell_type": "code",
      "source": [
        "var2 = {\"A\" : \"Apple\", \"B\" : \"Banana\", \"C\" : \"Cat\", \"D\" : \"Dog\", \"E\" : \"Elephant\"}\n",
        "print(var2, type(var2))"
      ],
      "metadata": {
        "colab": {
          "base_uri": "https://localhost:8080/"
        },
        "id": "kPdYE9WmhSEA",
        "outputId": "4dcc7e20-4163-4969-cddb-fa9115ce0da5"
      },
      "execution_count": null,
      "outputs": [
        {
          "output_type": "stream",
          "name": "stdout",
          "text": [
            "{'A': 'Apple', 'B': 'Banana', 'C': 'Cat', 'D': 'Dog', 'E': 'Elephant'} <class 'dict'>\n"
          ]
        }
      ]
    },
    {
      "cell_type": "code",
      "source": [
        "var2.keys"
      ],
      "metadata": {
        "colab": {
          "base_uri": "https://localhost:8080/"
        },
        "id": "T4QdDZcIiYdv",
        "outputId": "393af5de-551e-44b9-e0c1-4341df41f4e2"
      },
      "execution_count": null,
      "outputs": [
        {
          "output_type": "execute_result",
          "data": {
            "text/plain": [
              "<function dict.keys>"
            ]
          },
          "metadata": {},
          "execution_count": 35
        }
      ]
    },
    {
      "cell_type": "code",
      "source": [
        "var2.keys() # keys"
      ],
      "metadata": {
        "colab": {
          "base_uri": "https://localhost:8080/"
        },
        "id": "5e4XzQykitD5",
        "outputId": "3c01ec7d-d4fc-4e85-a35f-881e03aceaad"
      },
      "execution_count": null,
      "outputs": [
        {
          "output_type": "execute_result",
          "data": {
            "text/plain": [
              "dict_keys(['A', 'B', 'C', 'D', 'E'])"
            ]
          },
          "metadata": {},
          "execution_count": 36
        }
      ]
    },
    {
      "cell_type": "code",
      "source": [
        "var2.values() # values"
      ],
      "metadata": {
        "colab": {
          "base_uri": "https://localhost:8080/"
        },
        "id": "kyVgCOnXivrs",
        "outputId": "550d0549-5b98-4b13-f35d-17a97bec2cf3"
      },
      "execution_count": null,
      "outputs": [
        {
          "output_type": "execute_result",
          "data": {
            "text/plain": [
              "dict_values(['Apple', 'Banana', 'Cat', 'Dog', 'Elephant'])"
            ]
          },
          "metadata": {},
          "execution_count": 41
        }
      ]
    },
    {
      "cell_type": "code",
      "source": [
        "var2.items() # items and values"
      ],
      "metadata": {
        "colab": {
          "base_uri": "https://localhost:8080/"
        },
        "id": "C1E0TM1njMqH",
        "outputId": "102888db-44f2-41f7-96c8-0ad87642d189"
      },
      "execution_count": null,
      "outputs": [
        {
          "output_type": "execute_result",
          "data": {
            "text/plain": [
              "dict_items([('A', 'Apple'), ('B', 'Banana'), ('C', 'Cat'), ('D', 'Dog'), ('E', 'Elephant')])"
            ]
          },
          "metadata": {},
          "execution_count": 42
        }
      ]
    },
    {
      "cell_type": "code",
      "source": [
        "var2"
      ],
      "metadata": {
        "colab": {
          "base_uri": "https://localhost:8080/"
        },
        "id": "gnoiQabQjcTL",
        "outputId": "05788c01-052a-439e-b3ce-0a19ba5483f8"
      },
      "execution_count": null,
      "outputs": [
        {
          "output_type": "execute_result",
          "data": {
            "text/plain": [
              "{'A': 'Apple', 'B': 'Banana', 'C': 'Cat', 'D': 'Dog', 'E': 'Elephant'}"
            ]
          },
          "metadata": {},
          "execution_count": 43
        }
      ]
    },
    {
      "cell_type": "code",
      "source": [
        "# task\n",
        "res = var2.values()\n",
        "for i in res:\n",
        "  print(i)"
      ],
      "metadata": {
        "colab": {
          "base_uri": "https://localhost:8080/"
        },
        "id": "faho4hT3jg-q",
        "outputId": "800b2c48-9124-4a84-b722-5e024e5b5056"
      },
      "execution_count": null,
      "outputs": [
        {
          "output_type": "stream",
          "name": "stdout",
          "text": [
            "Apple\n",
            "Banana\n",
            "Cat\n",
            "Dog\n",
            "Elephant\n"
          ]
        }
      ]
    },
    {
      "cell_type": "code",
      "source": [
        "users = {\"User1\" : {\"Name\" : \"Vignesh\", \"Mobile\" : 98745},\n",
        "         \"User2\" : {\"Name\" : \"Prabhakaran\", \"Mobile\" : 99995},\n",
        "         \"User3\" : {\"Name\" : \"Dharshak\", \"Mobile\" : 97546}}"
      ],
      "metadata": {
        "id": "t0bMlMmEkQRj"
      },
      "execution_count": null,
      "outputs": []
    },
    {
      "cell_type": "code",
      "source": [
        "users"
      ],
      "metadata": {
        "colab": {
          "base_uri": "https://localhost:8080/"
        },
        "id": "Z2qpJGIvk-3H",
        "outputId": "6fd99177-e9ac-4649-cf75-21c697d2f138"
      },
      "execution_count": null,
      "outputs": [
        {
          "output_type": "execute_result",
          "data": {
            "text/plain": [
              "{'User1': {'Name': 'Vignesh', 'Mobile': 98745},\n",
              " 'User2': {'Name': 'Prabhakaran', 'Mobile': 99995},\n",
              " 'User3': {'Name': 'Dharshak', 'Mobile': 97546}}"
            ]
          },
          "metadata": {},
          "execution_count": 51
        }
      ]
    },
    {
      "cell_type": "code",
      "source": [
        "users[\"User1\"]"
      ],
      "metadata": {
        "colab": {
          "base_uri": "https://localhost:8080/"
        },
        "id": "gHtLtNo2lNGL",
        "outputId": "1a2f62da-c68d-4448-9dc2-2128553ccbf5"
      },
      "execution_count": null,
      "outputs": [
        {
          "output_type": "execute_result",
          "data": {
            "text/plain": [
              "{'Name': 'Vignesh', 'Mobile': 98745}"
            ]
          },
          "metadata": {},
          "execution_count": 60
        }
      ]
    },
    {
      "cell_type": "code",
      "source": [
        "print(users[\"User1\"][\"Name\"])"
      ],
      "metadata": {
        "colab": {
          "base_uri": "https://localhost:8080/"
        },
        "id": "4Y9o8X-elTkH",
        "outputId": "a9dfbaef-e8d1-4c76-883b-42c0924d10f5"
      },
      "execution_count": null,
      "outputs": [
        {
          "output_type": "stream",
          "name": "stdout",
          "text": [
            "Vignesh\n"
          ]
        }
      ]
    },
    {
      "cell_type": "code",
      "source": [
        "for i in users:\n",
        "  print(i)"
      ],
      "metadata": {
        "colab": {
          "base_uri": "https://localhost:8080/"
        },
        "id": "it1qCn-Lm8B4",
        "outputId": "e4a55007-daf2-488a-bfb8-0d5d80b3262d"
      },
      "execution_count": null,
      "outputs": [
        {
          "output_type": "stream",
          "name": "stdout",
          "text": [
            "User1\n",
            "User2\n",
            "User3\n"
          ]
        }
      ]
    },
    {
      "cell_type": "code",
      "source": [
        "for i in users:\n",
        "  print(i[\"Name\"])"
      ],
      "metadata": {
        "colab": {
          "base_uri": "https://localhost:8080/",
          "height": 158
        },
        "id": "yKSTcmjznFZ3",
        "outputId": "d3678f43-0cbd-440d-90de-38a3cb3c583a"
      },
      "execution_count": null,
      "outputs": [
        {
          "output_type": "error",
          "ename": "TypeError",
          "evalue": "string indices must be integers",
          "traceback": [
            "\u001b[0;31m---------------------------------------------------------------------------\u001b[0m",
            "\u001b[0;31mTypeError\u001b[0m                                 Traceback (most recent call last)",
            "\u001b[0;32m<ipython-input-68-2b417757631e>\u001b[0m in \u001b[0;36m<cell line: 1>\u001b[0;34m()\u001b[0m\n\u001b[1;32m      1\u001b[0m \u001b[0;32mfor\u001b[0m \u001b[0mi\u001b[0m \u001b[0;32min\u001b[0m \u001b[0musers\u001b[0m\u001b[0;34m:\u001b[0m\u001b[0;34m\u001b[0m\u001b[0;34m\u001b[0m\u001b[0m\n\u001b[0;32m----> 2\u001b[0;31m   \u001b[0mprint\u001b[0m\u001b[0;34m(\u001b[0m\u001b[0mi\u001b[0m\u001b[0;34m[\u001b[0m\u001b[0;34m\"Name\"\u001b[0m\u001b[0;34m]\u001b[0m\u001b[0;34m)\u001b[0m\u001b[0;34m\u001b[0m\u001b[0;34m\u001b[0m\u001b[0m\n\u001b[0m",
            "\u001b[0;31mTypeError\u001b[0m: string indices must be integers"
          ]
        }
      ]
    },
    {
      "cell_type": "code",
      "source": [
        "for i in users.values():\n",
        "  print(i[\"Name\"])"
      ],
      "metadata": {
        "colab": {
          "base_uri": "https://localhost:8080/"
        },
        "id": "8dFf9IUxnZ25",
        "outputId": "19e591c0-8e71-4b4a-872d-e596f791ddc5"
      },
      "execution_count": null,
      "outputs": [
        {
          "output_type": "stream",
          "name": "stdout",
          "text": [
            "Vignesh\n",
            "Prabhakaran\n",
            "Dharshak\n"
          ]
        }
      ]
    },
    {
      "cell_type": "code",
      "source": [
        "dir(dict)"
      ],
      "metadata": {
        "colab": {
          "base_uri": "https://localhost:8080/"
        },
        "id": "WNSZmksQoKuX",
        "outputId": "b2b17050-e4d5-4ea6-a82c-3d384a6698f7"
      },
      "execution_count": null,
      "outputs": [
        {
          "output_type": "execute_result",
          "data": {
            "text/plain": [
              "['__class__',\n",
              " '__class_getitem__',\n",
              " '__contains__',\n",
              " '__delattr__',\n",
              " '__delitem__',\n",
              " '__dir__',\n",
              " '__doc__',\n",
              " '__eq__',\n",
              " '__format__',\n",
              " '__ge__',\n",
              " '__getattribute__',\n",
              " '__getitem__',\n",
              " '__gt__',\n",
              " '__hash__',\n",
              " '__init__',\n",
              " '__init_subclass__',\n",
              " '__ior__',\n",
              " '__iter__',\n",
              " '__le__',\n",
              " '__len__',\n",
              " '__lt__',\n",
              " '__ne__',\n",
              " '__new__',\n",
              " '__or__',\n",
              " '__reduce__',\n",
              " '__reduce_ex__',\n",
              " '__repr__',\n",
              " '__reversed__',\n",
              " '__ror__',\n",
              " '__setattr__',\n",
              " '__setitem__',\n",
              " '__sizeof__',\n",
              " '__str__',\n",
              " '__subclasshook__',\n",
              " 'clear',\n",
              " 'copy',\n",
              " 'fromkeys',\n",
              " 'get',\n",
              " 'items',\n",
              " 'keys',\n",
              " 'pop',\n",
              " 'popitem',\n",
              " 'setdefault',\n",
              " 'update',\n",
              " 'values']"
            ]
          },
          "metadata": {},
          "execution_count": 73
        }
      ]
    },
    {
      "cell_type": "code",
      "source": [
        "# clear\n",
        "var2.clear()\n",
        "print(var2)"
      ],
      "metadata": {
        "colab": {
          "base_uri": "https://localhost:8080/"
        },
        "id": "riwkkkdFoRHl",
        "outputId": "ebc9daca-e08b-4c8e-8629-3d66dc8ec22a"
      },
      "execution_count": null,
      "outputs": [
        {
          "output_type": "stream",
          "name": "stdout",
          "text": [
            "{}\n"
          ]
        }
      ]
    },
    {
      "cell_type": "code",
      "source": [
        "# copy\n",
        "var3 = users.copy()\n",
        "print(var3)"
      ],
      "metadata": {
        "colab": {
          "base_uri": "https://localhost:8080/"
        },
        "id": "OJXrD-wXofIC",
        "outputId": "77179adf-c5c1-441e-a866-d12c33b1cf22"
      },
      "execution_count": null,
      "outputs": [
        {
          "output_type": "stream",
          "name": "stdout",
          "text": [
            "{'User1': {'Name': 'Vignesh', 'Mobile': 98745}, 'User2': {'Name': 'Prabhakaran', 'Mobile': 99995}, 'User3': {'Name': 'Dharshak', 'Mobile': 97546}}\n"
          ]
        }
      ]
    },
    {
      "cell_type": "code",
      "source": [
        "# get\n",
        "print(var3.get('User1'))\n",
        "print(var3.get('User4'))"
      ],
      "metadata": {
        "colab": {
          "base_uri": "https://localhost:8080/"
        },
        "id": "mgdggckjqd55",
        "outputId": "bb5e9efd-4ed8-409a-d2a4-09d7b8f59512"
      },
      "execution_count": null,
      "outputs": [
        {
          "output_type": "stream",
          "name": "stdout",
          "text": [
            "{'Name': 'Vignesh', 'Mobile': 98745}\n",
            "None\n"
          ]
        }
      ]
    },
    {
      "cell_type": "code",
      "source": [
        "# popitem\n",
        "var3.popitem()\n"
      ],
      "metadata": {
        "colab": {
          "base_uri": "https://localhost:8080/"
        },
        "id": "qFNbPo9Rq8bT",
        "outputId": "ed2261b5-28b8-4af4-de88-91e370f0953b"
      },
      "execution_count": null,
      "outputs": [
        {
          "output_type": "execute_result",
          "data": {
            "text/plain": [
              "('User3', {'Name': 'Dharshak', 'Mobile': 97546})"
            ]
          },
          "metadata": {},
          "execution_count": 89
        }
      ]
    },
    {
      "cell_type": "code",
      "source": [
        "print(var3)"
      ],
      "metadata": {
        "colab": {
          "base_uri": "https://localhost:8080/"
        },
        "id": "Aj5ApG2OrGEh",
        "outputId": "10ffd0ed-7a74-40e1-f30a-b84400b0cd62"
      },
      "execution_count": null,
      "outputs": [
        {
          "output_type": "stream",
          "name": "stdout",
          "text": [
            "{'User1': {'Name': 'Vignesh', 'Mobile': 98745}, 'User2': {'Name': 'Prabhakaran', 'Mobile': 99995}}\n"
          ]
        }
      ]
    },
    {
      "cell_type": "code",
      "source": [
        "# setdefault\n",
        "var3.setdefault('Name',default = \"\")"
      ],
      "metadata": {
        "id": "1Wp_I87ErL1m"
      },
      "execution_count": null,
      "outputs": []
    },
    {
      "cell_type": "code",
      "source": [
        "# fromkeys\n",
        "x = [\"a\", \"b\", \"c\", \"d\"]\n",
        "y = \"apple\", \"banana\", \"cat\", \"dog\"\n",
        "var = dict.fromkeys(x,y)\n",
        "var"
      ],
      "metadata": {
        "colab": {
          "base_uri": "https://localhost:8080/"
        },
        "id": "BiB88Elzo-LC",
        "outputId": "73759a2b-1466-465a-b0ed-67483d92553a"
      },
      "execution_count": null,
      "outputs": [
        {
          "output_type": "execute_result",
          "data": {
            "text/plain": [
              "{'a': ('apple', 'banana', 'cat', 'dog'),\n",
              " 'b': ('apple', 'banana', 'cat', 'dog'),\n",
              " 'c': ('apple', 'banana', 'cat', 'dog'),\n",
              " 'd': ('apple', 'banana', 'cat', 'dog')}"
            ]
          },
          "metadata": {},
          "execution_count": 84
        }
      ]
    },
    {
      "cell_type": "code",
      "source": [
        "# update\n",
        "\n",
        "var3.update({\"User3\" : {\"Name\" : \"Dharshak\", \"Mobile\" : 90909}})\n",
        "var3"
      ],
      "metadata": {
        "colab": {
          "base_uri": "https://localhost:8080/"
        },
        "id": "Jq-64vqAomGe",
        "outputId": "9c83bf14-eed6-4633-a882-07c35d276c11"
      },
      "execution_count": null,
      "outputs": [
        {
          "output_type": "execute_result",
          "data": {
            "text/plain": [
              "{'User1': {'Name': 'Vignesh', 'Mobile': 98745},\n",
              " 'User2': {'Name': 'Prabhakaran', 'Mobile': 99995},\n",
              " 'User3': {'Name': 'Dharshak', 'Mobile': 90909}}"
            ]
          },
          "metadata": {},
          "execution_count": 91
        }
      ]
    },
    {
      "cell_type": "markdown",
      "source": [
        "# **04/09/2024**"
      ],
      "metadata": {
        "id": "Etk8sOduejrZ"
      }
    },
    {
      "cell_type": "markdown",
      "source": [
        "# **Functions**"
      ],
      "metadata": {
        "id": "qdj8Mn6TeqN9"
      }
    },
    {
      "cell_type": "code",
      "source": [
        "# no return without arguments\n",
        "# no return with arguments\n",
        "# return without arguments\n",
        "# return with arguments\n",
        "# lambda function              Total 9 types of functions"
      ],
      "metadata": {
        "id": "z8PbQxjaemzi"
      },
      "execution_count": null,
      "outputs": []
    },
    {
      "cell_type": "code",
      "source": [
        "# No Return Without Arguments\n",
        "# def is a keyword define\n",
        "def vignesh():\n",
        "    var = int(input())\n",
        "    var1 = int(input())\n",
        "    print(var+var1)"
      ],
      "metadata": {
        "id": "aFYtTGDIfhZo"
      },
      "execution_count": null,
      "outputs": []
    },
    {
      "cell_type": "code",
      "source": [
        "vignesh()"
      ],
      "metadata": {
        "colab": {
          "base_uri": "https://localhost:8080/"
        },
        "id": "dCF8uAdYhDc_",
        "outputId": "bf718783-365b-4b76-ff2d-9652332c0e5e"
      },
      "execution_count": null,
      "outputs": [
        {
          "output_type": "stream",
          "name": "stdout",
          "text": [
            "5\n",
            "6\n",
            "11\n"
          ]
        }
      ]
    },
    {
      "cell_type": "code",
      "source": [
        "vignesh()"
      ],
      "metadata": {
        "colab": {
          "base_uri": "https://localhost:8080/"
        },
        "id": "zyouquJ7hqg-",
        "outputId": "6487cf92-d3e7-4527-fd66-81bd3195a56c"
      },
      "execution_count": null,
      "outputs": [
        {
          "output_type": "stream",
          "name": "stdout",
          "text": [
            "6\n",
            "11\n",
            "17\n"
          ]
        }
      ]
    },
    {
      "cell_type": "code",
      "source": [
        "# No Return With Arguments\n",
        "def praba(val1, val2):\n",
        "    total = val1 + val2\n",
        "    print(total)"
      ],
      "metadata": {
        "id": "E1vbALtPhwU8"
      },
      "execution_count": null,
      "outputs": []
    },
    {
      "cell_type": "code",
      "source": [
        "praba(54,45)"
      ],
      "metadata": {
        "colab": {
          "base_uri": "https://localhost:8080/"
        },
        "id": "V4Bm44_viGp6",
        "outputId": "4149d8a8-1ad6-4945-a325-87db11ffd206"
      },
      "execution_count": null,
      "outputs": [
        {
          "output_type": "stream",
          "name": "stdout",
          "text": [
            "99\n"
          ]
        }
      ]
    },
    {
      "cell_type": "code",
      "source": [
        "praba(15,90) # values inside the brackets are called arguments"
      ],
      "metadata": {
        "colab": {
          "base_uri": "https://localhost:8080/"
        },
        "id": "Mt32882Jipcr",
        "outputId": "35465984-73c3-4d85-c1f2-227304b0c0d5"
      },
      "execution_count": null,
      "outputs": [
        {
          "output_type": "stream",
          "name": "stdout",
          "text": [
            "105\n"
          ]
        }
      ]
    },
    {
      "cell_type": "code",
      "source": [
        "# Return Without Arguments\n",
        "def dharshp():\n",
        "    a = int(input())\n",
        "    b = int(input())\n",
        "    c = a * b\n",
        "    print(c)\n",
        "\n",
        "def dharshr():\n",
        "    a = int(input())\n",
        "    b = int(input())\n",
        "    c = a * b\n",
        "    return c"
      ],
      "metadata": {
        "id": "7xWNjHlljCK8"
      },
      "execution_count": null,
      "outputs": []
    },
    {
      "cell_type": "code",
      "source": [
        "dharshp() # print call\n",
        "dharshr() # return call"
      ],
      "metadata": {
        "id": "7v4jbWW3k1q7"
      },
      "execution_count": null,
      "outputs": []
    },
    {
      "cell_type": "code",
      "source": [
        "if dharshp() == 2025:\n",
        "    print(\"Dharshak\")"
      ],
      "metadata": {
        "colab": {
          "base_uri": "https://localhost:8080/"
        },
        "id": "9VJoBtxrjZsC",
        "outputId": "806bab03-464c-418d-a34a-8fb88e2c898b"
      },
      "execution_count": null,
      "outputs": [
        {
          "output_type": "stream",
          "name": "stdout",
          "text": [
            "45\n",
            "45\n",
            "2025\n"
          ]
        }
      ]
    },
    {
      "cell_type": "code",
      "source": [
        "if dharshr() == 2025:\n",
        "    print(\"Return\")"
      ],
      "metadata": {
        "colab": {
          "base_uri": "https://localhost:8080/"
        },
        "id": "fW9xsxwjjpfu",
        "outputId": "32aa6bed-611b-439b-cd75-6b80c8795030"
      },
      "execution_count": null,
      "outputs": [
        {
          "output_type": "stream",
          "name": "stdout",
          "text": [
            "45\n",
            "45\n",
            "Return\n"
          ]
        }
      ]
    },
    {
      "cell_type": "code",
      "source": [
        "# With Return With Argument\n",
        "def sums(a, b):\n",
        "    c = int(a) + int(b)\n",
        "    return c"
      ],
      "metadata": {
        "id": "dgoa5fd4mBJQ"
      },
      "execution_count": null,
      "outputs": []
    },
    {
      "cell_type": "code",
      "source": [
        "sums(79,1000)"
      ],
      "metadata": {
        "colab": {
          "base_uri": "https://localhost:8080/"
        },
        "id": "hGVMWWqnm8hK",
        "outputId": "a1eb517c-3671-46ec-8e1f-9b9c9084dbab"
      },
      "execution_count": null,
      "outputs": [
        {
          "output_type": "execute_result",
          "data": {
            "text/plain": [
              "1079"
            ]
          },
          "metadata": {},
          "execution_count": 34
        }
      ]
    },
    {
      "cell_type": "code",
      "source": [
        "sums(\"ho\",'la')"
      ],
      "metadata": {
        "colab": {
          "base_uri": "https://localhost:8080/",
          "height": 36
        },
        "id": "R_MDnsvFnCGQ",
        "outputId": "d31a434d-09e9-4ec5-c46d-5f9c43d10dba"
      },
      "execution_count": null,
      "outputs": [
        {
          "output_type": "execute_result",
          "data": {
            "text/plain": [
              "'hola'"
            ],
            "application/vnd.google.colaboratory.intrinsic+json": {
              "type": "string"
            }
          },
          "metadata": {},
          "execution_count": 35
        }
      ]
    },
    {
      "cell_type": "code",
      "source": [
        "sums(\"1\",\"2\")"
      ],
      "metadata": {
        "colab": {
          "base_uri": "https://localhost:8080/",
          "height": 36
        },
        "id": "Q0pw_NvhnLVn",
        "outputId": "36c28527-2f56-4933-cfd6-c52bc1e2bac5"
      },
      "execution_count": null,
      "outputs": [
        {
          "output_type": "execute_result",
          "data": {
            "text/plain": [
              "'12'"
            ],
            "application/vnd.google.colaboratory.intrinsic+json": {
              "type": "string"
            }
          },
          "metadata": {},
          "execution_count": 38
        }
      ]
    },
    {
      "cell_type": "code",
      "source": [
        "sums(\"1\",\"2\")"
      ],
      "metadata": {
        "colab": {
          "base_uri": "https://localhost:8080/"
        },
        "id": "J3VG0xcenZcG",
        "outputId": "4c2616ca-34d4-4e7c-8037-96811930f889"
      },
      "execution_count": null,
      "outputs": [
        {
          "output_type": "execute_result",
          "data": {
            "text/plain": [
              "3"
            ]
          },
          "metadata": {},
          "execution_count": 41
        }
      ]
    },
    {
      "cell_type": "code",
      "source": [
        "c = 90 + sums(45,45)\n",
        "print(c)"
      ],
      "metadata": {
        "colab": {
          "base_uri": "https://localhost:8080/"
        },
        "id": "CeEcqgjmmR2Z",
        "outputId": "656ba3a6-ce41-4dd0-a6ab-d4595306ed6f"
      },
      "execution_count": null,
      "outputs": [
        {
          "output_type": "stream",
          "name": "stdout",
          "text": [
            "180\n"
          ]
        }
      ]
    },
    {
      "cell_type": "code",
      "source": [
        "def var(x):\n",
        "    y = x + 10\n",
        "    return y"
      ],
      "metadata": {
        "id": "sRxJ2raGpcWn"
      },
      "execution_count": null,
      "outputs": []
    },
    {
      "cell_type": "code",
      "source": [
        "var(10)"
      ],
      "metadata": {
        "colab": {
          "base_uri": "https://localhost:8080/"
        },
        "id": "3Jp1pyXjp045",
        "outputId": "5da4b481-f258-4573-9609-2cbe482b4445"
      },
      "execution_count": null,
      "outputs": [
        {
          "output_type": "execute_result",
          "data": {
            "text/plain": [
              "20"
            ]
          },
          "metadata": {},
          "execution_count": 13
        }
      ]
    },
    {
      "cell_type": "code",
      "source": [
        "# lambda function\n",
        "var1 = lambda x: x + 10\n",
        "\n",
        "# var1 -> Function Name\n",
        "# lambda -> keyword for lambda function creation\n",
        "# x -> represents the argument\n",
        "# remaining logical code\n",
        "# it returns the answer value"
      ],
      "metadata": {
        "id": "ffZI7e8yoYjD"
      },
      "execution_count": null,
      "outputs": []
    },
    {
      "cell_type": "code",
      "source": [
        "print(var1(10))"
      ],
      "metadata": {
        "colab": {
          "base_uri": "https://localhost:8080/"
        },
        "id": "vB-PyVibpB0W",
        "outputId": "1ac452d8-8dd4-4566-ea3d-455626313d54"
      },
      "execution_count": null,
      "outputs": [
        {
          "output_type": "stream",
          "name": "stdout",
          "text": [
            "20\n"
          ]
        }
      ]
    },
    {
      "cell_type": "markdown",
      "source": [
        "# **Task**"
      ],
      "metadata": {
        "id": "mojZgLz9r4Cw"
      }
    },
    {
      "cell_type": "code",
      "source": [
        "# Requirements\n",
        "\n",
        "# three names as input\n",
        "# move to function\n",
        "# three names print in list\n",
        "# do you want to add any other name as question y/n\n",
        "# if y get input as name in infinity name and update the list\n",
        "# if input is enter empty means break\n",
        "# print the all the names  in list\n",
        "# n means thank you\n",
        "# print existing names in list"
      ],
      "metadata": {
        "id": "un1YeyfWy-wW"
      },
      "execution_count": null,
      "outputs": []
    },
    {
      "cell_type": "code",
      "source": [
        "def tnai(m1, m2, m3):\n",
        "    total = m1+ m2 + m3\n",
        "    average = total / 3\n",
        "    return total, average\n",
        "\n",
        "def tnaf(m1, m2, m3):\n",
        "    total = m1+ m2 + m3\n",
        "    average = total / 3\n",
        "    return total, average\n",
        "\n",
        "def nameStr(n1, n2, n3):\n",
        "\n",
        "    list1 = [n1, n2, n3]\n",
        "\n",
        "    res = input(\"Do you want to add any other name y/n: \")\n",
        "    if res == \"y\":\n",
        "        while True:\n",
        "            names = input(\"Enter the name: \")\n",
        "            if names :\n",
        "                list1.append(names)\n",
        "            else:\n",
        "                return list1\n",
        "                break\n",
        "    elif res == \"n\":\n",
        "        return list1, \"Thank You\"\n",
        "\n",
        "\n",
        "\n"
      ],
      "metadata": {
        "id": "drUsvyRftOEk"
      },
      "execution_count": null,
      "outputs": []
    },
    {
      "cell_type": "code",
      "source": [
        "input_res = input(\"Enter Your Choice float/int/string:  \")\n",
        "\n",
        "if input_res == \"float\":\n",
        "\n",
        "        Mark_1 = float(input(\"Mark1: \"))\n",
        "        Mark_2 = float(input(\"Mark2: \"))\n",
        "        Mark_3 = float(input(\"Mark3: \"))\n",
        "\n",
        "        print(tnaf(Mark_1, Mark_2, Mark_3))\n",
        "\n",
        "elif input_res == \"int\":\n",
        "\n",
        "        Mark_x = int(input(\"Markx: \"))\n",
        "        Mark_y = int(input(\"Marky: \"))\n",
        "        Mark_z = int(input(\"Markz: \"))\n",
        "\n",
        "        print(tnai(Mark_x, Mark_y, Mark_z))\n",
        "\n",
        "elif input_res == \"string\":\n",
        "\n",
        "       name1 = input(\"Enter the Name1: \")\n",
        "       name2 = input(\"Enter the Name2: \")\n",
        "       name3 = input(\"Enter the Name3: \")\n",
        "\n",
        "       print(nameStr(name1, name2, name3))\n",
        "\n",
        "\n",
        "else:\n",
        "    print(\"Enter the Given Choice\")\n",
        "\n"
      ],
      "metadata": {
        "colab": {
          "base_uri": "https://localhost:8080/"
        },
        "id": "wgasR4yIqIcV",
        "outputId": "72c558de-9a50-4631-e4e6-4ce723f208f3"
      },
      "execution_count": null,
      "outputs": [
        {
          "output_type": "stream",
          "name": "stdout",
          "text": [
            "Enter Your Choice float/int/string:  string\n",
            "Enter the Name1: asfdjkasd\n",
            "Enter the Name2: kasjdfsa\n",
            "Enter the Name3: jksadff\n",
            "Do you want to add any other name y/n: y\n",
            "Enter the name: aadsfkjas\n",
            "Enter the name: sfsdfas\n",
            "Enter the name: \n",
            "['asfdjkasd', 'kasjdfsa', 'jksadff', 'aadsfkjas', 'sfsdfas']\n"
          ]
        }
      ]
    },
    {
      "cell_type": "markdown",
      "source": [
        "# **Oops Concepts in Python**"
      ],
      "metadata": {
        "id": "wXY11xEt25Wi"
      }
    },
    {
      "cell_type": "code",
      "source": [
        "# Blueprint of Code\n",
        "# Constructor -> Object"
      ],
      "metadata": {
        "id": "ZxKXK5pgzNE8"
      },
      "execution_count": null,
      "outputs": []
    },
    {
      "cell_type": "code",
      "source": [
        "class Ironman: # class -> constructor, it was creating the object\n",
        "    def __init__(self): # it is invisible function in a class\n",
        "        pass\n",
        "\n",
        "    name = \"Dharshak\" # -> attributes\n",
        "    id   = 1          # -> attributes"
      ],
      "metadata": {
        "id": "BtCRXson3Pqg"
      },
      "execution_count": null,
      "outputs": []
    },
    {
      "cell_type": "code",
      "source": [
        "mark1 = Ironman() # represents the object (a variable assigns to a class, it was object)"
      ],
      "metadata": {
        "id": "GWnDELjq3nmd"
      },
      "execution_count": null,
      "outputs": []
    },
    {
      "cell_type": "code",
      "source": [
        "mark1 # represent system memory value"
      ],
      "metadata": {
        "colab": {
          "base_uri": "https://localhost:8080/"
        },
        "id": "TSRNcHDi32Mz",
        "outputId": "5aef0849-a628-4c10-8d61-473a82efdf76"
      },
      "execution_count": null,
      "outputs": [
        {
          "output_type": "execute_result",
          "data": {
            "text/plain": [
              "<__main__.Ironman at 0x7f92144faa70>"
            ]
          },
          "metadata": {},
          "execution_count": 23
        }
      ]
    },
    {
      "cell_type": "code",
      "source": [
        "mark1.name"
      ],
      "metadata": {
        "colab": {
          "base_uri": "https://localhost:8080/",
          "height": 36
        },
        "id": "Zhxggtr24WiY",
        "outputId": "1ea67f0f-bdc5-4044-b01c-bd8050ef18dd"
      },
      "execution_count": null,
      "outputs": [
        {
          "output_type": "execute_result",
          "data": {
            "text/plain": [
              "'Dharshak'"
            ],
            "application/vnd.google.colaboratory.intrinsic+json": {
              "type": "string"
            }
          },
          "metadata": {},
          "execution_count": 24
        }
      ]
    },
    {
      "cell_type": "code",
      "source": [
        "mark1.id"
      ],
      "metadata": {
        "colab": {
          "base_uri": "https://localhost:8080/"
        },
        "id": "B_hTMUP05Vis",
        "outputId": "be74411c-8970-4c61-f58b-83275488a2cd"
      },
      "execution_count": null,
      "outputs": [
        {
          "output_type": "execute_result",
          "data": {
            "text/plain": [
              "1"
            ]
          },
          "metadata": {},
          "execution_count": 25
        }
      ]
    },
    {
      "cell_type": "code",
      "source": [
        "dir(Ironman)"
      ],
      "metadata": {
        "colab": {
          "base_uri": "https://localhost:8080/"
        },
        "id": "8XRADet15dRX",
        "outputId": "63c59df8-dff4-4ff4-d388-bba287d6c095"
      },
      "execution_count": null,
      "outputs": [
        {
          "output_type": "execute_result",
          "data": {
            "text/plain": [
              "['__class__',\n",
              " '__delattr__',\n",
              " '__dict__',\n",
              " '__dir__',\n",
              " '__doc__',\n",
              " '__eq__',\n",
              " '__format__',\n",
              " '__ge__',\n",
              " '__getattribute__',\n",
              " '__gt__',\n",
              " '__hash__',\n",
              " '__init__',\n",
              " '__init_subclass__',\n",
              " '__le__',\n",
              " '__lt__',\n",
              " '__module__',\n",
              " '__ne__',\n",
              " '__new__',\n",
              " '__reduce__',\n",
              " '__reduce_ex__',\n",
              " '__repr__',\n",
              " '__setattr__',\n",
              " '__sizeof__',\n",
              " '__str__',\n",
              " '__subclasshook__',\n",
              " '__weakref__',\n",
              " 'id',\n",
              " 'name']"
            ]
          },
          "metadata": {},
          "execution_count": 26
        }
      ]
    },
    {
      "cell_type": "code",
      "source": [
        "class Employees:\n",
        "\n",
        "    def __init__(dharshak, name, id, age, loc): # First default run\n",
        "        dharshak.ID = id\n",
        "        dharshak.NAME = name\n",
        "        dharshak.AGE = age\n",
        "        dharshak.LOC = loc\n",
        "\n",
        "    def show(self):\n",
        "        print(self.ID, self.NAME, self.AGE, self.LOC, self)\n",
        "\n",
        "\n",
        "\n",
        "    def change(self, new_name):\n",
        "        self.NAME = new_name\n",
        "        print(self.ID, self.NAME, self.AGE, self.LOC, self)\n",
        "\n",
        "\n"
      ],
      "metadata": {
        "id": "ndM6HnNt51OD"
      },
      "execution_count": null,
      "outputs": []
    },
    {
      "cell_type": "code",
      "source": [
        "Emp1 = Employees(\"Vignesh\", 1, 23, \"Chennai\")\n",
        "Emp1.show()\n"
      ],
      "metadata": {
        "colab": {
          "base_uri": "https://localhost:8080/"
        },
        "id": "Xa4Msz1n54_i",
        "outputId": "97b54fa8-e0d2-488a-d474-df1cd96acd75"
      },
      "execution_count": null,
      "outputs": [
        {
          "output_type": "stream",
          "name": "stdout",
          "text": [
            "1 Vignesh 23 Chennai <__main__.Employees object at 0x7ed3af62ac50>\n"
          ]
        }
      ]
    },
    {
      "cell_type": "code",
      "source": [
        "Emp1 = Employees(\"Vignesh\", 1, 23, \"Chennai\")"
      ],
      "metadata": {
        "id": "I4Bpv-6h6pWq"
      },
      "execution_count": null,
      "outputs": []
    },
    {
      "cell_type": "code",
      "source": [
        "Emp1 # <__main__.Employees at 0x7f92143d4cd0>"
      ],
      "metadata": {
        "colab": {
          "base_uri": "https://localhost:8080/"
        },
        "id": "af1Vwt_v7FSP",
        "outputId": "915b1009-c10a-4159-8d17-2e97ab895dff"
      },
      "execution_count": null,
      "outputs": [
        {
          "output_type": "execute_result",
          "data": {
            "text/plain": [
              "<__main__.Employees at 0x7f92143d4cd0>"
            ]
          },
          "metadata": {},
          "execution_count": 64
        }
      ]
    },
    {
      "cell_type": "code",
      "source": [
        "Emp1.NAME = \"Dharshak\""
      ],
      "metadata": {
        "id": "jcMo5LBgCsmV"
      },
      "execution_count": null,
      "outputs": []
    },
    {
      "cell_type": "code",
      "source": [
        "Emp1.NAME"
      ],
      "metadata": {
        "colab": {
          "base_uri": "https://localhost:8080/",
          "height": 36
        },
        "id": "j6CvI-wqC1rk",
        "outputId": "91951435-f58f-4f15-c802-00dcc6d819de"
      },
      "execution_count": null,
      "outputs": [
        {
          "output_type": "execute_result",
          "data": {
            "text/plain": [
              "'Dharshak'"
            ],
            "application/vnd.google.colaboratory.intrinsic+json": {
              "type": "string"
            }
          },
          "metadata": {},
          "execution_count": 66
        }
      ]
    },
    {
      "cell_type": "code",
      "source": [
        "Emp1"
      ],
      "metadata": {
        "colab": {
          "base_uri": "https://localhost:8080/"
        },
        "id": "-QlOjtIVC4uo",
        "outputId": "76dba9d1-c553-4662-fe4f-2d4eb8b16196"
      },
      "execution_count": null,
      "outputs": [
        {
          "output_type": "execute_result",
          "data": {
            "text/plain": [
              "<__main__.Employees at 0x7f92143d4cd0>"
            ]
          },
          "metadata": {},
          "execution_count": 67
        }
      ]
    },
    {
      "cell_type": "code",
      "source": [
        "Emp1.ID,Emp1.NAME"
      ],
      "metadata": {
        "colab": {
          "base_uri": "https://localhost:8080/"
        },
        "id": "qgBpZyb07JXn",
        "outputId": "35175a3e-b923-461f-de0c-f6f610af7043"
      },
      "execution_count": null,
      "outputs": [
        {
          "output_type": "execute_result",
          "data": {
            "text/plain": [
              "(1, 'Vignesh')"
            ]
          },
          "metadata": {},
          "execution_count": 47
        }
      ]
    },
    {
      "cell_type": "code",
      "source": [
        "Emp1.show()"
      ],
      "metadata": {
        "colab": {
          "base_uri": "https://localhost:8080/"
        },
        "id": "j3PVUH3J9iLI",
        "outputId": "be755731-9fc5-4bb6-b9ab-0efb2e485068"
      },
      "execution_count": null,
      "outputs": [
        {
          "output_type": "stream",
          "name": "stdout",
          "text": [
            "1 Vignesh 23 Chennai <__main__.Employees object at 0x7f92145428c0>\n"
          ]
        }
      ]
    },
    {
      "cell_type": "code",
      "source": [
        "Emp2 = Employees(\"Prabhakaran\", 2, 34, \"Pondicherry\")"
      ],
      "metadata": {
        "id": "exRWr_sMAIJK"
      },
      "execution_count": null,
      "outputs": []
    },
    {
      "cell_type": "code",
      "source": [
        "Emp2.show()"
      ],
      "metadata": {
        "colab": {
          "base_uri": "https://localhost:8080/"
        },
        "id": "eHT1P9hkAkyd",
        "outputId": "761b714c-d5d9-431b-c43b-3c492429c13e"
      },
      "execution_count": null,
      "outputs": [
        {
          "output_type": "stream",
          "name": "stdout",
          "text": [
            "2 Prabhakaran 34 Pondicherry <__main__.Employees object at 0x7f9214543ee0>\n"
          ]
        }
      ]
    },
    {
      "cell_type": "code",
      "source": [
        "Emp2.NAME, Emp1.NAME"
      ],
      "metadata": {
        "colab": {
          "base_uri": "https://localhost:8080/"
        },
        "id": "RFD13v84AX9s",
        "outputId": "e4f5571d-c6ad-4c15-9099-583cd6a7134a"
      },
      "execution_count": null,
      "outputs": [
        {
          "output_type": "execute_result",
          "data": {
            "text/plain": [
              "('Prabhakaran', 'Vignesh')"
            ]
          },
          "metadata": {},
          "execution_count": 51
        }
      ]
    },
    {
      "cell_type": "markdown",
      "source": [
        "# **06/09/2024**"
      ],
      "metadata": {
        "id": "ZJqekq7o-kyU"
      }
    },
    {
      "cell_type": "markdown",
      "source": [
        "# **Inheritance**"
      ],
      "metadata": {
        "id": "dkjDXZej_WN4"
      }
    },
    {
      "cell_type": "code",
      "source": [
        "class Employees:\n",
        "\n",
        "    def __init__(dharshak, name, id, age, loc): # First default run\n",
        "        dharshak.ID = id\n",
        "        dharshak.NAME = name\n",
        "        dharshak.AGE = age\n",
        "        dharshak.LOC = loc\n",
        "\n",
        "    def show(self):\n",
        "        print(self.ID, \"Microsoft\", self.NAME, self.AGE, self.LOC, self)\n",
        "\n",
        "    def change(self, new_name):\n",
        "        self.NAME = new_name\n",
        "\n",
        "\n",
        "\n",
        "class Zoho(Employees):\n",
        "\n",
        "    def __init__(self, name, id, age):\n",
        "        self.NAME = name\n",
        "        self.ID = id\n",
        "        self.AGE = age\n",
        "\n",
        "    # def show(self):\n",
        "    #     print(self.ID, \"Zoho\", self.NAME, self.AGE)"
      ],
      "metadata": {
        "id": "b-5yS5vLAjyX"
      },
      "execution_count": null,
      "outputs": []
    },
    {
      "cell_type": "code",
      "source": [
        "obj1 = Zoho(\"Dharshak\", 1, 27)"
      ],
      "metadata": {
        "id": "FeVwSLG3_Z0p"
      },
      "execution_count": null,
      "outputs": []
    },
    {
      "cell_type": "code",
      "source": [
        "obj1.show()"
      ],
      "metadata": {
        "colab": {
          "base_uri": "https://localhost:8080/",
          "height": 263
        },
        "id": "WmXd64eY_zmL",
        "outputId": "432fd46b-2e7e-4ca3-9240-1fd804de125e"
      },
      "execution_count": null,
      "outputs": [
        {
          "output_type": "error",
          "ename": "AttributeError",
          "evalue": "'Zoho' object has no attribute 'LOC'",
          "traceback": [
            "\u001b[0;31m---------------------------------------------------------------------------\u001b[0m",
            "\u001b[0;31mAttributeError\u001b[0m                            Traceback (most recent call last)",
            "\u001b[0;32m<ipython-input-49-e8e3bf44759c>\u001b[0m in \u001b[0;36m<cell line: 1>\u001b[0;34m()\u001b[0m\n\u001b[0;32m----> 1\u001b[0;31m \u001b[0mobj1\u001b[0m\u001b[0;34m.\u001b[0m\u001b[0mshow\u001b[0m\u001b[0;34m(\u001b[0m\u001b[0;34m)\u001b[0m\u001b[0;34m\u001b[0m\u001b[0;34m\u001b[0m\u001b[0m\n\u001b[0m",
            "\u001b[0;32m<ipython-input-47-3099cc8de186>\u001b[0m in \u001b[0;36mshow\u001b[0;34m(self)\u001b[0m\n\u001b[1;32m      8\u001b[0m \u001b[0;34m\u001b[0m\u001b[0m\n\u001b[1;32m      9\u001b[0m     \u001b[0;32mdef\u001b[0m \u001b[0mshow\u001b[0m\u001b[0;34m(\u001b[0m\u001b[0mself\u001b[0m\u001b[0;34m)\u001b[0m\u001b[0;34m:\u001b[0m\u001b[0;34m\u001b[0m\u001b[0;34m\u001b[0m\u001b[0m\n\u001b[0;32m---> 10\u001b[0;31m         \u001b[0mprint\u001b[0m\u001b[0;34m(\u001b[0m\u001b[0mself\u001b[0m\u001b[0;34m.\u001b[0m\u001b[0mID\u001b[0m\u001b[0;34m,\u001b[0m \u001b[0;34m\"Microsoft\"\u001b[0m\u001b[0;34m,\u001b[0m \u001b[0mself\u001b[0m\u001b[0;34m.\u001b[0m\u001b[0mNAME\u001b[0m\u001b[0;34m,\u001b[0m \u001b[0mself\u001b[0m\u001b[0;34m.\u001b[0m\u001b[0mAGE\u001b[0m\u001b[0;34m,\u001b[0m \u001b[0mself\u001b[0m\u001b[0;34m.\u001b[0m\u001b[0mLOC\u001b[0m\u001b[0;34m,\u001b[0m \u001b[0mself\u001b[0m\u001b[0;34m)\u001b[0m\u001b[0;34m\u001b[0m\u001b[0;34m\u001b[0m\u001b[0m\n\u001b[0m\u001b[1;32m     11\u001b[0m \u001b[0;34m\u001b[0m\u001b[0m\n\u001b[1;32m     12\u001b[0m     \u001b[0;32mdef\u001b[0m \u001b[0mchange\u001b[0m\u001b[0;34m(\u001b[0m\u001b[0mself\u001b[0m\u001b[0;34m,\u001b[0m \u001b[0mnew_name\u001b[0m\u001b[0;34m)\u001b[0m\u001b[0;34m:\u001b[0m\u001b[0;34m\u001b[0m\u001b[0;34m\u001b[0m\u001b[0m\n",
            "\u001b[0;31mAttributeError\u001b[0m: 'Zoho' object has no attribute 'LOC'"
          ]
        }
      ]
    },
    {
      "cell_type": "code",
      "source": [
        "obj1.change(\"Tony Stark\")"
      ],
      "metadata": {
        "id": "EGNGaNL9Bmqv"
      },
      "execution_count": null,
      "outputs": []
    },
    {
      "cell_type": "code",
      "source": [
        "obj1.show()"
      ],
      "metadata": {
        "colab": {
          "base_uri": "https://localhost:8080/"
        },
        "id": "d9tv3OwwB9-G",
        "outputId": "d6b8db8f-26ba-43e3-93ec-19a5743d9bd5"
      },
      "execution_count": null,
      "outputs": [
        {
          "output_type": "stream",
          "name": "stdout",
          "text": [
            "1 Zoho Tony Stark 27\n"
          ]
        }
      ]
    },
    {
      "cell_type": "markdown",
      "source": [
        "# **09/09/2024**"
      ],
      "metadata": {
        "id": "Wt1DoHVsRW17"
      }
    },
    {
      "cell_type": "markdown",
      "source": [
        "# **Library Management**"
      ],
      "metadata": {
        "id": "sw_DwlWuDxfh"
      }
    },
    {
      "cell_type": "code",
      "source": [
        "# Two Classes\n",
        "# 1. Library Class -> a) Book Availability, b) Book Issued/Lending c) Adding The Book\n",
        "# 2. Customer Class -> a) Requesting the Book b) Return The Book"
      ],
      "metadata": {
        "id": "QTHBWngKIVJj"
      },
      "execution_count": null,
      "outputs": []
    },
    {
      "cell_type": "code",
      "source": [
        "# Requirements\n",
        "# Welcome To The Pondy Library :)\n",
        "# Choose Your Option\n",
        "# 1. Show All Book\n",
        "# 2. Lend A Book\n",
        "# 3. Requesting A Book\n",
        "# 4. Add The Book To The Customer\n",
        "# 5. Return A Book\n",
        "# 6. Exit"
      ],
      "metadata": {
        "id": "-9_8uQc3Dthp"
      },
      "execution_count": null,
      "outputs": []
    },
    {
      "cell_type": "code",
      "source": [
        "class Library:\n",
        "\n",
        "    def __init__(self):\n",
        "        self.BOOKLIST = [\"Tamil\", \"English\", \"Maths\", \"Science\", \"Social\"]\n",
        "\n",
        "    def show(self):\n",
        "        print(self.BOOKLIST)\n",
        "\n",
        "    def book_lend(self,rqd_book):\n",
        "\n",
        "        if rqd_book in self.BOOKLIST:\n",
        "            print(\"book lended successfully\")\n",
        "            self.BOOKLIST.remove(rqd_book)\n",
        "            return rqd_book\n",
        "        else:\n",
        "            print(\"book is not available\")\n",
        "\n",
        "    def return_book(self,rt_book):\n",
        "        self.BOOKLIST.append(rt_book)\n",
        "        return self.BOOKLIST\n",
        "\n",
        "\n",
        "\n",
        "class Customer:\n",
        "    def __init__(self):\n",
        "        self.cust_book_list = []\n",
        "\n",
        "    def show(self):\n",
        "        print(self.cust_book_list)\n",
        "\n",
        "    def requesting_book(self):\n",
        "        req_book = input(\"enter the book name:\")\n",
        "        return req_book\n",
        "\n",
        "    def lended_cust_book(self,l_book):\n",
        "        self.cust_book_list.append(l_book)"
      ],
      "metadata": {
        "id": "WOjd-ANnIKGm"
      },
      "execution_count": null,
      "outputs": []
    },
    {
      "cell_type": "code",
      "source": [
        "ObjLib = Library()\n",
        "ObjCus = Customer()"
      ],
      "metadata": {
        "id": "4CJeZ6DJUm2E"
      },
      "execution_count": null,
      "outputs": []
    },
    {
      "cell_type": "code",
      "source": [
        "print(\"Welcome To The Pondy Library :)\")\n",
        "print()\n",
        "print(\"Choose Your Option Below\")\n",
        "print(\"1. Show All Book\")\n",
        "print(\"2. Lend A Book\")\n",
        "#print(\"3. Requesting A Book\")\n",
        "#print(\"4. Add The Book To The Customer\")\n",
        "print(\"3.show customer book list\")\n",
        "print(\"4. Return A Book\")\n",
        "print(\"5. Exit\")\n",
        "print()\n",
        "\n",
        "while True:\n",
        "    options = int(input(\"Enter the Option 1/2/3/4/5/6: \"))\n",
        "    print()\n",
        "    if options == 1:\n",
        "        ObjLib.show()\n",
        "\n",
        "    elif options == 2:\n",
        "        rqd_book=ObjCus.requesting_book()\n",
        "        #print(rqd_book)\n",
        "        lended_book = ObjLib.book_lend(rqd_book)\n",
        "        ObjCus.lended_cust_book(lended_book)\n",
        "\n",
        "    elif options == 3:\n",
        "        ObjCus.show()\n",
        "\n",
        "    elif options == 4:\n",
        "        rt_book = input(\"Enter the book you have to return: \")\n",
        "        rted_book = ObjLib.return_book(rt_book)\n",
        "        print(\"Successfully Added\", rted_book)\n",
        "\n",
        "    elif options == 5:\n",
        "        print(\"thank you\")\n",
        "        break"
      ],
      "metadata": {
        "colab": {
          "base_uri": "https://localhost:8080/",
          "height": 1000
        },
        "id": "azLYIoIGH3bq",
        "outputId": "1735cdaa-def3-4255-e1bf-246fe99a1879"
      },
      "execution_count": null,
      "outputs": [
        {
          "output_type": "stream",
          "name": "stdout",
          "text": [
            "Welcome To The Pondy Library :)\n",
            "\n",
            "Choose Your Option Below\n",
            "1. Show All Book\n",
            "2. Lend A Book\n",
            "3.show customer book list\n",
            "4. Return A Book\n",
            "5. Exit\n",
            "\n",
            "Enter the Option 1/2/3/4/5/6: 1\n",
            "\n",
            "['Tamil', 'English', 'Maths', 'Science', 'Social']\n",
            "Enter the Option 1/2/3/4/5/6: 2\n",
            "\n",
            "enter the book name:Tamil\n",
            "book lended successfully\n",
            "Enter the Option 1/2/3/4/5/6: 2\n",
            "\n",
            "enter the book name:Tamil\n",
            "book is not available\n",
            "Enter the Option 1/2/3/4/5/6: 1\n",
            "\n",
            "['English', 'Maths', 'Science', 'Social']\n",
            "Enter the Option 1/2/3/4/5/6: 2\n",
            "\n",
            "enter the book name:Social\n",
            "book lended successfully\n",
            "Enter the Option 1/2/3/4/5/6: 1\n",
            "\n",
            "['English', 'Maths', 'Science']\n",
            "Enter the Option 1/2/3/4/5/6: 3\n",
            "\n",
            "['Tamil', None, 'Social']\n",
            "Enter the Option 1/2/3/4/5/6: 4\n",
            "\n",
            "Enter the book you have to return: Tamil\n",
            "Successfully Added ['English', 'Maths', 'Science', 'Tamil']\n",
            "Enter the Option 1/2/3/4/5/6: 3\n",
            "\n",
            "['Tamil', None, 'Social']\n"
          ]
        },
        {
          "output_type": "error",
          "ename": "KeyboardInterrupt",
          "evalue": "Interrupted by user",
          "traceback": [
            "\u001b[0;31m---------------------------------------------------------------------------\u001b[0m",
            "\u001b[0;31mKeyboardInterrupt\u001b[0m                         Traceback (most recent call last)",
            "\u001b[0;32m<ipython-input-12-49e6c634e1a6>\u001b[0m in \u001b[0;36m<cell line: 13>\u001b[0;34m()\u001b[0m\n\u001b[1;32m     12\u001b[0m \u001b[0;34m\u001b[0m\u001b[0m\n\u001b[1;32m     13\u001b[0m \u001b[0;32mwhile\u001b[0m \u001b[0;32mTrue\u001b[0m\u001b[0;34m:\u001b[0m\u001b[0;34m\u001b[0m\u001b[0;34m\u001b[0m\u001b[0m\n\u001b[0;32m---> 14\u001b[0;31m     \u001b[0moptions\u001b[0m \u001b[0;34m=\u001b[0m \u001b[0mint\u001b[0m\u001b[0;34m(\u001b[0m\u001b[0minput\u001b[0m\u001b[0;34m(\u001b[0m\u001b[0;34m\"Enter the Option 1/2/3/4/5/6: \"\u001b[0m\u001b[0;34m)\u001b[0m\u001b[0;34m)\u001b[0m\u001b[0;34m\u001b[0m\u001b[0;34m\u001b[0m\u001b[0m\n\u001b[0m\u001b[1;32m     15\u001b[0m     \u001b[0mprint\u001b[0m\u001b[0;34m(\u001b[0m\u001b[0;34m)\u001b[0m\u001b[0;34m\u001b[0m\u001b[0;34m\u001b[0m\u001b[0m\n\u001b[1;32m     16\u001b[0m     \u001b[0;32mif\u001b[0m \u001b[0moptions\u001b[0m \u001b[0;34m==\u001b[0m \u001b[0;36m1\u001b[0m\u001b[0;34m:\u001b[0m\u001b[0;34m\u001b[0m\u001b[0;34m\u001b[0m\u001b[0m\n",
            "\u001b[0;32m/usr/local/lib/python3.10/dist-packages/ipykernel/kernelbase.py\u001b[0m in \u001b[0;36mraw_input\u001b[0;34m(self, prompt)\u001b[0m\n\u001b[1;32m    849\u001b[0m                 \u001b[0;34m\"raw_input was called, but this frontend does not support input requests.\"\u001b[0m\u001b[0;34m\u001b[0m\u001b[0;34m\u001b[0m\u001b[0m\n\u001b[1;32m    850\u001b[0m             )\n\u001b[0;32m--> 851\u001b[0;31m         return self._input_request(str(prompt),\n\u001b[0m\u001b[1;32m    852\u001b[0m             \u001b[0mself\u001b[0m\u001b[0;34m.\u001b[0m\u001b[0m_parent_ident\u001b[0m\u001b[0;34m,\u001b[0m\u001b[0;34m\u001b[0m\u001b[0;34m\u001b[0m\u001b[0m\n\u001b[1;32m    853\u001b[0m             \u001b[0mself\u001b[0m\u001b[0;34m.\u001b[0m\u001b[0m_parent_header\u001b[0m\u001b[0;34m,\u001b[0m\u001b[0;34m\u001b[0m\u001b[0;34m\u001b[0m\u001b[0m\n",
            "\u001b[0;32m/usr/local/lib/python3.10/dist-packages/ipykernel/kernelbase.py\u001b[0m in \u001b[0;36m_input_request\u001b[0;34m(self, prompt, ident, parent, password)\u001b[0m\n\u001b[1;32m    893\u001b[0m             \u001b[0;32mexcept\u001b[0m \u001b[0mKeyboardInterrupt\u001b[0m\u001b[0;34m:\u001b[0m\u001b[0;34m\u001b[0m\u001b[0;34m\u001b[0m\u001b[0m\n\u001b[1;32m    894\u001b[0m                 \u001b[0;31m# re-raise KeyboardInterrupt, to truncate traceback\u001b[0m\u001b[0;34m\u001b[0m\u001b[0;34m\u001b[0m\u001b[0m\n\u001b[0;32m--> 895\u001b[0;31m                 \u001b[0;32mraise\u001b[0m \u001b[0mKeyboardInterrupt\u001b[0m\u001b[0;34m(\u001b[0m\u001b[0;34m\"Interrupted by user\"\u001b[0m\u001b[0;34m)\u001b[0m \u001b[0;32mfrom\u001b[0m \u001b[0;32mNone\u001b[0m\u001b[0;34m\u001b[0m\u001b[0;34m\u001b[0m\u001b[0m\n\u001b[0m\u001b[1;32m    896\u001b[0m             \u001b[0;32mexcept\u001b[0m \u001b[0mException\u001b[0m \u001b[0;32mas\u001b[0m \u001b[0me\u001b[0m\u001b[0;34m:\u001b[0m\u001b[0;34m\u001b[0m\u001b[0;34m\u001b[0m\u001b[0m\n\u001b[1;32m    897\u001b[0m                 \u001b[0mself\u001b[0m\u001b[0;34m.\u001b[0m\u001b[0mlog\u001b[0m\u001b[0;34m.\u001b[0m\u001b[0mwarning\u001b[0m\u001b[0;34m(\u001b[0m\u001b[0;34m\"Invalid Message:\"\u001b[0m\u001b[0;34m,\u001b[0m \u001b[0mexc_info\u001b[0m\u001b[0;34m=\u001b[0m\u001b[0;32mTrue\u001b[0m\u001b[0;34m)\u001b[0m\u001b[0;34m\u001b[0m\u001b[0;34m\u001b[0m\u001b[0m\n",
            "\u001b[0;31mKeyboardInterrupt\u001b[0m: Interrupted by user"
          ]
        }
      ]
    },
    {
      "cell_type": "markdown",
      "source": [
        "# **10/09/2024**"
      ],
      "metadata": {
        "id": "yi90J5wqfton"
      }
    },
    {
      "cell_type": "code",
      "source": [
        "class Library:\n",
        "\n",
        "    def __init__(self):\n",
        "        self.BOOKLIST = [\"Tamil\", \"English\", \"Maths\", \"Science\", \"Social\"]\n",
        "\n",
        "    def show(self):\n",
        "        print(self.BOOKLIST)\n",
        "\n",
        "    def book_lend(self,rqd_book):\n",
        "        if rqd_book in self.BOOKLIST:\n",
        "            print(\"book lended successfully\")\n",
        "            self.BOOKLIST.remove(rqd_book)\n",
        "            return rqd_book\n",
        "        else:\n",
        "            print(\"book is not available\")\n",
        "\n",
        "    def returned_book(self,r_book):\n",
        "        if r_book not in self.BOOKLIST:\n",
        "            self.BOOKLIST.append(r_book)\n",
        "            print(\"book returned sccessfully\")\n",
        "            return r_book\n",
        "\n",
        "\n",
        "\n",
        "class Customer:\n",
        "    def __init__(self):\n",
        "        self.cust_book_list = []\n",
        "\n",
        "    def show(self):\n",
        "        print(self.cust_book_list)\n",
        "\n",
        "    def requesting_book(self):\n",
        "        req_book = input(\"enter the book name:\")\n",
        "        return req_book\n",
        "\n",
        "    def lended_cust_book(self,l_book):\n",
        "        self.cust_book_list.append(l_book)\n",
        "\n",
        "    def return_book(self, r_book):\n",
        "        if r_book in self.cust_book_list:\n",
        "            self.cust_book_list.remove(r_book)\n",
        "            return r_book\n",
        "        else:\n",
        "            print(\"You have already returned\")"
      ],
      "metadata": {
        "id": "E83E7_ixSBQc"
      },
      "execution_count": null,
      "outputs": []
    },
    {
      "cell_type": "code",
      "source": [
        "ObjLib = Library()\n",
        "ObjCus = Customer()"
      ],
      "metadata": {
        "id": "caaCFTvnf17x"
      },
      "execution_count": null,
      "outputs": []
    },
    {
      "cell_type": "code",
      "source": [
        "print(\"Welcome To The Pondy Library :)\")\n",
        "print()\n",
        "print(\"Choose Your Option Below\")\n",
        "print(\"1. Show All Book\")\n",
        "print(\"2. Lend A Book\")\n",
        "#print(\"3. Requesting A Book\")\n",
        "#print(\"4. Add The Book To The Customer\")\n",
        "print(\"3.show customer book list\")\n",
        "print(\"4. Return A Book\")\n",
        "print(\"5. Exit\")\n",
        "print()\n",
        "\n",
        "while True:\n",
        "    options = int(input(\"Enter the Option 1/2/3/4/5/6: \"))\n",
        "    print()\n",
        "    if options == 1:\n",
        "        ObjLib.show()\n",
        "\n",
        "    elif options == 2:\n",
        "        rqd_book = ObjCus.requesting_book()\n",
        "        #print(rqd_book)\n",
        "        lended_book = ObjLib.book_lend(rqd_book)\n",
        "        if lended_book:\n",
        "            ObjCus.lended_cust_book(lended_book)\n",
        "\n",
        "    elif options == 3:\n",
        "        ObjCus.show()\n",
        "\n",
        "    elif options == 4:\n",
        "        r_book = input(\"Enter the book you have to return: \")\n",
        "        returned_book = ObjCus.return_book(r_book)\n",
        "        if returned_book:\n",
        "            rtn_book = ObjLib.returned_book(returned_book)\n",
        "\n",
        "\n",
        "    elif options == 5:\n",
        "        print(\"Thank You\")\n",
        "        break"
      ],
      "metadata": {
        "colab": {
          "base_uri": "https://localhost:8080/"
        },
        "id": "Pw6RyX9Af4Tc",
        "outputId": "7606c93f-a69f-4b5e-a72b-b579a3378009"
      },
      "execution_count": null,
      "outputs": [
        {
          "output_type": "stream",
          "name": "stdout",
          "text": [
            "Welcome To The Pondy Library :)\n",
            "\n",
            "Choose Your Option Below\n",
            "1. Show All Book\n",
            "2. Lend A Book\n",
            "3.show customer book list\n",
            "4. Return A Book\n",
            "5. Exit\n",
            "\n",
            "Enter the Option 1/2/3/4/5/6: 1\n",
            "\n",
            "['Tamil', 'English', 'Maths', 'Science', 'Social']\n",
            "Enter the Option 1/2/3/4/5/6: 2\n",
            "\n",
            "enter the book name:Tamil\n",
            "book lended successfully\n",
            "Enter the Option 1/2/3/4/5/6: 2\n",
            "\n",
            "enter the book name:Maths\n",
            "book lended successfully\n",
            "Enter the Option 1/2/3/4/5/6: 3\n",
            "\n",
            "['Tamil', 'Maths']\n",
            "Enter the Option 1/2/3/4/5/6: 1\n",
            "\n",
            "['English', 'Science', 'Social']\n",
            "Enter the Option 1/2/3/4/5/6: 4\n",
            "\n",
            "Enter the book you have to return: Maths\n",
            "book returned sccessfully\n",
            "Enter the Option 1/2/3/4/5/6: 1\n",
            "\n",
            "['English', 'Science', 'Social', 'Maths']\n",
            "Enter the Option 1/2/3/4/5/6: 3\n",
            "\n",
            "['Tamil']\n",
            "Enter the Option 1/2/3/4/5/6: 5\n",
            "\n",
            "Thank You\n"
          ]
        }
      ]
    },
    {
      "cell_type": "markdown",
      "source": [
        "# **12/09/2024**"
      ],
      "metadata": {
        "id": "IyYogG5Drs3I"
      }
    },
    {
      "cell_type": "markdown",
      "source": [
        "# **Linked List**"
      ],
      "metadata": {
        "id": "oPmC5-yJorpD"
      }
    },
    {
      "cell_type": "markdown",
      "source": [
        "![LLdrawio.png](data:image/png;base64,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)"
      ],
      "metadata": {
        "id": "EPv9n_b2uwdb"
      }
    },
    {
      "cell_type": "code",
      "source": [
        "class Node:\n",
        "\n",
        "    def __init__(self,data):\n",
        "        self.datavalue = data\n",
        "        self.nextvalue = None\n",
        "\n",
        "class LinkedList:\n",
        "\n",
        "    def __init__(self):\n",
        "        self.headvalue = None\n",
        "\n",
        "    def show(self):\n",
        "        temp = self.headvalue    # self.headvalue = n1.headvalue = temp\n",
        "        while temp is not None:\n",
        "            print(temp.datavalue)   # n1.headvalue.datavalue = \"Prabhakaran\"\n",
        "            temp = temp.nextvalue   # temp = n1.headvalue.nextvalue\n"
      ],
      "metadata": {
        "id": "hsRufqRvo8rj"
      },
      "execution_count": null,
      "outputs": []
    },
    {
      "cell_type": "code",
      "source": [
        "n1 = LinkedList()"
      ],
      "metadata": {
        "id": "rKXhkS_Jxy-v"
      },
      "execution_count": null,
      "outputs": []
    },
    {
      "cell_type": "code",
      "source": [
        "n1"
      ],
      "metadata": {
        "colab": {
          "base_uri": "https://localhost:8080/"
        },
        "id": "C-RPra2OyEPk",
        "outputId": "d240d157-c915-4649-d1bc-e0055e8cba19"
      },
      "execution_count": null,
      "outputs": [
        {
          "output_type": "execute_result",
          "data": {
            "text/plain": [
              "<__main__.LinkedList at 0x79b436cee950>"
            ]
          },
          "metadata": {},
          "execution_count": 53
        }
      ]
    },
    {
      "cell_type": "code",
      "source": [
        "print(n1.headvalue)"
      ],
      "metadata": {
        "colab": {
          "base_uri": "https://localhost:8080/"
        },
        "id": "3LXExppuya_N",
        "outputId": "f1f3ae16-e882-4ff7-8b90-2c5f574dc634"
      },
      "execution_count": null,
      "outputs": [
        {
          "output_type": "stream",
          "name": "stdout",
          "text": [
            "None\n"
          ]
        }
      ]
    },
    {
      "cell_type": "code",
      "source": [
        "n1.headvalue = Node(\"Prabhakaran\")"
      ],
      "metadata": {
        "id": "6oFp7li7z0se"
      },
      "execution_count": null,
      "outputs": []
    },
    {
      "cell_type": "code",
      "source": [
        "n1.headvalue"
      ],
      "metadata": {
        "colab": {
          "base_uri": "https://localhost:8080/"
        },
        "id": "EWM-2gBv0MRW",
        "outputId": "bc6d5b00-4063-41f5-ce74-a8720dde18b7"
      },
      "execution_count": null,
      "outputs": [
        {
          "output_type": "execute_result",
          "data": {
            "text/plain": [
              "<__main__.Node at 0x79b46832bb50>"
            ]
          },
          "metadata": {},
          "execution_count": 16
        }
      ]
    },
    {
      "cell_type": "code",
      "source": [
        "n1.headvalue.datavalue"
      ],
      "metadata": {
        "colab": {
          "base_uri": "https://localhost:8080/",
          "height": 36
        },
        "id": "duQ9SmNh0Rsb",
        "outputId": "4bdaab5d-7221-4606-f003-66180a8fc649"
      },
      "execution_count": null,
      "outputs": [
        {
          "output_type": "execute_result",
          "data": {
            "text/plain": [
              "'Prabhakaran'"
            ],
            "application/vnd.google.colaboratory.intrinsic+json": {
              "type": "string"
            }
          },
          "metadata": {},
          "execution_count": 17
        }
      ]
    },
    {
      "cell_type": "code",
      "source": [
        "print(n1.headvalue.nextvalue)"
      ],
      "metadata": {
        "colab": {
          "base_uri": "https://localhost:8080/"
        },
        "id": "lZDNgQ1K1zUh",
        "outputId": "d41ad773-4694-4105-8678-e34b63c70346"
      },
      "execution_count": null,
      "outputs": [
        {
          "output_type": "stream",
          "name": "stdout",
          "text": [
            "<__main__.Node object at 0x79b436cec820>\n"
          ]
        }
      ]
    },
    {
      "cell_type": "code",
      "source": [
        "n2 = Node(\"Vignesh\")\n",
        "n3 = Node(\"Dharshak\")\n",
        "n4 = Node(\"Tony\")\n",
        "n5 = Node(\"Steve\")"
      ],
      "metadata": {
        "id": "fC5vEyv82HKM"
      },
      "execution_count": null,
      "outputs": []
    },
    {
      "cell_type": "code",
      "source": [
        "n1.headvalue.nextvalue = n2"
      ],
      "metadata": {
        "id": "FbNL0FvT2jQJ"
      },
      "execution_count": null,
      "outputs": []
    },
    {
      "cell_type": "code",
      "source": [
        "n1.headvalue.nextvalue,n2"
      ],
      "metadata": {
        "colab": {
          "base_uri": "https://localhost:8080/"
        },
        "id": "2ABDsn5N3hco",
        "outputId": "568e6a4c-d90a-42ee-da97-ba893fb7fea3"
      },
      "execution_count": null,
      "outputs": [
        {
          "output_type": "execute_result",
          "data": {
            "text/plain": [
              "(<__main__.Node at 0x79b436cee530>, <__main__.Node at 0x79b436cee530>)"
            ]
          },
          "metadata": {},
          "execution_count": 26
        }
      ]
    },
    {
      "cell_type": "code",
      "source": [
        "print(n1.headvalue.nextvalue.nextvalue)"
      ],
      "metadata": {
        "colab": {
          "base_uri": "https://localhost:8080/"
        },
        "id": "tAJm_3Qn34ub",
        "outputId": "21f995c7-98bd-4d19-8346-7075f339089f"
      },
      "execution_count": null,
      "outputs": [
        {
          "output_type": "stream",
          "name": "stdout",
          "text": [
            "None\n"
          ]
        }
      ]
    },
    {
      "cell_type": "code",
      "source": [
        "n1.headvalue.nextvalue.nextvalue"
      ],
      "metadata": {
        "id": "IYwkBMMB5O21"
      },
      "execution_count": null,
      "outputs": []
    },
    {
      "cell_type": "code",
      "source": [
        "n2.datavalue, n2.nextvalue"
      ],
      "metadata": {
        "colab": {
          "base_uri": "https://localhost:8080/"
        },
        "id": "ItEbrPU35vuK",
        "outputId": "c7365fe9-bc4b-46d3-d392-e922e6092d9a"
      },
      "execution_count": null,
      "outputs": [
        {
          "output_type": "execute_result",
          "data": {
            "text/plain": [
              "('Vignesh', None)"
            ]
          },
          "metadata": {},
          "execution_count": 36
        }
      ]
    },
    {
      "cell_type": "code",
      "source": [
        "n2.nextvalue = n3"
      ],
      "metadata": {
        "id": "uW3Cokb24zHC"
      },
      "execution_count": null,
      "outputs": []
    },
    {
      "cell_type": "code",
      "source": [
        "n3, n2.nextvalue"
      ],
      "metadata": {
        "colab": {
          "base_uri": "https://localhost:8080/"
        },
        "id": "ABNXwbNh6w7q",
        "outputId": "636179ae-3f06-4387-fd7a-bed88a062e75"
      },
      "execution_count": null,
      "outputs": [
        {
          "output_type": "execute_result",
          "data": {
            "text/plain": [
              "(<__main__.Node at 0x79b46832ba90>, <__main__.Node at 0x79b46832ba90>)"
            ]
          },
          "metadata": {},
          "execution_count": 40
        }
      ]
    },
    {
      "cell_type": "code",
      "source": [
        "n1.headvalue.nextvalue.nextvalue.datavalue"
      ],
      "metadata": {
        "colab": {
          "base_uri": "https://localhost:8080/",
          "height": 36
        },
        "id": "qbT4ve_A63xz",
        "outputId": "72f3a1ab-af99-49c8-8951-fd0c01b8020f"
      },
      "execution_count": null,
      "outputs": [
        {
          "output_type": "execute_result",
          "data": {
            "text/plain": [
              "'Dharshak'"
            ],
            "application/vnd.google.colaboratory.intrinsic+json": {
              "type": "string"
            }
          },
          "metadata": {},
          "execution_count": 44
        }
      ]
    },
    {
      "cell_type": "code",
      "source": [
        "n3.nextvalue = n4"
      ],
      "metadata": {
        "id": "qY07ygIA7cpM"
      },
      "execution_count": null,
      "outputs": []
    },
    {
      "cell_type": "code",
      "source": [
        "n4.nextvalue = n5"
      ],
      "metadata": {
        "id": "u1E7-ndx7gL0"
      },
      "execution_count": null,
      "outputs": []
    },
    {
      "cell_type": "code",
      "source": [
        "n4.datavalue"
      ],
      "metadata": {
        "colab": {
          "base_uri": "https://localhost:8080/",
          "height": 36
        },
        "id": "NsPzxz_P8sP6",
        "outputId": "7a6c5a53-3d4e-43a7-84c3-e898fcf912f6"
      },
      "execution_count": null,
      "outputs": [
        {
          "output_type": "execute_result",
          "data": {
            "text/plain": [
              "'Tony'"
            ],
            "application/vnd.google.colaboratory.intrinsic+json": {
              "type": "string"
            }
          },
          "metadata": {},
          "execution_count": 47
        }
      ]
    },
    {
      "cell_type": "code",
      "source": [
        "n1.headvalue.nextvalue.nextvalue.nextvalue.datavalue"
      ],
      "metadata": {
        "colab": {
          "base_uri": "https://localhost:8080/",
          "height": 36
        },
        "id": "3rpnV37O8wxp",
        "outputId": "4dd4de53-ae75-4635-ee98-965086a63ad7"
      },
      "execution_count": null,
      "outputs": [
        {
          "output_type": "execute_result",
          "data": {
            "text/plain": [
              "'Tony'"
            ],
            "application/vnd.google.colaboratory.intrinsic+json": {
              "type": "string"
            }
          },
          "metadata": {},
          "execution_count": 48
        }
      ]
    },
    {
      "cell_type": "code",
      "source": [
        "n1.headvalue.nextvalue.nextvalue.nextvalue.nextvalue.datavalue"
      ],
      "metadata": {
        "colab": {
          "base_uri": "https://localhost:8080/",
          "height": 36
        },
        "id": "Fsh9APWm84pm",
        "outputId": "1c839397-f741-443f-afd9-e17105b20895"
      },
      "execution_count": null,
      "outputs": [
        {
          "output_type": "execute_result",
          "data": {
            "text/plain": [
              "'Steve'"
            ],
            "application/vnd.google.colaboratory.intrinsic+json": {
              "type": "string"
            }
          },
          "metadata": {},
          "execution_count": 49
        }
      ]
    },
    {
      "cell_type": "code",
      "source": [
        "n1.show()"
      ],
      "metadata": {
        "colab": {
          "base_uri": "https://localhost:8080/"
        },
        "id": "tOAOAdvw93us",
        "outputId": "a1b8da49-210f-42e7-a393-198ae8760cfb"
      },
      "execution_count": null,
      "outputs": [
        {
          "output_type": "stream",
          "name": "stdout",
          "text": [
            "Prabhakaran\n",
            "Vignesh\n",
            "Dharshak\n",
            "Tony\n",
            "Steve\n"
          ]
        }
      ]
    },
    {
      "cell_type": "markdown",
      "source": [
        "# **16/09/2024**"
      ],
      "metadata": {
        "id": "f6CLc4UQSWkr"
      }
    },
    {
      "cell_type": "markdown",
      "source": [],
      "metadata": {
        "id": "xP2lcnAqUcAP"
      }
    },
    {
      "cell_type": "markdown",
      "source": [
        "![LLdrawio.png](data:image/png;base64,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)"
      ],
      "metadata": {
        "id": "d8orXufrUcRO"
      }
    },
    {
      "cell_type": "code",
      "source": [
        "class Node:\n",
        "\n",
        "    def __init__(self,data):\n",
        "        self.datavalue = data\n",
        "        self.nextvalue = None\n",
        "\n",
        "class LinkedList:\n",
        "\n",
        "    def __init__(self):\n",
        "        self.headvalue = None\n",
        "\n",
        "    def show(self):\n",
        "        temp = self.headvalue    # self.headvalue = n1.headvalue = temp\n",
        "        while temp is not None:\n",
        "            print(temp.datavalue)   # n1.headvalue.datavalue = \"Prabhakaran\"\n",
        "            temp = temp.nextvalue   # temp = n1.headvalue.nextvalue\n",
        "\n",
        "    def insert_bwt(self, old_node, new_data):\n",
        "        new_node = Node(new_data)\n",
        "        new_node.nextvalue = old_node.nextvalue\n",
        "        old_node.nextvalue = new_node\n",
        "\n",
        "    def insert_beg(self, new_data):\n",
        "        new_node = Node(new_data)\n",
        "        new_node.nextvalue = self.headvalue\n",
        "        self.headvalue = new_node\n",
        "\n",
        "    def insert_last(self, old_node, new_data):\n",
        "        new_node = Node(new_data)\n",
        "        old_node.nextvalue = new_node\n",
        ""
      ],
      "metadata": {
        "id": "yywScaVvSpr7"
      },
      "execution_count": 101,
      "outputs": []
    },
    {
      "cell_type": "code",
      "source": [
        "n1 = LinkedList()\n",
        "\n",
        "n1.headvalue = Node(\"Prabhakaran\")\n",
        "n2 = Node(\"Vignesh\")\n",
        "n3 = Node(\"Dharshak\")\n",
        "n4 = Node(\"Tony\")\n",
        "n5 = Node(\"Steve\")\n",
        "\n",
        "n1.headvalue.nextvalue = n2\n",
        "n2.nextvalue = n3\n",
        "n3.nextvalue = n4\n",
        "n4.nextvalue = n5"
      ],
      "metadata": {
        "id": "g3uOl2GGSpsA"
      },
      "execution_count": 102,
      "outputs": []
    },
    {
      "cell_type": "code",
      "source": [
        "n1.show()"
      ],
      "metadata": {
        "colab": {
          "base_uri": "https://localhost:8080/"
        },
        "id": "P57Kq9gjdOC_",
        "outputId": "6146fed2-8f7d-4d51-fc89-e609b1657c87"
      },
      "execution_count": 103,
      "outputs": [
        {
          "output_type": "stream",
          "name": "stdout",
          "text": [
            "Prabhakaran\n",
            "Vignesh\n",
            "Dharshak\n",
            "Tony\n",
            "Steve\n"
          ]
        }
      ]
    },
    {
      "cell_type": "code",
      "source": [
        "n1.insert_bwt(n3,\"Thanos\")"
      ],
      "metadata": {
        "id": "PnIxBMvsdbDv"
      },
      "execution_count": 104,
      "outputs": []
    },
    {
      "cell_type": "code",
      "source": [
        "n1.insert_bwt(n1.headvalue,\"Thor\")"
      ],
      "metadata": {
        "id": "4gezJYFOi0Yc"
      },
      "execution_count": 105,
      "outputs": []
    },
    {
      "cell_type": "code",
      "source": [
        "n1.show()"
      ],
      "metadata": {
        "colab": {
          "base_uri": "https://localhost:8080/"
        },
        "id": "-oPHMPebdvbK",
        "outputId": "3c366993-a802-4684-b142-1e226a146721"
      },
      "execution_count": 106,
      "outputs": [
        {
          "output_type": "stream",
          "name": "stdout",
          "text": [
            "Prabhakaran\n",
            "Thor\n",
            "Vignesh\n",
            "Dharshak\n",
            "Thanos\n",
            "Tony\n",
            "Steve\n"
          ]
        }
      ]
    },
    {
      "cell_type": "code",
      "source": [
        "n1.insert_beg(\"Adam\")"
      ],
      "metadata": {
        "id": "HstXvMnWkTzY"
      },
      "execution_count": 107,
      "outputs": []
    },
    {
      "cell_type": "code",
      "source": [
        "n1.show()"
      ],
      "metadata": {
        "colab": {
          "base_uri": "https://localhost:8080/"
        },
        "id": "rYwaDG0kkgag",
        "outputId": "d963ae11-5798-40de-a912-b5483922505c"
      },
      "execution_count": 108,
      "outputs": [
        {
          "output_type": "stream",
          "name": "stdout",
          "text": [
            "Adam\n",
            "Prabhakaran\n",
            "Thor\n",
            "Vignesh\n",
            "Dharshak\n",
            "Thanos\n",
            "Tony\n",
            "Steve\n"
          ]
        }
      ]
    },
    {
      "cell_type": "code",
      "source": [
        "n5.datavalue"
      ],
      "metadata": {
        "colab": {
          "base_uri": "https://localhost:8080/",
          "height": 36
        },
        "id": "UXe9avXqnzWW",
        "outputId": "3da1e5be-39bc-446a-9ecb-3e029d11285a"
      },
      "execution_count": 109,
      "outputs": [
        {
          "output_type": "execute_result",
          "data": {
            "text/plain": [
              "'Steve'"
            ],
            "application/vnd.google.colaboratory.intrinsic+json": {
              "type": "string"
            }
          },
          "metadata": {},
          "execution_count": 109
        }
      ]
    },
    {
      "cell_type": "code",
      "source": [
        "n1.insert_last(n5, \"Eve\")"
      ],
      "metadata": {
        "id": "0bc-UGqenjBF"
      },
      "execution_count": 110,
      "outputs": []
    },
    {
      "cell_type": "code",
      "source": [
        "n1.show()"
      ],
      "metadata": {
        "colab": {
          "base_uri": "https://localhost:8080/"
        },
        "id": "ZupSSwDfn72-",
        "outputId": "cfca6f19-7524-45db-aa87-f86ee3cbaa90"
      },
      "execution_count": 111,
      "outputs": [
        {
          "output_type": "stream",
          "name": "stdout",
          "text": [
            "Adam\n",
            "Prabhakaran\n",
            "Thor\n",
            "Vignesh\n",
            "Dharshak\n",
            "Thanos\n",
            "Tony\n",
            "Steve\n",
            "Eve\n"
          ]
        }
      ]
    }
  ]
}